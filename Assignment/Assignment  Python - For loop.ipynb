{
 "cells": [
  {
   "cell_type": "code",
   "execution_count": 2,
   "id": "37a3a946-3683-43a2-b581-b3b8c5a41d46",
   "metadata": {},
   "outputs": [
    {
     "name": "stdout",
     "output_type": "stream",
     "text": [
      "1\n",
      "2\n",
      "3\n",
      "4\n",
      "5\n",
      "6\n",
      "7\n",
      "8\n",
      "9\n",
      "10\n"
     ]
    }
   ],
   "source": [
    "#Write a Python program to print the numbers from 1 to 10 using a `for` loop.\n",
    "for i in range(1, 11):\n",
    "    print(i)"
   ]
  },
  {
   "cell_type": "code",
   "execution_count": 3,
   "id": "b8077d5b-2229-4e98-b25c-de5559e4308a",
   "metadata": {},
   "outputs": [
    {
     "name": "stdout",
     "output_type": "stream",
     "text": [
      "sum of all numbers in a list is : 45\n"
     ]
    }
   ],
   "source": [
    "#Create a program that calculates the sum of all numbers in a list using a `for` loop.\n",
    "numList= [1,2,3,4,5,6,7,8,9]\n",
    "total= 0\n",
    "for i in numList :\n",
    "    total +=i\n",
    "    \n",
    "print(\"sum of all numbers in a list is :\",total)\n",
    "    "
   ]
  },
  {
   "cell_type": "code",
   "execution_count": 7,
   "id": "1e705582-ab9e-47a8-b0db-483499534a50",
   "metadata": {},
   "outputs": [
    {
     "name": "stdout",
     "output_type": "stream",
     "text": [
      "reverse string is-  WP olleh\n"
     ]
    }
   ],
   "source": [
    "#Write a program to print the characters of a string in reverse order using a `for` loop.\n",
    "str1 = \"hello PW\"\n",
    "rstr= \"\"\n",
    "for i in str1[::-1] :\n",
    "        rstr+= i\n",
    "    \n",
    "print(\"reverse string is- \",rstr)\n",
    "    \n"
   ]
  },
  {
   "cell_type": "code",
   "execution_count": 6,
   "id": "b5d4a42d-50d3-412e-80da-f621fc813ad3",
   "metadata": {},
   "outputs": [
    {
     "name": "stdin",
     "output_type": "stream",
     "text": [
      "enter number to find its factorial 5\n"
     ]
    },
    {
     "name": "stdout",
     "output_type": "stream",
     "text": [
      "The factorial of 5 is --  120.\n"
     ]
    }
   ],
   "source": [
    "#Develop a program that finds the factorial of a given number using a `for` loop.\n",
    "num = int(input(\"enter number to find its factorial\"))\n",
    "factorial = 1\n",
    "for i in range (1,num+1):\n",
    "    factorial *= i\n",
    "print(f\"The factorial of {num} is --  {factorial}.\")\n",
    "        "
   ]
  },
  {
   "cell_type": "code",
   "execution_count": null,
   "id": "fc689b7e-ced1-4395-b98d-52c666f96580",
   "metadata": {},
   "outputs": [],
   "source": [
    "#Create a program to print the multiplication table of a given number using a `for` loop.\n",
    "num = int(input(\"enter number to find its multiplication table\"))\n",
    "table = 1\n",
    "print(\"table of -\",num)\n",
    "for i in range (1,11):\n",
    "    table = num * i \n",
    "    print(table)\n",
    "\n",
    "        "
   ]
  },
  {
   "cell_type": "code",
   "execution_count": null,
   "id": "351d402e-962e-4176-a9ca-0b20f99cb8ff",
   "metadata": {},
   "outputs": [],
   "source": [
    "#Write a program that counts the number of even and odd numbers in a list using a `for` loop.\n",
    "numlist = [1,2,3,5,6,7,8]\n",
    "even,odd = 0,0\n",
    "for i in range(1,len(numlist)+1):\n",
    "    if(i%2 ==0):\n",
    "        even+=1\n",
    "    else:\n",
    "        odd+=1\n",
    "print(f\"total even numbers in list are {even}, and off number are {odd}\")"
   ]
  },
  {
   "cell_type": "code",
   "execution_count": null,
   "id": "de2637e7-cfcc-4899-90f9-5bfad1745cfc",
   "metadata": {},
   "outputs": [],
   "source": [
    "#Develop a program that prints the squares of numbers from 1 to 5 using a `for` loop.\n",
    "square = 0\n",
    "for i in range(1,6):\n",
    "    square = i**2\n",
    "    print(f\"square of {i} is {square}\")\n",
    "\n"
   ]
  },
  {
   "cell_type": "code",
   "execution_count": null,
   "id": "f43b69cf-c67f-490d-95ce-e1fcdf235048",
   "metadata": {},
   "outputs": [],
   "source": [
    "#Create a program to find the length of a string without using the `len()` function.\n",
    "str1= \"hellllo\"\n",
    "count = 0\n",
    "for char in str1:\n",
    "    count += 1\n",
    "\n",
    "print(f\"The length of the string is {count}.\")\n"
   ]
  },
  {
   "cell_type": "code",
   "execution_count": null,
   "id": "c018d8e4-ee5e-4d85-aefd-35db93e82b6a",
   "metadata": {},
   "outputs": [],
   "source": [
    "#Write a program that calculates the average of a list of numbers using a `for` loop.\n",
    "\n",
    "numbers = [10, 20, 30, 40, 50]\n",
    "total = 0\n",
    "for num in numbers:\n",
    "    total += num\n",
    "\n",
    "# Calculate the average\n",
    "average = total / len(numbers)\n",
    "\n",
    "print(f\"The average of the numbers in the list is {average}.\")"
   ]
  },
  {
   "cell_type": "code",
   "execution_count": null,
   "id": "d7c0fdea-5433-44f4-88a8-583e17fd1341",
   "metadata": {},
   "outputs": [],
   "source": [
    "#Develop a program that prints the first `n` Fibonacci numbers using a `for` loop.\n",
    "n = int(input(\"How many Fibonacci numbers do you want to print? \"))\n",
    "\n",
    "a, b = 0, 1\n",
    "\n",
    "for _ in range(n):\n",
    "    print(a)\n",
    "    a, b = b, a + b\n"
   ]
  },
  {
   "cell_type": "code",
   "execution_count": null,
   "id": "fd96cc22-e23e-4433-9603-ebe1343ad3d9",
   "metadata": {},
   "outputs": [],
   "source": [
    "#Write a program to check if a given list contains any duplicates using a `for` loop.\n",
    "numbers = [1, 2, 3, 4, 5]\n",
    "\n",
    "if len(numbers) != len(set(numbers)):\n",
    "    print(\"The list contains duplicates.\")\n",
    "else:\n",
    "    print(\"The list does not contain duplicates.\")\n"
   ]
  },
  {
   "cell_type": "code",
   "execution_count": null,
   "id": "fb61a5c2-9c5c-4ca2-a136-7bcd3f05c575",
   "metadata": {},
   "outputs": [],
   "source": [
    "#Create a program that prints the prime numbers in a given range using a `for` loop.\n",
    "start = int(input(\"Enter the start of the range: \"))\n",
    "end = int(input(\"Enter the end of the range: \"))\n",
    "\n",
    "for num in range(start, end + 1):\n",
    "    is_prime = True\n",
    "    if num <= 1:\n",
    "        continue\n",
    "    for i in range(2, num):\n",
    "        if num % i == 0:\n",
    "            is_prime = False\n",
    "            break\n",
    "    if is_prime:\n",
    "        print(num)            "
   ]
  },
  {
   "cell_type": "code",
   "execution_count": null,
   "id": "2cbc7edc-24e5-4029-983c-93b9f23c0daa",
   "metadata": {},
   "outputs": [],
   "source": [
    "#Develop a program that counts the number of vowels in a string using a `for` loop.\n",
    "str1 = \"hello\"\n",
    "vowels = \"aeiou\"\n",
    "vowel =0\n",
    "for i in str1:\n",
    "    if i in vowels :\n",
    "        vowel+= 1 \n",
    "print(f\"total vowels numbers in {str1} are {vowel}\")"
   ]
  },
  {
   "cell_type": "code",
   "execution_count": null,
   "id": "f97c8165-e14b-4381-ad5e-4fcc96698d85",
   "metadata": {},
   "outputs": [],
   "source": [
    "#Write a program to find the maximum element in a 2D list using a nested `for` loop.\n",
    "twodlist = [\n",
    "    [1, 2, 3],\n",
    "    [4, 15, 6],\n",
    "    [7, 8, 9]\n",
    "]\n",
    "max_element = twodlist[0][0] \n",
    "\n",
    "for row in twodlist:\n",
    "    for num in row:\n",
    "        if num > max_element:\n",
    "            max_element = num\n",
    "print(f\"The maximum element in the 2D list is: {max_element}\")\n"
   ]
  },
  {
   "cell_type": "code",
   "execution_count": null,
   "id": "565387da-5e9c-4f33-aa56-1ee71a77fdaf",
   "metadata": {},
   "outputs": [],
   "source": [
    "#Create a program that removes all occurrences of a specific element from a list using a `for` loop.\n",
    "numbers = [1, 2, 3, 2, 4, 2, 5]\n",
    "element_to_remove = 2\n",
    "new_numbers = []\n",
    "for num in numbers:\n",
    "    if num != element_to_remove:\n",
    "        new_numbers.append(num)\n",
    "print(new_numbers)\n",
    "           "
   ]
  },
  {
   "cell_type": "code",
   "execution_count": null,
   "id": "76df6761-146d-4d2f-b03c-e3bfd8af2958",
   "metadata": {},
   "outputs": [],
   "source": [
    "#Develop a program that generates a multiplication table for numbers from 1 to 5 using a nested `for` loop.\n",
    "number = 0\n",
    "table = 1\n",
    "\n",
    "for num in range(1,6):\n",
    "    print(\"table of -\",num)\n",
    "    for i in range (1,11):\n",
    "        table = num * i \n",
    "        print(table)\n",
    "#confused about output,writing alternative code:\n",
    "\n",
    "limit = 5\n",
    "for i in range(1, limit + 1):\n",
    "    for j in range(1, limit + 1):\n",
    "        print(i * j, end=\"\\t\")  \n",
    "    print()  "
   ]
  },
  {
   "cell_type": "code",
   "execution_count": null,
   "id": "77a0b2de-cf05-46c5-afc3-32698d9e9fad",
   "metadata": {},
   "outputs": [],
   "source": [
    "#17 Write a program that converts a list of Fahrenheit temperatures to Celsius using a `for` loop.\n",
    "ftemp = [158.0,\t176.0,194.0,212.0]\n",
    "ctemp= []\n",
    "for i in ftemp:\n",
    "    ctemp.append((i - 32) * 5/9)\n",
    "   \n",
    "print(\"Fahrenheit Temperatures:\", ftemp)\n",
    "print(\"Celsius Temperatures:\", ctemp)"
   ]
  },
  {
   "cell_type": "code",
   "execution_count": null,
   "id": "bb044fa6-13b4-4e3b-a139-93d346a6b09d",
   "metadata": {},
   "outputs": [],
   "source": [
    "#18 Create a program to print the common elements from two lists using a `for` loop.\n",
    "l1= [1,2,3,4,5]\n",
    "l2= [3,5,6,7]\n",
    "common= []\n",
    "for i in l1:\n",
    "    if i in l2:\n",
    "        common.append(i)\n",
    "print(f\"common elements from {l1} and {l2} are {common}\")\n"
   ]
  },
  {
   "cell_type": "code",
   "execution_count": null,
   "id": "e0f6138c-c49a-4862-8008-cae6a048301e",
   "metadata": {},
   "outputs": [],
   "source": [
    "#19 Develop a program that prints the pattern of right-angled triangles using a `for` loop. Use ‘*’ to draw the pattern\n",
    "\n",
    "height = int(input(\"Enter the height of the triangle: \"))\n",
    "\n",
    "for i in range(1, height + 1):\n",
    "    for j in range(i):\n",
    "        print('*', end=' ')\n",
    "    print()  "
   ]
  },
  {
   "cell_type": "code",
   "execution_count": null,
   "id": "a7ac9b3a-2ed1-42b3-8deb-ccd19c953b1e",
   "metadata": {},
   "outputs": [],
   "source": [
    "#20. Write a program to find the greatest common divisor (GCD) of two numbers using a `for` loop.\n",
    "num1 = int(input(\"Enter the first number: \"))\n",
    "num2 = int(input(\"Enter the second number: \"))\n",
    "gcd = 1\n",
    "for i in range(2, min(num1, num2) + 1):\n",
    "    if num1 % i == 0 and num2 % i == 0:\n",
    "        gcd = i\n",
    "print(f\"The GCD of {num1} and {num2} is {gcd}.\")\n"
   ]
  },
  {
   "cell_type": "code",
   "execution_count": 10,
   "id": "5279c8b7-e059-45a3-aada-6416a7c49a34",
   "metadata": {},
   "outputs": [
    {
     "name": "stdout",
     "output_type": "stream",
     "text": [
      "some of digits in list [123, 456, 789] is 45\n"
     ]
    }
   ],
   "source": [
    "#21. Create a program that calculates the sum of the digits of numbers in a list using a list comprehension.\n",
    "numbers = [123, 456, 789]\n",
    "newstr= \"\"\n",
    "sum_of_digits_list = 0\n",
    "for num in numbers:\n",
    "    newstr = str(num)\n",
    "    for digit in newstr:\n",
    "        sum_of_digits_list += int(digit)\n",
    "\n",
    "print(f\"some of digits in list {numbers} is {sum_of_digits_list}\")\n"
   ]
  },
  {
   "cell_type": "code",
   "execution_count": 21,
   "id": "8bcc118e-6a70-4038-8ea8-2c47a13579ac",
   "metadata": {},
   "outputs": [
    {
     "name": "stdin",
     "output_type": "stream",
     "text": [
      "Enter a number to find its prime factors:  20\n"
     ]
    },
    {
     "name": "stdout",
     "output_type": "stream",
     "text": [
      "Prime factors are: [2, 4, 5, 10]\n"
     ]
    }
   ],
   "source": [
    "#22. Write a program to find the prime factors of a given number using a `for` loop and list comprehension.\n",
    "number = int(input(\"Enter a number to find its prime factors: \"))\n",
    "\n",
    "prime_factors = []\n",
    "for i in range(2, number + 1):\n",
    "    if number % i == 0 and number !=i:\n",
    "        prime_factors.append(i)\n",
    "\n",
    "print(f\"Prime factors are: {prime_factors}\")\n"
   ]
  },
  {
   "cell_type": "code",
   "execution_count": 25,
   "id": "db2e2796-e510-426a-b75e-61503ae1fe90",
   "metadata": {},
   "outputs": [
    {
     "name": "stdout",
     "output_type": "stream",
     "text": [
      "[1, 2, 3, 4, 5]\n"
     ]
    }
   ],
   "source": [
    "#23. Develop a program that extracts unique elements from a list and stores them in a new list using a list comprehension.\n",
    "numbers = [1, 2, 2, 3, 4, 4, 5]\n",
    "uniquenum=[]\n",
    "for num in numbers:\n",
    "    if num not in uniquenum:\n",
    "        uniquenum.append(num)\n",
    "\n",
    "print(uniquenum)\n",
    "\n"
   ]
  },
  {
   "cell_type": "code",
   "execution_count": 33,
   "id": "9cd0e981-611d-4315-b5bc-89bbe4344dea",
   "metadata": {},
   "outputs": [
    {
     "name": "stdin",
     "output_type": "stream",
     "text": [
      "enter  specified limit to generate palindromic numbers  50\n"
     ]
    },
    {
     "name": "stdout",
     "output_type": "stream",
     "text": [
      "Palindromic numbers up to 50 are: [1, 2, 3, 4, 5, 6, 7, 8, 9, 11, 22, 33, 44]\n"
     ]
    }
   ],
   "source": [
    "#24. Create a program that generates a list of all palindromic numbers up to a specified limit using a list comprehension.\n",
    "num = int(input(\"enter  specified limit to generate palindromic numbers \"))\n",
    "palindromic= []\n",
    "for i in range(1,num+1):\n",
    "    if i== int(str(i)[::-1]):\n",
    "        palindromic.append(i)\n",
    "\n",
    "print(f\"Palindromic numbers up to {num} are: {palindromic}\")\n"
   ]
  },
  {
   "cell_type": "code",
   "execution_count": 34,
   "id": "3d4db5ff-fe4c-4876-a6c9-3e423d0cf40e",
   "metadata": {},
   "outputs": [
    {
     "name": "stdout",
     "output_type": "stream",
     "text": [
      "[1, 2, 3, 4, 5, 6, 7, 8]\n"
     ]
    }
   ],
   "source": [
    "#25. Write a program to flatten a nested list using list comprehension.\n",
    "nested_list = [[1, 2, 3], [4, 5], [6, 7, 8]]\n",
    "flattened_list = []\n",
    "for sublist in nested_list:\n",
    "    for item in sublist:\n",
    "         flattened_list.append(item)\n",
    "\n",
    "print(flattened_list)"
   ]
  },
  {
   "cell_type": "code",
   "execution_count": 35,
   "id": "392f6b58-38aa-41f2-9dfd-aa734d28c2c0",
   "metadata": {},
   "outputs": [
    {
     "name": "stdout",
     "output_type": "stream",
     "text": [
      "Sum of even numbers: 30\n",
      "Sum of odd numbers: 25\n"
     ]
    }
   ],
   "source": [
    "#26. Develop a program that computes the sum of even and odd numbers in a list separately using list comprehension.\n",
    "numbers = [1, 2, 3, 4, 5, 6, 7, 8, 9, 10]\n",
    "sum_even,sum_odd = 0,0\n",
    "for num in numbers:\n",
    "    if num % 2 == 0:\n",
    "        sum_even += num\n",
    "    if num % 2 != 0:\n",
    "        sum_odd+=num\n",
    "\n",
    "\n",
    "print(f\"Sum of even numbers: {sum_even}\")\n",
    "print(f\"Sum of odd numbers: {sum_odd}\")"
   ]
  },
  {
   "cell_type": "code",
   "execution_count": 37,
   "id": "b72f435c-d734-4a74-b60b-82d1e135a964",
   "metadata": {},
   "outputs": [
    {
     "name": "stdout",
     "output_type": "stream",
     "text": [
      "list of squares of odd numbers between 1 and 10 is - [1, 9, 25, 49, 81]\n"
     ]
    }
   ],
   "source": [
    "#27. Create a program that generates a list of squares of odd numbers between 1 and 10 using list comprehension.\n",
    "oddlist= []\n",
    "\n",
    "for i in range(1,11):\n",
    "    if i%2 != 0:\n",
    "        oddlist.append(i*i)\n",
    "print(\"list of squares of odd numbers between 1 and 10 is -\",oddlist)       \n",
    "    "
   ]
  },
  {
   "cell_type": "code",
   "execution_count": 39,
   "id": "2c1ad61d-6c80-42bc-87c8-cfb10c1b5af6",
   "metadata": {},
   "outputs": [
    {
     "name": "stdout",
     "output_type": "stream",
     "text": [
      "{'a': 1, 'b': 2, 'c': 3, 'd': 4}\n"
     ]
    }
   ],
   "source": [
    "#28. Write a program that combines two lists into a dictionary using list comprehension.\n",
    "keys = ['a', 'b', 'c', 'd']\n",
    "values = [1, 2, 3, 4]\n",
    "result_dict = {keys[i]: values[i] for i in range(len(keys))}\n",
    "\n",
    "print(result_dict)"
   ]
  },
  {
   "cell_type": "code",
   "execution_count": 42,
   "id": "5c38dbc0-4d95-458a-9f27-71deba063eac",
   "metadata": {},
   "outputs": [
    {
     "name": "stdout",
     "output_type": "stream",
     "text": [
      "total vowels numbers in helloooooooooo are ['e', 'o', 'o', 'o', 'o', 'o', 'o', 'o', 'o', 'o', 'o']\n"
     ]
    }
   ],
   "source": [
    "#29. Develop a program that extracts the vowels from a string and stores them in a list using list comprehension.\n",
    "str1 = \"helloooooooooo\"\n",
    "vowels = \"aeiou\"\n",
    "vowel = []\n",
    "for i in str1:\n",
    "    if i in vowels :\n",
    "        vowel.append(i)\n",
    "print(f\"total vowels numbers in {str1} are {vowel}\")"
   ]
  },
  {
   "cell_type": "code",
   "execution_count": 1,
   "id": "ca40dc2d-3d68-4d8a-9269-f52787865f96",
   "metadata": {},
   "outputs": [
    {
     "name": "stdout",
     "output_type": "stream",
     "text": [
      "['123', '45', '678']\n"
     ]
    }
   ],
   "source": [
    "#30. Create a program that removes all non-numeric characters from a list of strings using list comprehension\n",
    "strings = [\"a1b2c3\", \"d4e5\", \"f6g7h8\"]\n",
    "\n",
    "cleaned_strings = []\n",
    "\n",
    "for s in strings:\n",
    "    numeric_chars = []\n",
    "    for char in s:\n",
    "        if char.isdigit():\n",
    "            numeric_chars.append(char)\n",
    "            \n",
    "    cleaned_string = ''.join(numeric_chars)\n",
    "    cleaned_strings.append(cleaned_string)\n",
    "print(cleaned_strings)"
   ]
  },
  {
   "cell_type": "code",
   "execution_count": 2,
   "id": "acabbe6c-b0e6-40f6-81e3-05b21e710c68",
   "metadata": {},
   "outputs": [
    {
     "name": "stdin",
     "output_type": "stream",
     "text": [
      "Find primes up to:  10\n"
     ]
    },
    {
     "name": "stdout",
     "output_type": "stream",
     "text": [
      "[2, 3, 5, 7]\n"
     ]
    }
   ],
   "source": [
    "#31. Write a program to generate a list of prime numbers using the Sieve of Eratosthenes algorithm and list comprehension.\n",
    "\n",
    "n = int(input(\"Find primes up to: \"))\n",
    "sieve = [True] * (n + 1)\n",
    "for p in range(2, int(n**0.5) + 1):\n",
    "    if sieve[p]:\n",
    "        sieve[p*p::p] = [False] * len(sieve[p*p::p])\n",
    "\n",
    "primes = [i for i, is_prime in enumerate(sieve) if is_prime and i > 1]\n",
    "\n",
    "print(primes)\n"
   ]
  },
  {
   "cell_type": "code",
   "execution_count": 11,
   "id": "b90a121b-776e-4601-94cc-9d45d485e76e",
   "metadata": {},
   "outputs": [
    {
     "name": "stdin",
     "output_type": "stream",
     "text": [
      "Enter the limit for Pythagorean triplets:  20\n"
     ]
    },
    {
     "name": "stdout",
     "output_type": "stream",
     "text": [
      "Pythagorean triplets up to 20 are: [(3, 4, 5), (5, 12, 13), (6, 8, 10), (8, 15, 17), (9, 12, 15), (12, 16, 20)]\n"
     ]
    }
   ],
   "source": [
    "#32. Create a program that generates a list of all Pythagorean triplets up to a specified limit using list comprehension.\n",
    "\n",
    "limit = int(input(\"Enter the limit for Pythagorean triplets: \"))\n",
    "triplets=[]\n",
    "for a in range(1, limit + 1):\n",
    "    for b in range(a, limit + 1):\n",
    "        for c in range(b, limit + 1) :\n",
    "            if a**2 + b**2 == c**2:\n",
    "                st= a, b, c\n",
    "                triplets.append((a, b, c))\n",
    "print(f\"Pythagorean triplets up to {limit} are: {triplets}\")\n"
   ]
  },
  {
   "cell_type": "code",
   "execution_count": 13,
   "id": "5a5ccb29-f2cd-4fdf-a521-fec653497774",
   "metadata": {},
   "outputs": [
    {
     "name": "stdout",
     "output_type": "stream",
     "text": [
      "[(1, 'a'), (1, 'b'), (1, 'c'), (2, 'a'), (2, 'b'), (2, 'c'), (3, 'a'), (3, 'b'), (3, 'c')]\n"
     ]
    }
   ],
   "source": [
    "#33.Develop a program that generates a list of all possible combinations of two lists using list comprehension.\n",
    "list1 = [1, 2, 3]\n",
    "list2 = ['a', 'b', 'c']\n",
    "combinations = []\n",
    "for x in list1:\n",
    "    for y in list2:\n",
    "        combinations.append((x, y))\n",
    "print(combinations)\n",
    "\n"
   ]
  },
  {
   "cell_type": "code",
   "execution_count": 16,
   "id": "77cb4ba5-8a0f-4fbe-a61e-c797812d6015",
   "metadata": {},
   "outputs": [
    {
     "name": "stdout",
     "output_type": "stream",
     "text": [
      "Mean: 6.444444444444445\n",
      "Median: 6\n",
      "Mode: [6]\n"
     ]
    }
   ],
   "source": [
    "#34. Write a program that calculates the mean, median, and mode of a list of numbers using list comprehension.\n",
    "# Sample list of numbers\n",
    "numbers = [4, 5, 6, 6, 6, 7, 7, 8, 9]\n",
    "\n",
    "# Calculate mean\n",
    "total = sum(numbers)\n",
    "mean = total / len(numbers)\n",
    "\n",
    "# Calculate median\n",
    "sorted_numbers = sorted(numbers)\n",
    "middle_index = len(sorted_numbers) // 2\n",
    "if len(sorted_numbers) % 2 == 0:  # even number of elements\n",
    "    median = (sorted_numbers[middle_index - 1] + sorted_numbers[middle_index]) / 2\n",
    "else:  # odd number of elements\n",
    "    median = sorted_numbers[middle_index]\n",
    "\n",
    "# Calculate mode\n",
    "mode_dict = {}\n",
    "for num in numbers:\n",
    "    if num in mode_dict:\n",
    "        mode_dict[num] += 1\n",
    "    else:\n",
    "        mode_dict[num] = 1\n",
    "\n",
    "max_frequency = max(mode_dict.values())\n",
    "mode = []\n",
    "for num, freq in mode_dict.items():\n",
    "    if freq == max_frequency:\n",
    "        mode.append(num)\n",
    "\n",
    "print(f\"Mean: {mean}\")\n",
    "print(f\"Median: {median}\")\n",
    "print(f\"Mode: {mode}\")\n"
   ]
  },
  {
   "cell_type": "code",
   "execution_count": 10,
   "id": "efb9dcad-4999-474b-8492-654eb382bcb8",
   "metadata": {},
   "outputs": [
    {
     "name": "stdin",
     "output_type": "stream",
     "text": [
      "Enter the number of rows for Pascal's Triangle:  5\n"
     ]
    },
    {
     "name": "stdout",
     "output_type": "stream",
     "text": [
      "[1]\n",
      "[1, 1]\n",
      "[1, 2, 1]\n",
      "[1, 3, 3, 1]\n",
      "[1, 4, 6, 4, 1]\n"
     ]
    }
   ],
   "source": [
    "#35. Create a program that generates Pascal's triangle up to a specified number of rows using list comprehension.\n",
    "rows = int(input(\"Enter the number of rows for Pascal's Triangle: \"))\n",
    "triangle = [[1]]\n",
    "for _ in range(1, rows):\n",
    "    next_row = [1] + [triangle[-1][i-1] + triangle[-1][i] for i in range(1, len(triangle[-1]))] + [1]\n",
    "    triangle.append(next_row)\n",
    "for row in triangle:\n",
    "    print(row)\n"
   ]
  },
  {
   "cell_type": "code",
   "execution_count": 9,
   "id": "62853f07-e22a-4957-ba79-ad817ebc92c8",
   "metadata": {},
   "outputs": [
    {
     "name": "stdout",
     "output_type": "stream",
     "text": [
      "Sum of digits of 1! is 1\n",
      "Sum of digits of 2! is 2\n",
      "Sum of digits of 3! is 6\n",
      "Sum of digits of 4! is 6\n",
      "Sum of digits of 5! is 3\n"
     ]
    }
   ],
   "source": [
    "#36. Develop a program that calculates the sum of the digits of a factorial of numbers from 1 to 5 using list comprehension.\n",
    "sum_digits_list = []\n",
    "for num in range(1, 6):\n",
    "    factorial = 1\n",
    "    for i in range(1, num + 1):\n",
    "        factorial *= i\n",
    "    sum_digits = 0\n",
    "    for digit in str(factorial):\n",
    "        sum_digits += int(digit)\n",
    "    sum_digits_list.append(sum_digits)\n",
    "for num, sum_d in zip(range(1, 6), sum_digits_list):\n",
    "    print(f\"Sum of digits of {num}! is {sum_d}\")\n"
   ]
  },
  {
   "cell_type": "code",
   "execution_count": 18,
   "id": "2e775987-96cd-4f3f-aedc-180ecec40071",
   "metadata": {},
   "outputs": [
    {
     "name": "stdout",
     "output_type": "stream",
     "text": [
      "words- ['The', 'quick', 'brown', 'fox', 'jumped', 'over', 'the', 'lazy', 'dog.']\n",
      "Longest word(s): ['jumped']\n"
     ]
    }
   ],
   "source": [
    "#37. Write a program that finds the longest word in a sentence using list comprehension.\n",
    "# Sample sentence\n",
    "sentence = \"The quick brown fox jumped over the lazy dog.\"\n",
    "words = sentence.split()\n",
    "print(\"words-\",words)\n",
    "# Find the maximum word length using list comprehension\n",
    "max_length = max([len(word) for word in words])\n",
    "\n",
    "\n",
    "\"\"\"max_length = 0\n",
    "for word in words:\n",
    "    if len(word) > max_length:\n",
    "        max_length = len(word)\"\"\"\n",
    "\n",
    "# Get all words that match the maximum length\n",
    "longest_words = [word for word in words if len(word) == max_length]\n",
    "\n",
    "print(f\"Longest word(s): {longest_words}\")\n"
   ]
  },
  {
   "cell_type": "code",
   "execution_count": 8,
   "id": "be225cc6-d12c-4fd9-b5e7-6b7d3d90b72a",
   "metadata": {},
   "outputs": [
    {
     "name": "stdout",
     "output_type": "stream",
     "text": [
      "filtered list is  ['grapefruit']\n"
     ]
    }
   ],
   "source": [
    "#38. Create a program that filters a list of strings to include only those with more than three vowels using list comprehension.\n",
    "\n",
    "strings = [\"apple\", \"banana\", \"cherry\", \"date\", \"fig\", \"grapefruit\"]\n",
    "filtered_strings = []\n",
    "for word in strings:\n",
    "    vowel_count = 0\n",
    "    for char in word:\n",
    "        if char in 'aeiou':\n",
    "            vowel_count += 1\n",
    "    if vowel_count > 3:\n",
    "        filtered_strings.append(word)\n",
    "print(\"filtered list is \",filtered_strings)\n",
    "\n"
   ]
  },
  {
   "cell_type": "code",
   "execution_count": 7,
   "id": "d78f35ad-270f-4c5c-9cd3-ce9e9f8b2b2f",
   "metadata": {},
   "outputs": [
    {
     "name": "stdout",
     "output_type": "stream",
     "text": [
      "Total sum of digits from 1 to 1000: 13501\n"
     ]
    }
   ],
   "source": [
    "#39. Develop a program that calculates the sum of the digits of numbers from 1 to 1000 using list comprehension.\n",
    "total_sum = 0\n",
    "for num in range(1, 1001):\n",
    "    for digit in str(num):\n",
    "        total_sum += int(digit)\n",
    "\n",
    "print(f\"Total sum of digits from 1 to 1000: {total_sum}\")\n"
   ]
  },
  {
   "cell_type": "code",
   "execution_count": 6,
   "id": "b8142428-033c-4c6e-be21-518fe62a7f97",
   "metadata": {},
   "outputs": [
    {
     "name": "stdin",
     "output_type": "stream",
     "text": [
      "Enter the start of the range:  1\n",
      "Enter the end of the range:  10\n"
     ]
    },
    {
     "name": "stdout",
     "output_type": "stream",
     "text": [
      "Prime Palindromic numbers up to are: [1, 2, 3, 5, 7]\n"
     ]
    }
   ],
   "source": [
    "#40. Write a program that generates a list of prime palindromic numbers using list comprehension.\n",
    "start = int(input(\"Enter the start of the range: \"))\n",
    "end = int(input(\"Enter the end of the range: \"))\n",
    "prime_palindromic_numbers = []\n",
    "for num in range(start, end):\n",
    "    is_prime = True\n",
    "    # Check for primality\n",
    "    for i in range(2, int(num**0.5) + 1):\n",
    "        if num % i == 0:\n",
    "            is_prime = False\n",
    "            break\n",
    "\n",
    "    # Check if palindromic\n",
    "    if is_prime and str(num) == str(num)[::-1]:\n",
    "        prime_palindromic_numbers.append(num)\n",
    "\n",
    "\n",
    "print(f\"Prime Palindromic numbers up to are: {prime_palindromic_numbers}\")\n",
    "\n"
   ]
  },
  {
   "cell_type": "code",
   "execution_count": null,
   "id": "ca9155cc-1ede-424b-99db-e57d57497ac7",
   "metadata": {},
   "outputs": [],
   "source": []
  }
 ],
 "metadata": {
  "kernelspec": {
   "display_name": "Python 3 (ipykernel)",
   "language": "python",
   "name": "python3"
  },
  "language_info": {
   "codemirror_mode": {
    "name": "ipython",
    "version": 3
   },
   "file_extension": ".py",
   "mimetype": "text/x-python",
   "name": "python",
   "nbconvert_exporter": "python",
   "pygments_lexer": "ipython3",
   "version": "3.10.8"
  }
 },
 "nbformat": 4,
 "nbformat_minor": 5
}
