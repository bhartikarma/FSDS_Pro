{
 "cells": [
  {
   "cell_type": "code",
   "execution_count": 2,
   "metadata": {},
   "outputs": [
    {
     "name": "stdout",
     "output_type": "stream",
     "text": [
      "before X  5\n",
      "before Y  10\n",
      "After X  10\n",
      "After Y  5\n"
     ]
    }
   ],
   "source": [
    "#Declare two variables, `x` and `y`, and assign them integer values. Swap the values of these variables without using any temporary variable.\n",
    "x= 5\n",
    "y=10\n",
    "print(\"before X \", x)\n",
    "print(\"before Y \" ,y)\n",
    "x,y = y,x\n",
    "print(\"After X \", x)\n",
    "print(\"After Y \", y)\n",
    "\n",
    "\n"
   ]
  },
  {
   "cell_type": "code",
   "execution_count": 7,
   "metadata": {},
   "outputs": [
    {
     "name": "stdout",
     "output_type": "stream",
     "text": [
      "Are is  20\n"
     ]
    }
   ],
   "source": [
    "\"\"\"Create a program that calculates the area of a rectangle. Take the length and\n",
    "width as inputs from the user and store them in variables. Calculate and\n",
    "display the area.\"\"\"\n",
    "\n",
    "lenght = int(input(\"enter rectangle length\"))\n",
    "width = int(input(\"enter rectangle width\"))\n",
    "area = lenght*width\n",
    "print(\"Are is \", area)\n",
    "\n"
   ]
  },
  {
   "cell_type": "code",
   "execution_count": 10,
   "metadata": {},
   "outputs": [
    {
     "name": "stdout",
     "output_type": "stream",
     "text": [
      "Fahrenheit Temperature is  392.0\n"
     ]
    }
   ],
   "source": [
    "\"\"\" Write a Python program that converts temperatures from Celsius to\n",
    "Fahrenheit. Take the temperature in Celsius as input, store it in a variable,\n",
    "convert it to Fahrenheit, and display the result.\"\"\"\n",
    "\n",
    "ctemp = float(input(\"enter Celsius Temperature\"))\n",
    "ftemp = ctemp*1.8+32\n",
    "print(\"Fahrenheit Temperature is \",ftemp)\n"
   ]
  },
  {
   "cell_type": "code",
   "execution_count": 11,
   "metadata": {},
   "outputs": [
    {
     "name": "stdout",
     "output_type": "stream",
     "text": [
      "The length of the string is: 33\n"
     ]
    }
   ],
   "source": [
    "#TOPIC: String Based Questions\n",
    "\"\"\"Write a Python program that takes a string as input and prints the length of\n",
    "the string.\"\"\"\n",
    "input_string = input(\"Enter a string: \")\n",
    "length_of_string = len(input_string)\n",
    "print(f\"The length of the string is: {length_of_string}\")\n"
   ]
  },
  {
   "cell_type": "code",
   "execution_count": 24,
   "metadata": {},
   "outputs": [
    {
     "data": {
      "text/plain": [
       "5"
      ]
     },
     "execution_count": 24,
     "metadata": {},
     "output_type": "execute_result"
    }
   ],
   "source": [
    "\"\"\"Create a program that takes a sentence from the user and counts the number\n",
    "of vowels (a, e, i, o, u) in the string.\"\"\"\n",
    "\n",
    "vowels = 'aeiou'\n",
    "istring = input(\"Enter a string: \")\n",
    "count = sum(istring.count(vowel) for vowel in vowels)\n",
    "count"
   ]
  },
  {
   "cell_type": "code",
   "execution_count": 27,
   "metadata": {},
   "outputs": [
    {
     "name": "stdout",
     "output_type": "stream",
     "text": [
      "Reversed string:  da\n"
     ]
    }
   ],
   "source": [
    "\"\"\"Given a string, reverse the order of characters using string slicing and print\n",
    "the reversed string.\"\"\"\n",
    "string = input(\"Enter a string: \")\n",
    "\n",
    "# Reversing the string using slicing\n",
    "reversed_string = string[::-1]\n",
    "print(\"Reversed string: \",reversed_string)"
   ]
  },
  {
   "cell_type": "code",
   "execution_count": 29,
   "metadata": {},
   "outputs": [
    {
     "name": "stdout",
     "output_type": "stream",
     "text": [
      "The entered string is a pallindrome\n"
     ]
    }
   ],
   "source": [
    "\"\"\"Write a program that takes a string as input and checks if it is a palindrome\n",
    "(reads the same forwards and backwards).\"\"\"\n",
    "s1 = input(\"Enter a string \")\n",
    "#example \"Bharti\" ,\"123321\"\n",
    "s2 = s1[::-1]\n",
    "\n",
    "if s2 == s1:\n",
    "  print(\"The entered string is a pallindrome\")\n",
    "else:\n",
    "  print(\"The entered string is not a pallindrome\")"
   ]
  },
  {
   "cell_type": "code",
   "execution_count": 31,
   "metadata": {},
   "outputs": [
    {
     "name": "stdout",
     "output_type": "stream",
     "text": [
      "The entered string without spaces :  222222\n"
     ]
    }
   ],
   "source": [
    "\"\"\"Create a program that takes a string as input and removes all the spaces from\n",
    "it. Print the modified string without spaces.\"\"\"\n",
    "s =input(\"Enter a string: \")\n",
    "s_new= s.replace(\" \",\"\")\n",
    "print(\"The entered string without spaces : \",s_new)\n",
    "     "
   ]
  }
 ],
 "metadata": {
  "kernelspec": {
   "display_name": "Python 3.8.10 64-bit",
   "language": "python",
   "name": "python3"
  },
  "language_info": {
   "codemirror_mode": {
    "name": "ipython",
    "version": 3
   },
   "file_extension": ".py",
   "mimetype": "text/x-python",
   "name": "python",
   "nbconvert_exporter": "python",
   "pygments_lexer": "ipython3",
   "version": "3.8.10"
  },
  "orig_nbformat": 4,
  "vscode": {
   "interpreter": {
    "hash": "e7370f93d1d0cde622a1f8e1c04877d8463912d04d973331ad4851f04de6915a"
   }
  }
 },
 "nbformat": 4,
 "nbformat_minor": 2
}
