{
 "cells": [
  {
   "cell_type": "code",
   "execution_count": 1,
   "id": "83a2c492-5359-4c88-99aa-1c8009a9d6d6",
   "metadata": {},
   "outputs": [
    {
     "name": "stdout",
     "output_type": "stream",
     "text": [
      "True\n"
     ]
    }
   ],
   "source": [
    "'''\n",
    "1. Given an array, check if it contains any duplicates or not.\n",
    "arr = [1, 2, 4, 2, 5, 9]\n",
    "Output = True\n",
    "'''\n",
    "\n",
    "def contains_duplicates(arr):\n",
    "    seen = set()\n",
    "    for num in arr:\n",
    "        if num in seen:\n",
    "            return True\n",
    "        seen.add(num)\n",
    "    return False\n",
    "\n",
    "# Example usage\n",
    "arr = [1, 2, 4, 2, 5, 9]\n",
    "output = contains_duplicates(arr)\n",
    "print(output)\n",
    "\n",
    "\n"
   ]
  },
  {
   "cell_type": "code",
   "execution_count": 3,
   "id": "6d923336-2b05-4ec5-9c8c-8018c47aa519",
   "metadata": {},
   "outputs": [
    {
     "name": "stdout",
     "output_type": "stream",
     "text": [
      "[4, 5, 6, 7, 1, 2, 3]\n"
     ]
    }
   ],
   "source": [
    "'''\n",
    "2. Given an array and an integer k, rotate the array to the right by k steps.\n",
    "arr = [1, 2, 3, 4, 5, 6, 7] k = 3\n",
    "Output = [5, 6, 7, 1, 2, 3, 4] '''\n",
    "\n",
    "def rotate_array(arr, k):\n",
    "    n = len(arr)\n",
    "    k = k % n  # To handle cases where k is greater than the length of the array\n",
    "    return arr[-k:] + arr[:-k]  #-k ,element after k position\n",
    "\n",
    "# Example usage\n",
    "arr = [1, 2, 3, 4, 5, 6, 7]\n",
    "k = 3\n",
    "output = rotate_array(arr, k)\n",
    "print(output)\n"
   ]
  },
  {
   "cell_type": "code",
   "execution_count": null,
   "id": "399e4394-4888-4da6-9ba7-08480d249623",
   "metadata": {},
   "outputs": [],
   "source": [
    "'''\n",
    "3. Reverse the given array in-place, means without using any extra data structure.\n",
    "arr = [2, 4, 5, 7, 9, 12]\n",
    "Output = [12, 9, 7, 5, 4, 2]\n",
    "'''\n",
    "def reverse_array_in_place(arr):\n",
    "    n = len(arr)\n",
    "    for i in range(n // 2):\n",
    "        # Swap elements at symmetric positions\n",
    "        arr[i], arr[n - i - 1] = arr[n - i - 1], arr[i]\n",
    "\n",
    "# Example usage\n",
    "arr = [2, 4, 5, 7, 9, 12]\n",
    "reverse_array_in_place(arr)\n",
    "print(arr)\n"
   ]
  },
  {
   "cell_type": "code",
   "execution_count": 4,
   "id": "e5ca1baf-c6fa-4b37-a56b-87a21890ca2f",
   "metadata": {},
   "outputs": [
    {
     "name": "stdout",
     "output_type": "stream",
     "text": [
      "20\n"
     ]
    }
   ],
   "source": [
    "'''\n",
    "4. Given an array of integers, find the maximum element in an array\n",
    "arr = [10, 5, 20, 8, 15]\n",
    "Output = 20\n",
    "'''\n",
    "def find_max_element(arr):\n",
    "    if not arr:\n",
    "        return None  # Return None for an empty array\n",
    "\n",
    "    max_element = arr[0]  # Assume the first element is the maximum\n",
    "\n",
    "    for num in arr:\n",
    "        if num > max_element:\n",
    "            max_element = num\n",
    "\n",
    "    return max_element\n",
    "\n",
    "# Example usage\n",
    "arr = [10, 5, 20, 8, 15]\n",
    "output = find_max_element(arr)\n",
    "print(output)\n"
   ]
  },
  {
   "cell_type": "code",
   "execution_count": 5,
   "id": "807ef2b7-b587-4682-8677-a0d4f11beb86",
   "metadata": {},
   "outputs": [
    {
     "name": "stdout",
     "output_type": "stream",
     "text": [
      "[1, 2, 3, 4, 5]\n"
     ]
    }
   ],
   "source": [
    "'''\n",
    "5. Given a sorted array, remove the duplicate element without using any extra data structure.\n",
    "arr = [1, 1, 2, 2, 2, 3, 3, 4, 4, 4, 5, 5]\n",
    "Output = [1, 2, 3, 4, 5]\n",
    "'''\n",
    "def remove_duplicates(arr):\n",
    "    if not arr:\n",
    "        return  # Return for an empty array\n",
    "\n",
    "    unique_index = 0\n",
    "\n",
    "    for i in range(1, len(arr)):\n",
    "        if arr[i] != arr[unique_index]:\n",
    "            unique_index += 1\n",
    "            arr[unique_index] = arr[i]\n",
    "\n",
    "    # Trim the array to remove the duplicates\n",
    "    del arr[unique_index + 1:]\n",
    "\n",
    "# Example usage\n",
    "arr = [1, 1, 2, 2, 2, 3, 3, 4, 4, 4, 5, 5]\n",
    "remove_duplicates(arr)\n",
    "print(arr)\n"
   ]
  },
  {
   "cell_type": "code",
   "execution_count": null,
   "id": "8ad80021-92e3-415f-ab5b-e8230426f251",
   "metadata": {},
   "outputs": [],
   "source": []
  }
 ],
 "metadata": {
  "kernelspec": {
   "display_name": "Python 3 (ipykernel)",
   "language": "python",
   "name": "python3"
  },
  "language_info": {
   "codemirror_mode": {
    "name": "ipython",
    "version": 3
   },
   "file_extension": ".py",
   "mimetype": "text/x-python",
   "name": "python",
   "nbconvert_exporter": "python",
   "pygments_lexer": "ipython3",
   "version": "3.10.8"
  }
 },
 "nbformat": 4,
 "nbformat_minor": 5
}
