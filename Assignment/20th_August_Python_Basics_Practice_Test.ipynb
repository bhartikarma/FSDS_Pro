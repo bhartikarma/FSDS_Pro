{
 "cells": [
  {
   "cell_type": "markdown",
   "id": "8514177c-9b4f-4ab8-847f-2e0095584174",
   "metadata": {},
   "source": [
    "## String Based Assignment Problem"
   ]
  },
  {
   "cell_type": "markdown",
   "id": "64df5161-908d-4a2e-958a-5909c074e435",
   "metadata": {},
   "source": [
    "1. Write a program to reverse a string."
   ]
  },
  {
   "cell_type": "code",
   "execution_count": null,
   "id": "fde68019-9b49-42e9-8991-19ae03092852",
   "metadata": {},
   "outputs": [],
   "source": [
    "string = input('Enter any string')           #Asks user to input a string\n",
    "print('Reverse of string is', string[::-1])  # Print reverse of the string"
   ]
  },
  {
   "cell_type": "markdown",
   "id": "dec6a305-1574-4096-9639-15f23d98163e",
   "metadata": {},
   "source": [
    "2. Check if a string is a palindrome."
   ]
  },
  {
   "cell_type": "code",
   "execution_count": null,
   "id": "180a3573-6914-4858-97a9-7878968b0469",
   "metadata": {},
   "outputs": [],
   "source": [
    "pal_string = input(\"Enter any string\")  #Asks user to input any string\n",
    "pal_string = pal_string.upper()         #Convert string to upper or lower case to avoid discrepancy\n",
    "string_rev = pal_string[::-1]           #find reverse of string\n",
    "if string_rev == pal_string:            #Check whether reverse string is same as  entered string\n",
    "    print(\"yes, it is palindrome\")      #Print yes if palindrome string\n",
    "else:\n",
    "    print(\"No, it is not palindrome\")   #Print no if not palindrome string"
   ]
  },
  {
   "cell_type": "markdown",
   "id": "b82b4a37-8643-4a61-a7a8-eb0a721de92c",
   "metadata": {},
   "source": [
    "3. Convert a string to uppercase."
   ]
  },
  {
   "cell_type": "code",
   "execution_count": null,
   "id": "b12b70d9-4887-4743-9911-bde8398dc9e9",
   "metadata": {},
   "outputs": [],
   "source": [
    "string = input('Enter any string')           #Asks user to input a string\n",
    "print('Uppercase of string is', string.upper())  # Print upper case of the string"
   ]
  },
  {
   "cell_type": "markdown",
   "id": "66593326-5547-4a94-8ab0-d2e26c63a654",
   "metadata": {},
   "source": [
    "4. Convert a string to lowercase."
   ]
  },
  {
   "cell_type": "code",
   "execution_count": null,
   "id": "c1270db6-199e-4084-bf0d-cecd127dd629",
   "metadata": {},
   "outputs": [],
   "source": [
    "string = input('Enter any string')               #Asks user to input a string\n",
    "print('Uppercase of string is', string.lower())  # Print lower case of the string"
   ]
  },
  {
   "cell_type": "markdown",
   "id": "16336897-98ff-440f-b626-0e5290510ed5",
   "metadata": {},
   "source": [
    "5. Count the number of vowels in a string."
   ]
  },
  {
   "cell_type": "code",
   "execution_count": null,
   "id": "ec1cfd82-8f19-40d2-ab53-a3f0fca24cdf",
   "metadata": {},
   "outputs": [],
   "source": [
    "sent = input(\"Enter a sentence in which you have to count vowel\")                             #Asks user to enter sentence\n",
    "sent = sent.lower()                                                                           #Convert to lower case\n",
    "num = sent.count('a') + sent.count('e') + sent.count('i') + sent.count('o') + sent.count('u') #Using count function, count each vowel and add\n",
    "print(\"The number of vowels in given sentence is\", num)                                       #Print the total number of vowels"
   ]
  },
  {
   "cell_type": "markdown",
   "id": "7a12a037-9cf6-4372-9596-ecae7c65485f",
   "metadata": {},
   "source": [
    "6. Count the number of consonants in a string."
   ]
  },
  {
   "cell_type": "code",
   "execution_count": null,
   "id": "d23fc170-ed32-40f2-ae79-fb0c5a82a314",
   "metadata": {},
   "outputs": [],
   "source": [
    "sent = input(\"Enter a sentence in which you have to count consonant\")                             #Asks user to enter sentence\n",
    "sent = sent.lower()                                                                               #Convert to lower case\n",
    "sent = sent.replace(\" \",\"\")                                                                       #Remove spaces from the string\n",
    "num_Vow = sent.count('a') + sent.count('e') + sent.count('i') + sent.count('o') + sent.count('u') #Using count function, count each vowel and add\n",
    "num_Cons = len(sent)-num_Vow                                                                      #Count consonants by substracting vowels from the string\n",
    "print(\"The number of consonants in given sentence is\", num_Cons)                                  #Print the total number of consonants\n",
    "#doesn't works with strings containing special characters"
   ]
  },
  {
   "cell_type": "markdown",
   "id": "f5adafef-fc86-4aae-b555-82e5a18b482b",
   "metadata": {},
   "source": [
    "7. Remove all whitespaces from a string."
   ]
  },
  {
   "cell_type": "code",
   "execution_count": null,
   "id": "cac73e82-54c6-472e-a89f-45ce1834e797",
   "metadata": {},
   "outputs": [],
   "source": [
    "any_string = input(\"Enter any string\")      #Ask user to enter any string\n",
    "mod_string = any_string.replace(\" \",\"\")     #Replace spaces with no space\n",
    "print(\"The modified string is\", mod_string) #print modified string"
   ]
  },
  {
   "cell_type": "markdown",
   "id": "f8a1b12e-64f9-41d1-bd78-9514bfbd87ff",
   "metadata": {},
   "source": [
    "8. Find the length of a string without using the `len()` function."
   ]
  },
  {
   "cell_type": "code",
   "execution_count": null,
   "id": "af3723e5-bfca-4e3e-9d55-ca65a2592040",
   "metadata": {},
   "outputs": [],
   "source": [
    "any_string = input(\"Enter any string\")      #Ask user to enter any string\n",
    "c=0                                         #Initialize count variable\n",
    "for x in any_string:                        #for loop to iterate throughout the string\n",
    "    c=c+1                                   #increase count by 1 for each character\n",
    "print('The length of string is',c)          #print the count"
   ]
  },
  {
   "cell_type": "markdown",
   "id": "701b3537-43ee-4fe6-ac6f-d4c68c5a9ff7",
   "metadata": {},
   "source": [
    "9. Check if a string contains a specific word."
   ]
  },
  {
   "cell_type": "code",
   "execution_count": null,
   "id": "ac1f86ae-e08f-4e7c-8fd4-2970b9044c3a",
   "metadata": {},
   "outputs": [],
   "source": [
    "any_string = input(\"Enter any string\")                #Ask user to enter any string\n",
    "as_len = len(any_string)\n",
    "word = input(\"Enter specific word you want to check\") #Ask user to enter word\n",
    "w_len = len(word)\n",
    "c=0\n",
    "t=0\n",
    "while c<=as_len:\n",
    "    ext=any_string[c:w_len]\n",
    "    c=c+1\n",
    "    w_len=w_len+1\n",
    "    if ext==word:\n",
    "        print('yes, it is in the string')\n",
    "        t=t+1\n",
    "        break\n",
    "if t==0:\n",
    "    print('no, it is not in the string')\n",
    "        "
   ]
  },
  {
   "cell_type": "markdown",
   "id": "6718c9ca-b780-4fbf-bc1c-5ebef9bfba94",
   "metadata": {},
   "source": [
    "10. Replace a word in a string with another word."
   ]
  },
  {
   "cell_type": "code",
   "execution_count": null,
   "id": "bee0ac8f-0998-4e0a-ab49-bb9fb7832a99",
   "metadata": {},
   "outputs": [],
   "source": [
    "user = input('Enter any string')\n",
    "word = input('Enter the word you want to replace')\n",
    "rep_word = input('Enter the word you want to replace with')\n",
    "user = user.replace(word,rep_word)\n",
    "print(user)"
   ]
  },
  {
   "cell_type": "markdown",
   "id": "f337a2aa-7ed1-48fb-9703-28dc5382b335",
   "metadata": {},
   "source": [
    "11. Count the occurrences of a word in a string."
   ]
  },
  {
   "cell_type": "code",
   "execution_count": null,
   "id": "82d34662-55d9-430e-98c8-f6114fb80017",
   "metadata": {},
   "outputs": [],
   "source": [
    "any_string = input(\"Enter any string\")                #Ask user to enter any string\n",
    "as_len = len(any_string)\n",
    "word = input(\"Enter specific word you want to count\") #Ask user to enter word\n",
    "w_len = len(word)\n",
    "c=0\n",
    "t=0\n",
    "while c<=as_len:\n",
    "    ext=any_string[c:w_len]\n",
    "    c=c+1\n",
    "    w_len=w_len+1\n",
    "    if ext==word:\n",
    "        t=t+1\n",
    "\n",
    "print('The word occurs {} times'.format(t))\n",
    "        "
   ]
  },
  {
   "cell_type": "markdown",
   "id": "f2b7fab0-85d0-476c-aab7-ea73739b3bd7",
   "metadata": {},
   "source": [
    "12. Find the first occurrence of a word in a string."
   ]
  },
  {
   "cell_type": "code",
   "execution_count": null,
   "id": "ae786eab-d408-4755-8679-e90bb5fc587d",
   "metadata": {},
   "outputs": [],
   "source": [
    "user = input('Enter any string')\n",
    "word = input('Enter the word you want to find')\n",
    "index = user.find(word)\n",
    "print('The first occurence of {} is at index {}'.format(word,index))"
   ]
  },
  {
   "cell_type": "markdown",
   "id": "5898f528-b70d-4222-a42c-4a41c94bdeb5",
   "metadata": {},
   "source": [
    "13. Find the last occurrence of a word in a string."
   ]
  },
  {
   "cell_type": "code",
   "execution_count": null,
   "id": "478ae1fa-85c5-47b5-be2d-60072d0dd948",
   "metadata": {},
   "outputs": [],
   "source": [
    "user = input('Enter any string')\n",
    "word = input('Enter the word you want to find')\n",
    "user_rev = user[::-1]\n",
    "word_rev = word[::-1]\n",
    "user_l = len(user)\n",
    "word_l = len(word)\n",
    "ind_rev = user_rev.find(word_rev)\n",
    "index = user_l - ind_rev -word_l\n",
    "print('The last occurence of {} is at index {}'.format(word,index))"
   ]
  },
  {
   "cell_type": "markdown",
   "id": "b1e18f3d-9828-48c2-bf8d-2b1590b30310",
   "metadata": {},
   "source": [
    "14. Split a string into a list of words."
   ]
  },
  {
   "cell_type": "code",
   "execution_count": null,
   "id": "364c4c51-bf84-4a51-86bb-95835d78cec6",
   "metadata": {},
   "outputs": [],
   "source": [
    "user = input('Enter string you want to split')\n",
    "split_l = user.split()\n",
    "print(split_l)"
   ]
  },
  {
   "cell_type": "markdown",
   "id": "822b0854-ab0c-4376-a92f-3f0560f96fff",
   "metadata": {},
   "source": [
    "15. Join a list of words into a string.\n"
   ]
  },
  {
   "cell_type": "code",
   "execution_count": null,
   "id": "b94a0c81-e68a-4e9d-b11e-3370d9c264fb",
   "metadata": {},
   "outputs": [],
   "source": [
    "l = ['my','name','is','Nimish']\n",
    "s = l[0]+l[1]+l[2]+l[3]\n",
    "print(s)\n"
   ]
  },
  {
   "cell_type": "markdown",
   "id": "e72f9a94-ba31-416f-a567-7dd2e1eb05d9",
   "metadata": {},
   "source": [
    "16. Convert a string where words are separated by spaces to one where words\n",
    "are separated by underscores.\n"
   ]
  },
  {
   "cell_type": "code",
   "execution_count": null,
   "id": "0d9c04de-aeb1-4d49-8588-fbcb3492b9eb",
   "metadata": {},
   "outputs": [],
   "source": [
    "s = 'I love PWSKILLS'\n",
    "s_mod = s.replace(' ','_')\n",
    "s_mod"
   ]
  },
  {
   "cell_type": "markdown",
   "id": "841f0313-1c0f-46c6-856d-541d2f79f50e",
   "metadata": {},
   "source": [
    "17. Check if a string starts with a specific word or phrase."
   ]
  },
  {
   "cell_type": "code",
   "execution_count": null,
   "id": "5f6b469b-d9ed-43a5-be4e-4548558f53cf",
   "metadata": {},
   "outputs": [],
   "source": [
    "any_string = input(\"Enter any string\")                #Ask user to enter any string\n",
    "as_len = len(any_string)\n",
    "word = input(\"Enter specific word you want to check\") #Ask user to enter word\n",
    "w_len = len(word)\n",
    "ext=any_string[0:w_len]\n",
    "if ext==word:\n",
    "    print('Yes')\n",
    "else:\n",
    "    print('No')"
   ]
  },
  {
   "cell_type": "markdown",
   "id": "b6e10377-f624-4f17-9ede-b505aa40ced4",
   "metadata": {},
   "source": [
    "18. Check if a string ends with a specific word or phrase."
   ]
  },
  {
   "cell_type": "code",
   "execution_count": null,
   "id": "f51695b8-5d49-434e-8b5e-6a499291925c",
   "metadata": {},
   "outputs": [],
   "source": [
    "any_string = input(\"Enter any string\")                #Ask user to enter any string\n",
    "any_string = any_string[::-1]\n",
    "as_len = len(any_string)\n",
    "word = input(\"Enter specific word you want to check\") #Ask user to enter word\n",
    "word = word[::-1]\n",
    "w_len = len(word)\n",
    "\n",
    "ext=any_string[0:w_len]\n",
    "if ext==word:\n",
    "    print('Yes')\n",
    "else:\n",
    "    print('No')"
   ]
  },
  {
   "cell_type": "markdown",
   "id": "db9e9d1e-c7db-47b0-8d59-2509990d15af",
   "metadata": {},
   "source": [
    "19. Convert a string to title case (e.g., \"hello world\" to \"Hello World\")."
   ]
  },
  {
   "cell_type": "code",
   "execution_count": null,
   "id": "15dc20b9-fa71-4a0d-ace7-4edfd0b7abb9",
   "metadata": {},
   "outputs": [],
   "source": [
    "s = 'hello world'\n",
    "s = s.title()\n",
    "s"
   ]
  },
  {
   "cell_type": "markdown",
   "id": "5fedfadd-f0b6-44f5-8452-a642c61ef0dd",
   "metadata": {},
   "source": [
    "20. Find the longest word in a string."
   ]
  },
  {
   "cell_type": "code",
   "execution_count": null,
   "id": "642619d2-ada6-4a81-91e5-7e1bddc09991",
   "metadata": {},
   "outputs": [],
   "source": [
    "user = input('Enter string')   #enter sentence\n",
    "user = user.split()            #split to words\n",
    "l1=0                           #make variable to store length\n",
    "for x in user:                 #navigate through list\n",
    "    l = len(x)                 #find length of word\n",
    "    if l>l1:                   #compare new word length with previous one\n",
    "        y=x                    #assign that word to y\n",
    "        l1=l                   #store length of previous word in l1\n",
    "print(y)                       #print y\n",
    "        \n",
    "        \n",
    "    "
   ]
  },
  {
   "cell_type": "markdown",
   "id": "3055f67d-d433-4b99-ab03-a944ee70ab1c",
   "metadata": {},
   "source": [
    "21. Find the shortest word in a string."
   ]
  },
  {
   "cell_type": "code",
   "execution_count": null,
   "id": "d59e60c5-c3e2-488b-b97a-d1bc132d792f",
   "metadata": {},
   "outputs": [],
   "source": [
    "user = input('Enter string')   #enter sentence\n",
    "user = user.split()            #split to words\n",
    "l1=0                           #make variable to store length\n",
    "for x in user:                 #navigate through list\n",
    "    l = len(x)                 #find length of word\n",
    "    if l>l1:                   #compare new word length with previous one\n",
    "        continue\n",
    "    else:\n",
    "        y=x\n",
    "print(y)\n",
    "      \n",
    "        "
   ]
  },
  {
   "cell_type": "markdown",
   "id": "1ca9e5d6-3e3f-46a9-bff9-8b80e8adde3b",
   "metadata": {},
   "source": [
    "22. Reverse the order of words in a string."
   ]
  },
  {
   "cell_type": "code",
   "execution_count": null,
   "id": "a2b24751-30a2-45a7-8f2b-55ca9bd569e3",
   "metadata": {},
   "outputs": [],
   "source": [
    "user = input('Enter string')   #enter sentence\n",
    "user = user.split()            #split to words\n",
    "user = user[::-1]              #reverse the list\n",
    "y=''                           #define empty string to store reverse order string\n",
    "for x in user:\n",
    "    y = y+x+' '                #concatenate words to form list\n",
    "print(y)                       #print the reversed string"
   ]
  },
  {
   "cell_type": "markdown",
   "id": "eb483eb0-67ef-42ea-b6de-64d1b8d9f995",
   "metadata": {},
   "source": [
    "23. Check if a string is alphanumeric."
   ]
  },
  {
   "cell_type": "code",
   "execution_count": null,
   "id": "9a9a0c03-2680-4f95-b4ff-74aae8e19fc1",
   "metadata": {},
   "outputs": [],
   "source": [
    "user = input('Enter string')   #enter string\n",
    "user.isalnum()"
   ]
  },
  {
   "cell_type": "markdown",
   "id": "7aa5d775-4ec5-446d-b36e-8745c5d1d2a8",
   "metadata": {},
   "source": [
    "24. Extract all digits from a string."
   ]
  },
  {
   "cell_type": "code",
   "execution_count": null,
   "id": "b48f646e-25f0-4589-9aa5-9d921a631ddc",
   "metadata": {},
   "outputs": [],
   "source": [
    "user = input('Enter string')   #enter string\n",
    "for x in user:\n",
    "    if x.isdigit() == True:\n",
    "        print(x)\n"
   ]
  },
  {
   "cell_type": "markdown",
   "id": "4eb67a7d-5d4b-4c01-a4bf-700560e70a44",
   "metadata": {},
   "source": [
    "25. Extract all alphabets from a string."
   ]
  },
  {
   "cell_type": "code",
   "execution_count": null,
   "id": "0fc98592-f7cd-4682-83de-8f772d7dcdaf",
   "metadata": {},
   "outputs": [],
   "source": [
    "user = input('Enter string')   #enter string\n",
    "for x in user:\n",
    "    if x.isalpha() == True:\n",
    "        print(x)"
   ]
  },
  {
   "cell_type": "markdown",
   "id": "f1999798-b393-4f1e-8439-b6faf894135a",
   "metadata": {},
   "source": [
    "26. Count the number of uppercase letters in a string.\n"
   ]
  },
  {
   "cell_type": "code",
   "execution_count": null,
   "id": "8a7125cc-d302-416d-a2ac-2bfeede18571",
   "metadata": {},
   "outputs": [],
   "source": [
    "user = input('Enter string')   #enter string\n",
    "c=0\n",
    "for x in user:\n",
    "    if x.isupper() == True:\n",
    "        c=c+1\n",
    "print(c)"
   ]
  },
  {
   "cell_type": "markdown",
   "id": "b77185a7-92b6-47a7-9889-d9080296e2ac",
   "metadata": {},
   "source": [
    "27. Count the number of lowercase letters in a string."
   ]
  },
  {
   "cell_type": "code",
   "execution_count": null,
   "id": "3f36961b-45cb-46ee-b9de-e3dd1adcdf22",
   "metadata": {},
   "outputs": [],
   "source": [
    "user = input('Enter string')   #enter string\n",
    "c=0\n",
    "for x in user:\n",
    "    if x.islower() == True:\n",
    "        c=c+1\n",
    "print(c)"
   ]
  },
  {
   "cell_type": "markdown",
   "id": "05f72551-162b-4df9-9d4b-74818c22e7e1",
   "metadata": {},
   "source": [
    "28. Swap the case of each character in a string."
   ]
  },
  {
   "cell_type": "code",
   "execution_count": null,
   "id": "3b94b71e-a62e-494b-b32a-572af64a5869",
   "metadata": {},
   "outputs": [],
   "source": [
    "user = input('Enter string')   #enter string\n",
    "for x in user:\n",
    "    if x.isupper() == True:\n",
    "        user=user.replace(x,x.lower())\n",
    "    else:\n",
    "        user=user.replace(x,x.upper())\n",
    "print(user)"
   ]
  },
  {
   "cell_type": "markdown",
   "id": "3bcc5bd4-81ef-4f81-b008-726aabb67704",
   "metadata": {},
   "source": [
    "29. Remove a specific word from a string.\n",
    "\n"
   ]
  },
  {
   "cell_type": "code",
   "execution_count": 37,
   "id": "3c675e04-1dd5-472a-adc5-eca0ad62a12a",
   "metadata": {},
   "outputs": [
    {
     "name": "stdout",
     "output_type": "stream",
     "text": [
      "The world here\n"
     ]
    }
   ],
   "source": [
    "s='The world is here'   #test string\n",
    "r = 'is'                #word to be removed\n",
    "s=s.split()\n",
    "for x in s:\n",
    "    if x==r:\n",
    "        s.remove(x)\n",
    "print(' '.join(s))"
   ]
  },
  {
   "cell_type": "markdown",
   "id": "91a417d5-984b-4758-b8b9-a144e6ebc7d1",
   "metadata": {},
   "source": [
    "30. Check if a string is a valid email address."
   ]
  },
  {
   "cell_type": "code",
   "execution_count": null,
   "id": "cf579471-01ca-4982-bfa1-574b6d28c4dd",
   "metadata": {},
   "outputs": [],
   "source": [
    "user = input('Enter a valid email address')\n",
    "user = user.lower()\n",
    "user=user.strip()\n",
    "r=0\n",
    "s=0\n",
    "d=0\n",
    "for x in user:\n",
    "    if x=='@':\n",
    "        r=r+1\n",
    "    if x == ' ':\n",
    "        s=s+1\n",
    "    if x == '.':\n",
    "        d=d+1\n",
    "if r==1 and s==0 and 0<d<3:\n",
    "    print('Email is valid')\n",
    "else:\n",
    "    print('Email is not valid')\n",
    "\n",
    "        "
   ]
  },
  {
   "cell_type": "markdown",
   "id": "5ec39a50-a17c-463e-9ba8-f7fde29e6168",
   "metadata": {},
   "source": [
    "31. Extract the username from an email address string."
   ]
  },
  {
   "cell_type": "code",
   "execution_count": null,
   "id": "f89060e9-7394-42ea-9c94-9903e3bd4ced",
   "metadata": {},
   "outputs": [],
   "source": [
    "user = input('Enter valid email')\n",
    "for x in user:\n",
    "    if x =='@':\n",
    "        i=user.index(x)\n",
    "        ext = user[0:i]\n",
    "        break\n",
    "print(ext)\n",
    "    "
   ]
  },
  {
   "cell_type": "markdown",
   "id": "86a5a616-f6d5-4f95-872d-1c8a1d821e64",
   "metadata": {},
   "source": [
    "32. Extract the domain name from an email address string."
   ]
  },
  {
   "cell_type": "code",
   "execution_count": null,
   "id": "937ef3eb-f4b8-4c7b-bc6b-2b2f9ed118ca",
   "metadata": {},
   "outputs": [],
   "source": [
    "user = input('Enter valid email')\n",
    "for x in user:\n",
    "    if x =='@':\n",
    "        i=user.index(x)\n",
    "        ext = user[i+1:len(user)]\n",
    "        break\n",
    "print(ext)\n",
    "    "
   ]
  },
  {
   "cell_type": "markdown",
   "id": "e72a2264-0973-44bb-b9c8-ec8f545feb9f",
   "metadata": {},
   "source": [
    "33. Replace multiple spaces in a string with a single space."
   ]
  },
  {
   "cell_type": "code",
   "execution_count": null,
   "id": "7432acd3-aa4e-49b5-b9cf-3096ef210e0f",
   "metadata": {},
   "outputs": [],
   "source": [
    "user = input('Enter string')\n",
    "user = user.split()\n",
    "print(' '.join(user))"
   ]
  },
  {
   "cell_type": "markdown",
   "id": "a3d0b099-4aef-4889-a9ad-00855d926856",
   "metadata": {},
   "source": [
    "## 34.  Check if a string is a valid URL."
   ]
  },
  {
   "cell_type": "code",
   "execution_count": null,
   "id": "8e559f5b-aa8d-4016-b56b-b8520f5f9571",
   "metadata": {},
   "outputs": [],
   "source": [
    "from urllib.parse import urlparse\n",
    "\n",
    "def is_valid_url(url):\n",
    "    try:\n",
    "        result = urlparse(url)\n",
    "        return all([result.scheme, result.netloc])  # Check if both scheme and netloc are present\n",
    "    except ValueError:\n",
    "        return False\n",
    "\n",
    "# Example URLs\n",
    "url1 = \"https://www.example.com\"\n",
    "url2 = \"invalid-url\"\n",
    "result1 = is_valid_url(url1)\n",
    "result2 = is_valid_url(url2)\n",
    "print(result1)  # Should print True\n",
    "print(result2)  # Should print False"
   ]
  },
  {
   "cell_type": "markdown",
   "id": "dd84ef83-9ba6-4fbd-a2de-757d8f34ee89",
   "metadata": {},
   "source": [
    "35. Extract the protocol (http or https) from a URL string."
   ]
  },
  {
   "cell_type": "code",
   "execution_count": null,
   "id": "496cc044-23a6-491f-8bc8-7340dd7c8dd9",
   "metadata": {},
   "outputs": [],
   "source": [
    "user = input('Enter valid URL')\n",
    "user = user.split(':')\n",
    "print(user[0])\n"
   ]
  },
  {
   "cell_type": "markdown",
   "id": "440f0e64-c5a3-4f47-8102-6bd8382a8ea0",
   "metadata": {
    "tags": []
   },
   "source": [
    "## 36. Find the frequency of each character in a string."
   ]
  },
  {
   "cell_type": "code",
   "execution_count": 39,
   "id": "02608ab0-6d61-4344-b9b0-584b823458c5",
   "metadata": {},
   "outputs": [
    {
     "name": "stdin",
     "output_type": "stream",
     "text": [
      "enter the string helloo\n"
     ]
    },
    {
     "name": "stdout",
     "output_type": "stream",
     "text": [
      "The character h comes 1 times\n",
      "The character e comes 1 times\n",
      "The character l comes 2 times\n",
      "The character l comes 2 times\n",
      "The character o comes 2 times\n",
      "The character o comes 2 times\n"
     ]
    }
   ],
   "source": [
    "user = list(input('enter the string'))\n",
    "l=len(user)\n",
    "c=0\n",
    "t=0\n",
    "for x in user:\n",
    "    t=0\n",
    "    while t<l:\n",
    "        if x==user[t]:\n",
    "            c=c+1\n",
    "        t=t+1\n",
    "    print('The character {} comes {} times'.format(x,c))\n",
    "    c=0"
   ]
  },
  {
   "cell_type": "markdown",
   "id": "de073372-d945-4eb5-a462-1d182f3ad376",
   "metadata": {},
   "source": [
    "## 37. Remove all punctuation from a string."
   ]
  },
  {
   "cell_type": "code",
   "execution_count": null,
   "id": "20763a08-4efb-414d-9666-20487404a421",
   "metadata": {},
   "outputs": [],
   "source": [
    "import string\n",
    "\n",
    "def remove_punctuation(input_string):\n",
    "    # Create a translation table to remove punctuation\n",
    "    translator = str.maketrans(\"\", \"\", string.punctuation)\n",
    "\n",
    "    # Use the translation table to remove punctuation from the input string\n",
    "    clean_string = input_string.translate(translator)\n",
    "\n",
    "    return clean_string\n",
    "\n",
    "# Example string with punctuation\n",
    "input_str = \"Hello, world! How's it going?\"\n",
    "\n",
    "# Remove punctuation\n",
    "cleaned_str = remove_punctuation(input_str)\n",
    "\n",
    "# Print the cleaned string\n",
    "print(\"Original string:\", input_str)\n",
    "print(\"Cleaned string:\", cleaned_str)\n"
   ]
  },
  {
   "cell_type": "markdown",
   "id": "afa7d52e-7a6d-41a9-b1f6-21baca57c625",
   "metadata": {},
   "source": [
    "38. Check if a string contains only digits."
   ]
  },
  {
   "cell_type": "code",
   "execution_count": null,
   "id": "ce3aa701-0a25-476e-883a-170dfaa6de63",
   "metadata": {},
   "outputs": [],
   "source": [
    "user = input('Enter any string')\n",
    "if user.isnumeric() ==  True:\n",
    "    print('Yes')\n",
    "else:\n",
    "    print('No')\n",
    "    "
   ]
  },
  {
   "cell_type": "markdown",
   "id": "0b02eaf9-0a06-4960-bfac-6dc7a46fd3d6",
   "metadata": {},
   "source": [
    "39. Check if a string contains only alphabets."
   ]
  },
  {
   "cell_type": "code",
   "execution_count": null,
   "id": "c9dd186c-f316-4dfd-ba19-b1dc9e7b52bb",
   "metadata": {},
   "outputs": [],
   "source": [
    "user = input('Enter any string')\n",
    "if user.isalpha ==  True:\n",
    "    print('Yes')\n",
    "else:\n",
    "    print('No')"
   ]
  },
  {
   "cell_type": "markdown",
   "id": "fab7ef18-6155-436c-8d3c-89fe0ece316c",
   "metadata": {},
   "source": [
    "40. Convert a string to a list of characters."
   ]
  },
  {
   "cell_type": "code",
   "execution_count": null,
   "id": "16e8d850-7956-49fe-b8ca-5d0ac6b8074f",
   "metadata": {},
   "outputs": [],
   "source": [
    "user = input('Enter any string')\n",
    "user_l = list(user)\n",
    "print(user_l)"
   ]
  },
  {
   "cell_type": "markdown",
   "id": "0170317b-dddb-4200-9973-becd8203dbc9",
   "metadata": {},
   "source": [
    "41. Check if two strings are anagrams."
   ]
  },
  {
   "cell_type": "code",
   "execution_count": null,
   "id": "1a4d8c69-2181-4d94-b1af-70cb8167be39",
   "metadata": {},
   "outputs": [],
   "source": [
    "user1 = input('Enter 1st string')\n",
    "user2 = input('Enter 2nd string')\n",
    "l=len(user1)\n",
    "c=0\n",
    "n=0\n",
    "for x in user1:\n",
    "    if user2.find(x) == -1:\n",
    "        break\n",
    "    else:\n",
    "        n=n+1\n",
    "if n==l:\n",
    "    print('yes')\n",
    "else:\n",
    "    print('no')\n",
    "        "
   ]
  },
  {
   "cell_type": "markdown",
   "id": "8def1c92-c19c-4d19-998f-748d1a373d65",
   "metadata": {},
   "source": [
    "42. Encode a string using a Caesar cipher.\n"
   ]
  },
  {
   "cell_type": "code",
   "execution_count": null,
   "id": "cc86d0d7-2c85-43cd-8c4b-26bc55f59871",
   "metadata": {},
   "outputs": [],
   "source": [
    "user = input('Enter the string')\n",
    "shift = int(input('Enter shift you want'))\n",
    "enc = ''\n",
    "for x in user:\n",
    "    code = ord(x)           #ASCII code for character\n",
    "    code = code + shift         #Shift by 3 places\n",
    "    enc = enc+chr(code)     #encrypted string\n",
    "print(enc)                  #print encrypted string"
   ]
  },
  {
   "cell_type": "markdown",
   "id": "453d638c-e02a-4389-b3f6-8366d5980b1d",
   "metadata": {},
   "source": [
    "43. Decode a Caesar cipher encoded string."
   ]
  },
  {
   "cell_type": "code",
   "execution_count": 40,
   "id": "53e7321e-2c59-4fe1-89c3-e3b2b94d3b5a",
   "metadata": {},
   "outputs": [
    {
     "name": "stdin",
     "output_type": "stream",
     "text": [
      "Enter the encoded string jim\n",
      "Enter shift 3\n"
     ]
    },
    {
     "name": "stdout",
     "output_type": "stream",
     "text": [
      "gfj\n"
     ]
    }
   ],
   "source": [
    "user = input('Enter the encoded string')\n",
    "shift = int(input('Enter shift'))\n",
    "enc = ''\n",
    "for x in user:\n",
    "    code = ord(x)           #ASCII code for character\n",
    "    code = code - shift         #Shift by 3 places\n",
    "    enc = enc+chr(code)     #decoded string\n",
    "print(enc)                  #print decoded string"
   ]
  },
  {
   "cell_type": "markdown",
   "id": "fd14a08a-1903-4a25-bc8f-f75efa914374",
   "metadata": {},
   "source": [
    "## 44. Find the most frequent word in a string."
   ]
  },
  {
   "cell_type": "code",
   "execution_count": 45,
   "id": "3682b1ce-d344-476e-b45e-8a5a42fd77af",
   "metadata": {},
   "outputs": [
    {
     "name": "stdin",
     "output_type": "stream",
     "text": [
      "Enter the string:  hellloo\n"
     ]
    },
    {
     "name": "stdout",
     "output_type": "stream",
     "text": [
      "The character 'h' appears 1 times\n",
      "The character 'e' appears 1 times\n",
      "The character 'l' appears 3 times\n",
      "The character 'o' appears 2 times\n"
     ]
    }
   ],
   "source": [
    "user = list(input('Enter the string: '))\n",
    "char_count = {}\n",
    "\n",
    "for x in user:\n",
    "    if x in char_count:\n",
    "        char_count[x] += 1\n",
    "    else:\n",
    "        char_count[x] = 1\n",
    "\n",
    "for char, count in char_count.items():\n",
    "    print(f\"The character '{char}' appears {count} times\")\n",
    "\n",
    "\n",
    "    \n"
   ]
  },
  {
   "cell_type": "markdown",
   "id": "405969de-026b-44ae-a3d5-798315808398",
   "metadata": {},
   "source": [
    "## 45. Find all unique words in a string."
   ]
  },
  {
   "cell_type": "code",
   "execution_count": 46,
   "id": "3de6e231-497c-41ff-8a33-31bbf76466b1",
   "metadata": {},
   "outputs": [
    {
     "name": "stdout",
     "output_type": "stream",
     "text": [
      "Unique words: {'there', 'hello', 'world', 'hows', 'the'}\n"
     ]
    }
   ],
   "source": [
    "import re\n",
    "\n",
    "def unique_words(input_string):\n",
    "    # Remove punctuation and convert to lowercase\n",
    "    clean_string = re.sub(r'[^\\w\\s]', '', input_string).lower()\n",
    "\n",
    "    # Split the string into words and convert to a set for uniqueness\n",
    "    words = set(clean_string.split())\n",
    "\n",
    "    return words\n",
    "\n",
    "# Example string\n",
    "input_str = \"Hello world, hello there! How's the world?\"\n",
    "\n",
    "# Find unique words\n",
    "unique_word_set = unique_words(input_str)\n",
    "\n",
    "# Print the result\n",
    "print(\"Unique words:\", unique_word_set)"
   ]
  },
  {
   "cell_type": "markdown",
   "id": "2c204d4f-967d-417d-af9a-47d79ff3f66b",
   "metadata": {},
   "source": [
    "## 46. Count the number of syllables in a string."
   ]
  },
  {
   "cell_type": "code",
   "execution_count": 47,
   "id": "9e6ffcc0-bbec-48e2-96ea-658a49bf4401",
   "metadata": {},
   "outputs": [
    {
     "name": "stdout",
     "output_type": "stream",
     "text": [
      "'hello' has 2 syllables.\n",
      "'banana' has 3 syllables.\n",
      "'syllable' has 3 syllables.\n"
     ]
    }
   ],
   "source": [
    "import re\n",
    "\n",
    "def count_syllables(word):\n",
    "    # Count vowel groups using regular expression\n",
    "    vowel_groups = re.findall(r'[aeiouy]+', word, re.IGNORECASE)\n",
    "\n",
    "    return len(vowel_groups)\n",
    "\n",
    "# Example words\n",
    "word1 = \"hello\"\n",
    "word2 = \"banana\"\n",
    "word3 = \"syllable\"\n",
    "\n",
    "# Count syllables\n",
    "syllables1 = count_syllables(word1)\n",
    "syllables2 = count_syllables(word2)\n",
    "syllables3 = count_syllables(word3)\n",
    "\n",
    "# Print the results\n",
    "print(f\"'{word1}' has {syllables1} syllables.\")\n",
    "print(f\"'{word2}' has {syllables2} syllables.\")\n",
    "print(f\"'{word3}' has {syllables3} syllables.\")"
   ]
  },
  {
   "cell_type": "markdown",
   "id": "b43be33f-da42-4c18-b3d0-8adba530eb23",
   "metadata": {},
   "source": [
    "## 47. Check if a string contains any special characters."
   ]
  },
  {
   "cell_type": "code",
   "execution_count": 48,
   "id": "5f9e8d96-55fc-43e5-b503-79c53414699f",
   "metadata": {},
   "outputs": [
    {
     "name": "stdout",
     "output_type": "stream",
     "text": [
      "'hello' has 2 syllables.\n",
      "'banana' has 3 syllables.\n",
      "'syllable' has 3 syllables.\n"
     ]
    }
   ],
   "source": [
    "import re\n",
    "\n",
    "def count_syllables(word):\n",
    "    # Count vowel groups using regular expression\n",
    "    vowel_groups = re.findall(r'[aeiouy]+', word, re.IGNORECASE)\n",
    "\n",
    "    return len(vowel_groups)\n",
    "\n",
    "# Example words\n",
    "word1 = \"hello\"\n",
    "word2 = \"banana\"\n",
    "word3 = \"syllable\"\n",
    "\n",
    "# Count syllables\n",
    "syllables1 = count_syllables(word1)\n",
    "syllables2 = count_syllables(word2)\n",
    "syllables3 = count_syllables(word3)\n",
    "\n",
    "# Print the results\n",
    "print(f\"'{word1}' has {syllables1} syllables.\")\n",
    "print(f\"'{word2}' has {syllables2} syllables.\")\n",
    "print(f\"'{word3}' has {syllables3} syllables.\")"
   ]
  },
  {
   "cell_type": "markdown",
   "id": "71c70b53-8423-4015-ba7f-3ea67f1b1955",
   "metadata": {},
   "source": [
    "48. Remove the nth word from a string."
   ]
  },
  {
   "cell_type": "code",
   "execution_count": 5,
   "id": "78c64e37-3aec-4238-863a-c24cd0976d9a",
   "metadata": {},
   "outputs": [
    {
     "name": "stdin",
     "output_type": "stream",
     "text": [
      "Enter sentence i am a boy\n",
      "Enter word index you want to remove 2\n"
     ]
    },
    {
     "name": "stdout",
     "output_type": "stream",
     "text": [
      "i am boy\n"
     ]
    }
   ],
   "source": [
    "user = input('Enter sentence')\n",
    "user = user.split()\n",
    "word = int(input('Enter word index you want to remove'))\n",
    "user.pop(word)\n",
    "print(\" \".join(user))\n"
   ]
  },
  {
   "cell_type": "markdown",
   "id": "e541829c-c6a3-46fb-9ff8-a0ad0916141d",
   "metadata": {},
   "source": [
    "49. Insert a word at the nth position in a string."
   ]
  },
  {
   "cell_type": "code",
   "execution_count": 12,
   "id": "bb60cf43-9bae-49af-801c-b80fa6ce5016",
   "metadata": {},
   "outputs": [
    {
     "name": "stdin",
     "output_type": "stream",
     "text": [
      "Enter word not\n",
      "Enter index 3\n"
     ]
    },
    {
     "name": "stdout",
     "output_type": "stream",
     "text": [
      "I do not like PWSKILLS\n"
     ]
    }
   ],
   "source": [
    "test = 'I do like PWSKILLS'\n",
    "user = input('Enter word')\n",
    "test = test.split()\n",
    "word = int(input('Enter index'))\n",
    "test.insert(word-1,user)\n",
    "print(\" \".join(test))"
   ]
  },
  {
   "cell_type": "markdown",
   "id": "e7cb95e3-2c93-4c7b-8a28-f8be26dc7209",
   "metadata": {},
   "source": [
    "## 50.  Convert a CSV string to a list of lists."
   ]
  },
  {
   "cell_type": "code",
   "execution_count": 50,
   "id": "365b67f1-c360-4255-8a67-997f9f1a1ddc",
   "metadata": {},
   "outputs": [
    {
     "name": "stdout",
     "output_type": "stream",
     "text": [
      "['Name', ' Age', ' Country']\n",
      "['John', ' 25', ' USA']\n",
      "['Alice', ' 30', ' Canada']\n",
      "['Bob', ' 22', ' UK']\n"
     ]
    }
   ],
   "source": [
    "def csv_string_to_list(csv_string):\n",
    "    # Split the CSV string into lines\n",
    "    lines = csv_string.split('\\n')\n",
    "\n",
    "    # Initialize an empty list to store the result\n",
    "    result = []\n",
    "\n",
    "    for line in lines:\n",
    "        # Split each line into fields using comma as the delimiter\n",
    "        fields = line.split(',')\n",
    "\n",
    "        # Append the fields to the result list as a row\n",
    "        result.append(fields)\n",
    "\n",
    "    return result\n",
    "\n",
    "# Example CSV string\n",
    "csv_data = \"Name, Age, Country\\nJohn, 25, USA\\nAlice, 30, Canada\\nBob, 22, UK\"\n",
    "\n",
    "# Convert CSV string to a list of lists\n",
    "list_of_lists = csv_string_to_list(csv_data)\n",
    "\n",
    "# Print the result\n",
    "for row in list_of_lists:\n",
    "    print(row)"
   ]
  },
  {
   "cell_type": "markdown",
   "id": "e777a02b-eb6b-43aa-8522-9a15fcb45acc",
   "metadata": {},
   "source": [
    "## List Based Practice Problem:"
   ]
  },
  {
   "cell_type": "markdown",
   "id": "74a2117f-28a7-4d37-95cf-bfbd525b6f6b",
   "metadata": {},
   "source": [
    "1. Create a list with integers from 1 to 10."
   ]
  },
  {
   "cell_type": "code",
   "execution_count": 14,
   "id": "e8299337-c5c8-4fa6-a745-e7bc5b80d15f",
   "metadata": {},
   "outputs": [
    {
     "data": {
      "text/plain": [
       "[1, 2, 3, 4, 5, 6, 7, 8, 9, 10]"
      ]
     },
     "execution_count": 14,
     "metadata": {},
     "output_type": "execute_result"
    }
   ],
   "source": [
    "x = range(1,11)\n",
    "l = list(x)\n",
    "l"
   ]
  },
  {
   "cell_type": "markdown",
   "id": "2bbfc866-7b05-4cd0-9cdd-f474a557b35c",
   "metadata": {},
   "source": [
    "2. Find the length of a list without using the `len()` function."
   ]
  },
  {
   "cell_type": "code",
   "execution_count": 16,
   "id": "a15ec530-c9d8-4c04-9e85-9df54ab7e027",
   "metadata": {},
   "outputs": [
    {
     "name": "stdout",
     "output_type": "stream",
     "text": [
      "10\n"
     ]
    }
   ],
   "source": [
    "x = range(1,11)\n",
    "l = list(x)\n",
    "c=0\n",
    "for x in l:\n",
    "    c=c+1\n",
    "print(c)"
   ]
  },
  {
   "cell_type": "markdown",
   "id": "cd514839-2f45-4338-a881-c238be64adce",
   "metadata": {},
   "source": [
    "3. Append an element to the end of a list."
   ]
  },
  {
   "cell_type": "code",
   "execution_count": 30,
   "id": "c287dc00-9578-4699-9049-407425184181",
   "metadata": {},
   "outputs": [
    {
     "name": "stdout",
     "output_type": "stream",
     "text": [
      "[1, 2, 3, 4, 5, 6, 7, 8, 9, 10, 88]\n"
     ]
    }
   ],
   "source": [
    "x = range(1,11)\n",
    "l = list(x)\n",
    "l.append(88)\n",
    "print(l)"
   ]
  },
  {
   "cell_type": "markdown",
   "id": "778a7acc-412d-44d1-b676-d92d5d23b0c5",
   "metadata": {},
   "source": [
    "4. Insert an element at a specific index in a list."
   ]
  },
  {
   "cell_type": "code",
   "execution_count": 3,
   "id": "1f2a6ed1-9c70-48e2-a40c-2e4092888269",
   "metadata": {},
   "outputs": [
    {
     "name": "stdin",
     "output_type": "stream",
     "text": [
      "Enter index where you want to insert 2\n"
     ]
    },
    {
     "data": {
      "text/plain": [
       "[1, 2, 25, 3, 4, 5, 6, 7, 8, 9, 10]"
      ]
     },
     "execution_count": 3,
     "metadata": {},
     "output_type": "execute_result"
    }
   ],
   "source": [
    "x = range(1,11)\n",
    "l = list(x)\n",
    "user = int(input('Enter index where you want to insert'))\n",
    "l.insert(user,25)\n",
    "l"
   ]
  },
  {
   "cell_type": "markdown",
   "id": "2899fc05-2aeb-4391-9f3f-d5d158d31f05",
   "metadata": {},
   "source": [
    "5. Remove an element from a list by its value."
   ]
  },
  {
   "cell_type": "code",
   "execution_count": 4,
   "id": "ae5b6f56-645a-4e74-9bb9-0bd7c7fa9b3a",
   "metadata": {},
   "outputs": [
    {
     "data": {
      "text/plain": [
       "[1, 2, 3, 5, 6, 7, 8, 9, 10]"
      ]
     },
     "execution_count": 4,
     "metadata": {},
     "output_type": "execute_result"
    }
   ],
   "source": [
    "x = range(1,11)\n",
    "l = list(x)\n",
    "l.remove(4)\n",
    "l"
   ]
  },
  {
   "cell_type": "markdown",
   "id": "c4800ecb-282d-415b-a681-b5b8b906b1ac",
   "metadata": {},
   "source": [
    "6. Remove an element from a list by its index."
   ]
  },
  {
   "cell_type": "code",
   "execution_count": 6,
   "id": "9a6c9b94-7d94-4155-93dc-b8471d6fc9ee",
   "metadata": {},
   "outputs": [
    {
     "data": {
      "text/plain": [
       "[1, 2, 3, 4, 5, 6, 7, 8, 9]"
      ]
     },
     "execution_count": 6,
     "metadata": {},
     "output_type": "execute_result"
    }
   ],
   "source": [
    "x = range(1,11)\n",
    "l = list(x)\n",
    "l.pop(9)\n",
    "l"
   ]
  },
  {
   "cell_type": "markdown",
   "id": "5e8fffc2-a9ad-4f01-882f-c3bedd757968",
   "metadata": {},
   "source": [
    "7. Check if an element exists in a list."
   ]
  },
  {
   "cell_type": "code",
   "execution_count": 19,
   "id": "c1396312-c5f6-4442-bbc7-990aecebdf69",
   "metadata": {},
   "outputs": [
    {
     "name": "stdin",
     "output_type": "stream",
     "text": [
      "Enter string 10231321\n",
      "Enter element you want to check 1\n"
     ]
    },
    {
     "name": "stdout",
     "output_type": "stream",
     "text": [
      "yes\n"
     ]
    }
   ],
   "source": [
    "x = input('Enter string')\n",
    "ele = input('Enter element you want to check')\n",
    "l = list(x)\n",
    "c=0\n",
    "for y in l:\n",
    "    if y==ele:\n",
    "        c=c+1\n",
    "if c>1:\n",
    "    print('yes')\n",
    "else:\n",
    "    print('no')"
   ]
  },
  {
   "cell_type": "markdown",
   "id": "dfca269b-a775-4ede-8347-a9017f110a27",
   "metadata": {},
   "source": [
    "8. Find the index of the first occurrence of an element in a list."
   ]
  },
  {
   "cell_type": "code",
   "execution_count": 22,
   "id": "6920e38a-0649-4788-81b3-9dd5769ae310",
   "metadata": {},
   "outputs": [
    {
     "name": "stdout",
     "output_type": "stream",
     "text": [
      "2\n"
     ]
    }
   ],
   "source": [
    "x = [1,2,3,4,5,4,4,4,3]  #test list\n",
    "c = [3]                  #element to be checked\n",
    "for y in x:\n",
    "    if y==c[0]:\n",
    "        j=x.index(y)     #store index in j\n",
    "print(j)\n"
   ]
  },
  {
   "cell_type": "markdown",
   "id": "d88d7829-1f41-43c9-a437-55f137f67593",
   "metadata": {},
   "source": [
    "9. Count the occurrences of an element in a list."
   ]
  },
  {
   "cell_type": "code",
   "execution_count": 23,
   "id": "634f3485-bf16-4070-9071-904fddbaf9b7",
   "metadata": {},
   "outputs": [
    {
     "name": "stdout",
     "output_type": "stream",
     "text": [
      "4\n"
     ]
    }
   ],
   "source": [
    "x = [1,2,3,4,5,4,4,4,3]  #test list\n",
    "c = [4]                  #element to be checked\n",
    "j=0\n",
    "for y in x:\n",
    "    if y==c[0]:\n",
    "        j=j+1    #count in j variable\n",
    "print(j)\n"
   ]
  },
  {
   "cell_type": "markdown",
   "id": "cefca62a-4576-4d9d-b09e-a3c7b30c9e1f",
   "metadata": {},
   "source": [
    "10. Reverse the order of elements in a list."
   ]
  },
  {
   "cell_type": "code",
   "execution_count": 29,
   "id": "71c755f1-0b40-488c-b59c-ba54f86c3395",
   "metadata": {},
   "outputs": [
    {
     "data": {
      "text/plain": [
       "[3, 4, 4, 4, 5, 4, 3, 2, 1]"
      ]
     },
     "execution_count": 29,
     "metadata": {},
     "output_type": "execute_result"
    }
   ],
   "source": [
    "x = [1,2,3,4,5,4,4,4,3]  #test list\n",
    "x = x[::-1]\n",
    "x"
   ]
  },
  {
   "cell_type": "markdown",
   "id": "33264d92-9e72-4288-afd2-9acf82f397b5",
   "metadata": {},
   "source": [
    "11. Sort a list in ascending order."
   ]
  },
  {
   "cell_type": "code",
   "execution_count": 33,
   "id": "d64bff29-f2f1-4113-a9f0-dbad6b0650c6",
   "metadata": {},
   "outputs": [
    {
     "name": "stdout",
     "output_type": "stream",
     "text": [
      "[1, 2, 3, 3, 4, 4, 4, 4, 5]\n"
     ]
    }
   ],
   "source": [
    "x = [1,2,3,4,5,4,4,4,3]  #test list\n",
    "x.sort()\n",
    "print(x)"
   ]
  },
  {
   "cell_type": "markdown",
   "id": "0ab7006f-f365-4947-9001-e78d27a2d87d",
   "metadata": {},
   "source": [
    "12. Sort a list in descending order.\n"
   ]
  },
  {
   "cell_type": "code",
   "execution_count": 34,
   "id": "c794c38f-7c40-40e0-98ac-acc84af793d3",
   "metadata": {},
   "outputs": [
    {
     "name": "stdout",
     "output_type": "stream",
     "text": [
      "[5, 4, 4, 4, 4, 3, 3, 2, 1]\n"
     ]
    }
   ],
   "source": [
    "x = [1,2,3,4,5,4,4,4,3]  #test list\n",
    "x.sort()\n",
    "x=x[::-1]\n",
    "print(x)"
   ]
  },
  {
   "cell_type": "markdown",
   "id": "401b8d87-120c-4da2-998c-6a341e1c7a38",
   "metadata": {},
   "source": [
    "13. Create a list of even numbers from 1 to 20."
   ]
  },
  {
   "cell_type": "code",
   "execution_count": 41,
   "id": "f6fa4e23-8585-473e-aea7-b992101711b9",
   "metadata": {},
   "outputs": [
    {
     "data": {
      "text/plain": [
       "[2, 4, 6, 8, 10, 12, 14, 16, 18, 20]"
      ]
     },
     "execution_count": 41,
     "metadata": {},
     "output_type": "execute_result"
    }
   ],
   "source": [
    "l=range(2,22,2)\n",
    "x=list(l)\n",
    "x"
   ]
  },
  {
   "cell_type": "markdown",
   "id": "21965959-1e0d-444d-9c6e-7e64d5a4d66b",
   "metadata": {},
   "source": [
    "14. Create a list of odd numbers from 1 to 20."
   ]
  },
  {
   "cell_type": "code",
   "execution_count": 42,
   "id": "b84ba330-6bf8-4c1f-abe9-4aa214f4fd88",
   "metadata": {},
   "outputs": [
    {
     "data": {
      "text/plain": [
       "[1, 3, 5, 7, 9, 11, 13, 15, 17, 19]"
      ]
     },
     "execution_count": 42,
     "metadata": {},
     "output_type": "execute_result"
    }
   ],
   "source": [
    "l=range(1,21,2)\n",
    "x=list(l)\n",
    "x"
   ]
  },
  {
   "cell_type": "markdown",
   "id": "c74f7edf-f875-4c9c-b3eb-4ff28d12e9f8",
   "metadata": {},
   "source": [
    "15. Find the sum of all elements in a list."
   ]
  },
  {
   "cell_type": "code",
   "execution_count": 43,
   "id": "058ce7c7-c8df-4afd-af00-43f792b609ed",
   "metadata": {},
   "outputs": [
    {
     "name": "stdout",
     "output_type": "stream",
     "text": [
      "6\n"
     ]
    }
   ],
   "source": [
    "l=range(1,4)\n",
    "x=list(l)\n",
    "s=0\n",
    "for y in x:\n",
    "    s=s+y\n",
    "print(s)"
   ]
  },
  {
   "cell_type": "markdown",
   "id": "315141fc-a2f8-453b-a39f-f953c72de762",
   "metadata": {},
   "source": [
    "16. Find the maximum value in a list."
   ]
  },
  {
   "cell_type": "code",
   "execution_count": 45,
   "id": "7d32b985-52c4-4533-b435-744d5147c14e",
   "metadata": {},
   "outputs": [
    {
     "name": "stdout",
     "output_type": "stream",
     "text": [
      "5\n"
     ]
    }
   ],
   "source": [
    "x = [1,2,3,4,5,4,4,4,3]  #test list\n",
    "x.sort()                 #sort in ascending order\n",
    "print(x[-1])             #print last element"
   ]
  },
  {
   "cell_type": "markdown",
   "id": "f2a56323-c189-4677-8c38-736bb98d9c66",
   "metadata": {},
   "source": [
    "17. Find the minimum value in a list."
   ]
  },
  {
   "cell_type": "code",
   "execution_count": 48,
   "id": "5c3c1062-39c9-49a5-87a4-acf8bba4d94f",
   "metadata": {},
   "outputs": [
    {
     "name": "stdout",
     "output_type": "stream",
     "text": [
      "2\n"
     ]
    }
   ],
   "source": [
    "x = [8,2,3,4,5,4,4,4,3]  #test list\n",
    "x.sort()                 #sort in ascending order\n",
    "print(x[0])             #print first element"
   ]
  },
  {
   "cell_type": "markdown",
   "id": "332f8d48-4f11-4a1b-a069-b07a589aaa96",
   "metadata": {},
   "source": [
    "18. Create a list of squares of numbers from 1 to 10."
   ]
  },
  {
   "cell_type": "code",
   "execution_count": 49,
   "id": "9ff233d9-8f9d-4c94-9b2c-72b0d1c9cf5d",
   "metadata": {},
   "outputs": [
    {
     "name": "stdout",
     "output_type": "stream",
     "text": [
      "[1, 4, 9, 16, 25, 36, 49, 64, 81, 100]\n"
     ]
    }
   ],
   "source": [
    "l=range(1,11)\n",
    "x=list(l)\n",
    "l1=[]\n",
    "for y in x:\n",
    "    s=y*y\n",
    "    l1.append(s)\n",
    "print(l1)\n",
    "\n",
    "    "
   ]
  },
  {
   "cell_type": "markdown",
   "id": "2767eb8f-6c26-430f-8aab-68a4080242cf",
   "metadata": {},
   "source": [
    "19. Create a list of random numbers."
   ]
  },
  {
   "cell_type": "code",
   "execution_count": 51,
   "id": "4f16d493-e0fa-4b32-a6ef-0e8629b6840a",
   "metadata": {},
   "outputs": [
    {
     "name": "stdout",
     "output_type": "stream",
     "text": [
      "[4, 4, 9, 8, 8, 8, 3, 3, 8, 7]\n"
     ]
    }
   ],
   "source": [
    "import random\n",
    "rand_list=[]\n",
    "n=10\n",
    "for i in range(n):\n",
    "    rand_list.append(random.randint(3,9))\n",
    "print(rand_list)"
   ]
  },
  {
   "cell_type": "markdown",
   "id": "823b5403-03a5-48ef-9704-b0e7a9fa54a6",
   "metadata": {},
   "source": [
    "20.  Remove duplicates from a list."
   ]
  },
  {
   "cell_type": "code",
   "execution_count": null,
   "id": "f8a69ed6-0926-4c0d-9633-c8a1c43d9b12",
   "metadata": {},
   "outputs": [
    {
     "name": "stdout",
     "output_type": "stream",
     "text": [
      "Common elements: [30, 40, 50]\n"
     ]
    }
   ],
   "source": [
    "x = [8,2,3,4,5,4,4,4,3]  #test list\n",
    "x=set(x)\n",
    "x=list(x)\n",
    "x"
   ]
  },
  {
   "cell_type": "markdown",
   "id": "2606bb61-4b55-4244-ae71-36b5781eff3a",
   "metadata": {},
   "source": [
    "## 21. Find the common elements between two lists."
   ]
  },
  {
   "cell_type": "code",
   "execution_count": 52,
   "id": "1642fe0e-e115-4062-b6ed-73eb6e88418b",
   "metadata": {},
   "outputs": [
    {
     "name": "stdout",
     "output_type": "stream",
     "text": [
      "Common elements: [30, 40, 50]\n"
     ]
    }
   ],
   "source": [
    "list1 = [10, 20, 30, 40, 50]\n",
    "list2 = [30, 40, 50, 60, 70]\n",
    "\n",
    "# Find common elements using list comprehension\n",
    "common_elements = [element for element in list1 if element in list2]\n",
    "\n",
    "# Print the common elements\n",
    "print(\"Common elements:\", common_elements)\n",
    "        "
   ]
  },
  {
   "cell_type": "markdown",
   "id": "2c023887-98b7-4788-bbb3-f7932b04ad02",
   "metadata": {},
   "source": [
    "## 22. Find the difference between two lists."
   ]
  },
  {
   "cell_type": "code",
   "execution_count": 53,
   "id": "4f14b91a-7c18-4735-bd79-a1d1f08e0c4c",
   "metadata": {},
   "outputs": [
    {
     "name": "stdout",
     "output_type": "stream",
     "text": [
      "Difference between lists: [20, 10]\n"
     ]
    }
   ],
   "source": [
    "list1 = [10, 20, 30, 40, 50]\n",
    "list2 = [30, 40, 50, 60, 70]\n",
    "\n",
    "# Find the difference between lists using the difference() method\n",
    "difference = list(set(list1).difference(list2))\n",
    "\n",
    "# Print the difference\n",
    "print(\"Difference between lists:\", difference)\n",
    "        \n",
    "    "
   ]
  },
  {
   "cell_type": "markdown",
   "id": "eb6015ca-70f4-43b3-9a50-034b6def8617",
   "metadata": {},
   "source": [
    "23. Merge two lists."
   ]
  },
  {
   "cell_type": "code",
   "execution_count": 37,
   "id": "6d34d4e0-f451-4e2a-931c-2c3a285ff942",
   "metadata": {},
   "outputs": [
    {
     "data": {
      "text/plain": [
       "[1, 2, 40, 50, 3, 1, 2, 3]"
      ]
     },
     "execution_count": 37,
     "metadata": {},
     "output_type": "execute_result"
    }
   ],
   "source": [
    "l1 = [1,2,40,50,3]\n",
    "l2 = [1,2,3]\n",
    "t = l1+l2\n",
    "t\n"
   ]
  },
  {
   "cell_type": "markdown",
   "id": "cb53461d-d8c4-4161-b544-2517cb65f11c",
   "metadata": {},
   "source": [
    "24. Multiply all elements in a list by 2."
   ]
  },
  {
   "cell_type": "code",
   "execution_count": 1,
   "id": "19d51863-ed06-4fb5-ae8d-1d9dcd2add94",
   "metadata": {},
   "outputs": [
    {
     "data": {
      "text/plain": [
       "[2, 4, 80, 100, 6]"
      ]
     },
     "execution_count": 1,
     "metadata": {},
     "output_type": "execute_result"
    }
   ],
   "source": [
    "l1 = [1,2,40,50,3]\n",
    "t=[]\n",
    "for x in l1:\n",
    "    t.append(x*2)\n",
    "t"
   ]
  },
  {
   "cell_type": "markdown",
   "id": "b6a3b278-6a9d-4d37-868e-6c93b034cc62",
   "metadata": {},
   "source": [
    "25. Filter out all even numbers from a list."
   ]
  },
  {
   "cell_type": "code",
   "execution_count": 43,
   "id": "b1258b36-e398-457d-beb6-a0777f28f74a",
   "metadata": {},
   "outputs": [
    {
     "name": "stdout",
     "output_type": "stream",
     "text": [
      "[2, 40, 50]\n"
     ]
    }
   ],
   "source": [
    "l1 = [1,2,40,50,3]\n",
    "t=[]\n",
    "for x in l1:\n",
    "    if x%2 == 0:\n",
    "        t.append(x)\n",
    "print(t)"
   ]
  },
  {
   "cell_type": "markdown",
   "id": "53d18eec-9005-452a-9f71-ef221976c58e",
   "metadata": {},
   "source": [
    "26. Convert a list of strings to a list of integers."
   ]
  },
  {
   "cell_type": "code",
   "execution_count": 46,
   "id": "ca77d489-727e-4f22-87d5-ad1fe19d4e8c",
   "metadata": {},
   "outputs": [
    {
     "name": "stdout",
     "output_type": "stream",
     "text": [
      "[1, 2, 40, 50, 3]\n"
     ]
    }
   ],
   "source": [
    "l1 = ['1','2','40','50','3']\n",
    "t=[]\n",
    "for x in l1:\n",
    "    t.append(int(x))\n",
    "print(t)"
   ]
  },
  {
   "cell_type": "markdown",
   "id": "957f39d1-c53b-43aa-a456-10ac8a7269c4",
   "metadata": {},
   "source": [
    "27. Convert a list of integers to a list of strings."
   ]
  },
  {
   "cell_type": "code",
   "execution_count": 57,
   "id": "4489cfe7-dd34-4380-b15c-b7df24e51af0",
   "metadata": {},
   "outputs": [
    {
     "name": "stdout",
     "output_type": "stream",
     "text": [
      "['1', '2', '40', '50', '3']\n"
     ]
    }
   ],
   "source": [
    "l1=[1, 2, 40, 50, 3]\n",
    "i=''\n",
    "t=[]\n",
    "for x in l1:\n",
    "    i = str(x)\n",
    "    t.append(i)\n",
    "print(t)"
   ]
  },
  {
   "cell_type": "markdown",
   "id": "20d2a27b-9ce0-4479-9d8d-09e0e2a28416",
   "metadata": {},
   "source": [
    "28. Flatten a nested list."
   ]
  },
  {
   "cell_type": "code",
   "execution_count": 58,
   "id": "50ecf508-d394-4fc1-bbf3-687a45f82a34",
   "metadata": {},
   "outputs": [
    {
     "name": "stdout",
     "output_type": "stream",
     "text": [
      "[1, 2, 3, 4, 5, 6, 7]\n"
     ]
    }
   ],
   "source": [
    "my_list = [[1], [2, 3], [4, 5, 6, 7]]\n",
    "f=[]\n",
    "for x in my_list:\n",
    "    for y in x:\n",
    "        f.append(y)\n",
    "print(f)"
   ]
  },
  {
   "cell_type": "markdown",
   "id": "b3a0bc6f-de1c-4d8f-b7c9-c87d65cb5e11",
   "metadata": {},
   "source": [
    "29. Create a list of the first 10 Fibonacci numbers."
   ]
  },
  {
   "cell_type": "code",
   "execution_count": 63,
   "id": "73af82b9-fed6-49b1-9fcb-5b86b50570b5",
   "metadata": {},
   "outputs": [
    {
     "name": "stdout",
     "output_type": "stream",
     "text": [
      "[0, 1, 1, 2, 3, 5, 8, 13, 21, 34, 55]\n"
     ]
    }
   ],
   "source": [
    "c=1\n",
    "s=0\n",
    "l=[0,1]\n",
    "while c<10:\n",
    "    s=l[c-1]+l[c]\n",
    "    l.append(s)\n",
    "    c=c+1\n",
    "print(l)\n",
    "    \n",
    "    "
   ]
  },
  {
   "cell_type": "markdown",
   "id": "b03363c7-89bd-4e32-b0ec-69ca21567c70",
   "metadata": {},
   "source": [
    "30. Check if a list is sorted."
   ]
  },
  {
   "cell_type": "code",
   "execution_count": 8,
   "id": "9f610d14-348c-48de-b0af-ed4db49a9f8a",
   "metadata": {},
   "outputs": [
    {
     "name": "stdout",
     "output_type": "stream",
     "text": [
      "no\n"
     ]
    }
   ],
   "source": [
    "l=[1,3,4,2,1]\n",
    "s=l\n",
    "l1=l.sort()\n",
    "if l1==s:\n",
    "    print('yes')\n",
    "else:\n",
    "    print('no')\n",
    "\n",
    "\n"
   ]
  },
  {
   "cell_type": "markdown",
   "id": "c77fd3aa-0ecf-415e-ba09-0a18dc188037",
   "metadata": {},
   "source": [
    "31. Rotate a list to the left by `n` positions."
   ]
  },
  {
   "cell_type": "code",
   "execution_count": 1,
   "id": "f2e5eddf-9d74-4657-9d6c-d7922d42389d",
   "metadata": {},
   "outputs": [
    {
     "name": "stdout",
     "output_type": "stream",
     "text": [
      "[3, 2, 4, 8, 1]\n"
     ]
    }
   ],
   "source": [
    "l= [1,3,2,4,8]\n",
    "y=l[-1]\n",
    "for x in l:\n",
    "    i = l.index(x)\n",
    "    l[i-1]=l[i]\n",
    "l[-2] = y\n",
    "print(l)\n",
    "    \n",
    "    \n",
    "    "
   ]
  },
  {
   "cell_type": "code",
   "execution_count": 14,
   "id": "aab9f06b-f474-4539-a693-0a08f6f43d0a",
   "metadata": {},
   "outputs": [],
   "source": [
    "d =[1,2,3,4,5]"
   ]
  },
  {
   "cell_type": "markdown",
   "id": "1b03df64-6cc6-4573-ba9b-a5c391f361d0",
   "metadata": {},
   "source": [
    "32. Rotate a list to the right by `n` positions."
   ]
  },
  {
   "cell_type": "code",
   "execution_count": 18,
   "id": "d7fab5dd-dd56-4c10-bff9-0e0d6fd67462",
   "metadata": {},
   "outputs": [
    {
     "data": {
      "text/plain": [
       "[7, 1, 5, 2, 3, 6]"
      ]
     },
     "execution_count": 18,
     "metadata": {},
     "output_type": "execute_result"
    }
   ],
   "source": [
    "t= [1,5,2,3,6,7]\n",
    "s1 = t[0:(len(t)-1)]   #slice string index 0 to 2nd last element\n",
    "s1.insert(0,t[-1])     #insert last element to index 0\n",
    "s1\n",
    "#Right shifted list"
   ]
  },
  {
   "cell_type": "markdown",
   "id": "3eb965e1-ca81-44ae-b4f2-28b5c23172f9",
   "metadata": {},
   "source": [
    "33. Create a list of prime numbers up to 50."
   ]
  },
  {
   "cell_type": "code",
   "execution_count": 1,
   "id": "ec22e29c-adaf-4e56-81a5-c9632c8d9853",
   "metadata": {},
   "outputs": [
    {
     "name": "stdout",
     "output_type": "stream",
     "text": [
      "[1, 3, 5, 7, 9, 11, 13, 15, 17, 19, 21, 23, 25, 27, 29, 31, 33, 35, 37, 39, 41, 43, 45, 47, 49]\n"
     ]
    }
   ],
   "source": [
    "l_prime = list(range(1,50,2))\n",
    "print(l_prime)"
   ]
  },
  {
   "cell_type": "markdown",
   "id": "3348c25d-62f0-4bb9-a419-03e16c57cc6a",
   "metadata": {},
   "source": [
    "## 34. Split a list into chunks of size `n`."
   ]
  },
  {
   "cell_type": "code",
   "execution_count": 4,
   "id": "f3556900-3517-4771-bdde-d79dae4c7c49",
   "metadata": {},
   "outputs": [
    {
     "name": "stdin",
     "output_type": "stream",
     "text": [
      "Enter chunk size 2\n"
     ]
    },
    {
     "name": "stdout",
     "output_type": "stream",
     "text": [
      "[[1, 2], [3, 4], [5, 6], [7, 8], [9, 10]]\n"
     ]
    }
   ],
   "source": [
    "l=list(range(1,11))\n",
    "n=int(input('Enter chunk size'))\n",
    "t=[]\n",
    "i=0\n",
    "while i<len(l):\n",
    "    t.append(l[i:n+i])\n",
    "    i=i+n\n",
    "print(t)\n",
    "    \n"
   ]
  },
  {
   "cell_type": "markdown",
   "id": "2e4787a6-800a-44c4-89b4-5993ce547763",
   "metadata": {},
   "source": [
    "35. Find the second largest number in a list."
   ]
  },
  {
   "cell_type": "code",
   "execution_count": 8,
   "id": "ce881fc7-0fdc-4568-81de-54cee3eff345",
   "metadata": {},
   "outputs": [
    {
     "data": {
      "text/plain": [
       "10"
      ]
     },
     "execution_count": 8,
     "metadata": {},
     "output_type": "execute_result"
    }
   ],
   "source": [
    "l=[1,2,3,4,89,0,9,3,10]\n",
    "l.sort()\n",
    "l[-2]"
   ]
  },
  {
   "cell_type": "markdown",
   "id": "54e4b6df-e313-4ed4-b31f-ff032825314d",
   "metadata": {},
   "source": [
    "36. Replace every element in a list with its square."
   ]
  },
  {
   "cell_type": "code",
   "execution_count": 12,
   "id": "b864f608-db76-4588-beb8-ee4c9510d79a",
   "metadata": {},
   "outputs": [
    {
     "name": "stdout",
     "output_type": "stream",
     "text": [
      "[1, 4, 9]\n"
     ]
    }
   ],
   "source": [
    "l=list(range(1,4))\n",
    "s=[]\n",
    "for x in l:\n",
    "    s.append(x*x)\n",
    "print(s)"
   ]
  },
  {
   "cell_type": "markdown",
   "id": "4327de00-5402-4d43-a03a-e9359ef1e4b2",
   "metadata": {},
   "source": [
    "37. Convert a list to a dictionary where list elements become keys and their\n",
    "indices become values."
   ]
  },
  {
   "cell_type": "code",
   "execution_count": 16,
   "id": "d1ad8bda-21a5-4909-929b-0031f330c457",
   "metadata": {},
   "outputs": [
    {
     "data": {
      "text/plain": [
       "{1: 0, 2: 1, 3: 2}"
      ]
     },
     "execution_count": 16,
     "metadata": {},
     "output_type": "execute_result"
    }
   ],
   "source": [
    "l=list(range(1,4))\n",
    "dict={}\n",
    "for x in l:\n",
    "    dict[x]=l.index(x)\n",
    "dict"
   ]
  },
  {
   "cell_type": "markdown",
   "id": "df0a8e4c-74b9-4ad2-a1ed-ce01118be89b",
   "metadata": {},
   "source": [
    "## 38. Shuffle the elements of a list randomly."
   ]
  },
  {
   "cell_type": "code",
   "execution_count": 20,
   "id": "403698a5-42b7-45e8-9d4a-cb63108bc946",
   "metadata": {},
   "outputs": [
    {
     "name": "stdout",
     "output_type": "stream",
     "text": [
      "Shuffled list: [9, 8, 4, 6, 3, 7, 1, 5, 10, 2]\n"
     ]
    }
   ],
   "source": [
    "import random\n",
    "\n",
    "# Example list\n",
    "my_list = [1, 2, 3, 4, 5, 6, 7, 8, 9, 10]\n",
    "\n",
    "# Shuffle the list randomly\n",
    "random.shuffle(my_list)\n",
    "\n",
    "# Print the shuffled list\n",
    "print(\"Shuffled list:\", my_list)"
   ]
  },
  {
   "cell_type": "markdown",
   "id": "85e0323f-fd0f-4a3a-b7bd-b414512ef259",
   "metadata": {},
   "source": [
    "39. Create a list of the first 10 factorial numbers."
   ]
  },
  {
   "cell_type": "code",
   "execution_count": 24,
   "id": "571238d9-d8e6-4d5e-afa0-8f25b417b01c",
   "metadata": {},
   "outputs": [
    {
     "name": "stdout",
     "output_type": "stream",
     "text": [
      "[1, 2, 6, 24, 120, 720, 5040, 40320, 362880, 3628800]\n"
     ]
    }
   ],
   "source": [
    "l=list(range(1,11))\n",
    "i=1\n",
    "c=1\n",
    "f=[]\n",
    "for x in l:\n",
    "    while(i<=x):\n",
    "        c=c*i\n",
    "        i=i+1\n",
    "    f.append(c)\n",
    "print(f)    "
   ]
  },
  {
   "cell_type": "markdown",
   "id": "8d7f3029-e6f1-4f5f-83d6-a5579b43b548",
   "metadata": {},
   "source": [
    "40. Check if two lists have at least one element in common."
   ]
  },
  {
   "cell_type": "code",
   "execution_count": 31,
   "id": "f99ce3c9-2f34-4757-ab0d-6367d25e9533",
   "metadata": {},
   "outputs": [
    {
     "name": "stdout",
     "output_type": "stream",
     "text": [
      "Yes\n"
     ]
    }
   ],
   "source": [
    "l1=list(range(1,11))\n",
    "l2=list(range(9,18))\n",
    "c=0\n",
    "for x in l1:\n",
    "    for y in l2:\n",
    "        if x==y:\n",
    "            c=c+1\n",
    "if c>0:\n",
    "    print('Yes')\n",
    "else:\n",
    "    print('No')"
   ]
  },
  {
   "cell_type": "markdown",
   "id": "ff3de350-1537-4c1a-85ea-9b42884c744c",
   "metadata": {},
   "source": [
    "41. Remove all elements from a list."
   ]
  },
  {
   "cell_type": "code",
   "execution_count": 33,
   "id": "bb36d33c-e6f0-4bef-adf1-231a8d276e84",
   "metadata": {},
   "outputs": [
    {
     "name": "stdout",
     "output_type": "stream",
     "text": [
      "[1, 2, 3, 4, 5, 6, 7, 8, 9, 10]\n"
     ]
    },
    {
     "data": {
      "text/plain": [
       "[]"
      ]
     },
     "execution_count": 33,
     "metadata": {},
     "output_type": "execute_result"
    }
   ],
   "source": [
    "l1=list(range(1,11))\n",
    "print(l1)\n",
    "l1.clear()\n",
    "l1"
   ]
  },
  {
   "cell_type": "markdown",
   "id": "742b954e-3c82-4fc4-bf75-009855e0ed7c",
   "metadata": {},
   "source": [
    "42. Replace negative numbers in a list with 0."
   ]
  },
  {
   "cell_type": "code",
   "execution_count": 36,
   "id": "25af2e78-736c-40e9-8552-1d03024352b3",
   "metadata": {},
   "outputs": [
    {
     "name": "stdout",
     "output_type": "stream",
     "text": [
      "[2, 3, 0, 7, 0, 0]\n"
     ]
    }
   ],
   "source": [
    "l1=[2,3,-2,7,-9,-18]\n",
    "for x in l1:\n",
    "    if x<0:\n",
    "        i=l1.index(x)\n",
    "        l1[i]=0\n",
    "print(l1)\n",
    "      "
   ]
  },
  {
   "cell_type": "markdown",
   "id": "da929f03-4bf5-44c2-abbb-3d41966b236b",
   "metadata": {},
   "source": [
    "43. Convert a string into a list of words."
   ]
  },
  {
   "cell_type": "code",
   "execution_count": 39,
   "id": "e23c27a4-a9a2-4029-91f6-9d0cba765080",
   "metadata": {},
   "outputs": [
    {
     "name": "stdin",
     "output_type": "stream",
     "text": [
      "Enter a sentence i love you\n"
     ]
    },
    {
     "data": {
      "text/plain": [
       "['i', 'love', 'you']"
      ]
     },
     "execution_count": 39,
     "metadata": {},
     "output_type": "execute_result"
    }
   ],
   "source": [
    "s = input('Enter a sentence')\n",
    "l = s.split()\n",
    "l"
   ]
  },
  {
   "cell_type": "markdown",
   "id": "b2513dda-a2b6-4889-8f2e-6b2489042c3e",
   "metadata": {},
   "source": [
    "44. Convert a list of words into a string."
   ]
  },
  {
   "cell_type": "code",
   "execution_count": 41,
   "id": "92a84b70-dddd-4e1e-b349-529e119bed4d",
   "metadata": {},
   "outputs": [
    {
     "data": {
      "text/plain": [
       "\"['i', 'love', 'pwskills']\""
      ]
     },
     "execution_count": 41,
     "metadata": {},
     "output_type": "execute_result"
    }
   ],
   "source": [
    "l = ['i','love','pwskills']\n",
    "s= str(l)\n",
    "s"
   ]
  },
  {
   "cell_type": "markdown",
   "id": "8789e47a-2fe8-4543-b054-934b58547b7f",
   "metadata": {},
   "source": [
    "45. Create a list of the first `n` powers of 2."
   ]
  },
  {
   "cell_type": "code",
   "execution_count": 2,
   "id": "cb31e300-473a-41a4-b255-8bc26a36e773",
   "metadata": {},
   "outputs": [
    {
     "name": "stdin",
     "output_type": "stream",
     "text": [
      "Enter value of n 4\n"
     ]
    },
    {
     "name": "stdout",
     "output_type": "stream",
     "text": [
      "[2, 4, 8]\n"
     ]
    }
   ],
   "source": [
    "n=int(input('Enter value of n'))\n",
    "i=1\n",
    "l=[]\n",
    "while i<n:\n",
    "    l.append(2**i)\n",
    "    i=i+1\n",
    "print(l)"
   ]
  },
  {
   "cell_type": "markdown",
   "id": "df3ebcf0-52cb-4a79-bf35-b4b60110376b",
   "metadata": {},
   "source": [
    "## 46. Find the longest string in a list of strings."
   ]
  },
  {
   "cell_type": "code",
   "execution_count": 22,
   "id": "146a0d8f-17f5-418e-b928-143b9c948329",
   "metadata": {},
   "outputs": [
    {
     "name": "stdout",
     "output_type": "stream",
     "text": [
      "Aakriti\n"
     ]
    }
   ],
   "source": [
    "l=['Nimish','Aakriti','Tomar','Riya']\n",
    "long_str = ''\n",
    "for x in l:\n",
    "    if len(x) > len(long_str):\n",
    "        long_str = x\n",
    "print(long_str)\n",
    "\n",
    "        \n",
    "    \n",
    " "
   ]
  },
  {
   "cell_type": "markdown",
   "id": "8617ed65-3d62-4369-88c4-492233ce4925",
   "metadata": {},
   "source": [
    "## 47. Find the shortest string in a list of strings."
   ]
  },
  {
   "cell_type": "code",
   "execution_count": 24,
   "id": "f87a4967-ce02-4d68-ae65-3a968f0af242",
   "metadata": {},
   "outputs": [
    {
     "name": "stdout",
     "output_type": "stream",
     "text": [
      "Riya\n"
     ]
    }
   ],
   "source": [
    "l=['Nimish','Aakriti','Tomar','Riya']\n",
    "short_str = l[0]\n",
    "for x in l:\n",
    "    if len(x) < len(short_str):\n",
    "        short_str = x\n",
    "print(short_str)"
   ]
  },
  {
   "cell_type": "markdown",
   "id": "556f35bd-aa19-4539-bc01-fbcec0796c46",
   "metadata": {},
   "source": [
    "## 48. Create a list of the first `n` triangular numbers."
   ]
  },
  {
   "cell_type": "code",
   "execution_count": 7,
   "id": "ca039530-ef7a-45b8-9de3-2d01a7a71721",
   "metadata": {},
   "outputs": [
    {
     "name": "stdin",
     "output_type": "stream",
     "text": [
      "Enter n 6\n"
     ]
    },
    {
     "name": "stdout",
     "output_type": "stream",
     "text": [
      "[1, 3, 6, 10, 15]\n"
     ]
    }
   ],
   "source": [
    "n = int(input('Enter n'))\n",
    "l = list(range(1,n))\n",
    "t=[]\n",
    "s=0\n",
    "for x in l:\n",
    "    s=s+x\n",
    "    t.append(s)\n",
    "print(t)"
   ]
  },
  {
   "cell_type": "markdown",
   "id": "054986f6-7563-42f6-ba77-0762e9b3c6cf",
   "metadata": {},
   "source": [
    "49. Check if a list contains another list as a subsequence."
   ]
  },
  {
   "cell_type": "code",
   "execution_count": 10,
   "id": "7d295c52-ebc2-4698-9cc4-3b70facfb075",
   "metadata": {},
   "outputs": [
    {
     "name": "stdout",
     "output_type": "stream",
     "text": [
      "yes\n"
     ]
    }
   ],
   "source": [
    "l=[1,2,3,[1,2,3,4]]\n",
    "c=0\n",
    "for x in l:\n",
    "    if type(x) == list:\n",
    "        c=c+1\n",
    "if c>0:\n",
    "    print('yes')\n",
    "else:\n",
    "    print('no')\n"
   ]
  },
  {
   "cell_type": "markdown",
   "id": "e7fca3eb-09e7-4aa1-9611-8ee589a54136",
   "metadata": {},
   "source": [
    "## 50. Swap two elements in a list by their indices."
   ]
  },
  {
   "cell_type": "code",
   "execution_count": 11,
   "id": "e094d7e8-793c-4014-a773-e7054e7cf375",
   "metadata": {},
   "outputs": [
    {
     "data": {
      "text/plain": [
       "[1, 2, 5, 4, 3]"
      ]
     },
     "execution_count": 11,
     "metadata": {},
     "output_type": "execute_result"
    }
   ],
   "source": [
    "g=[1,2,3,4,5]\n",
    "t=g[2]\n",
    "g[2]=g[4]    #swap 3rd and 5th element\n",
    "g[4]=t\n",
    "g"
   ]
  },
  {
   "cell_type": "markdown",
   "id": "642ab22f-8cc4-4a52-86e8-08e16d31c4d3",
   "metadata": {},
   "source": [
    "## Tuple Based Practice Problem :"
   ]
  },
  {
   "cell_type": "markdown",
   "id": "9ccbd2d4-5b97-42c5-9461-03b7a638fbe9",
   "metadata": {},
   "source": [
    "1.Create a tuple with integers from 1 to 5."
   ]
  },
  {
   "cell_type": "code",
   "execution_count": 2,
   "id": "f2a5ed67-6f1b-451c-aab5-18b0cb863ae0",
   "metadata": {},
   "outputs": [
    {
     "data": {
      "text/plain": [
       "tuple"
      ]
     },
     "execution_count": 2,
     "metadata": {},
     "output_type": "execute_result"
    }
   ],
   "source": [
    "t=tuple(range(1,6))\n",
    "t\n",
    "type(t)"
   ]
  },
  {
   "cell_type": "markdown",
   "id": "3fc6c356-c018-4198-9e93-7e36ab93b876",
   "metadata": {},
   "source": [
    "2. Access the third element of a tuple."
   ]
  },
  {
   "cell_type": "code",
   "execution_count": 3,
   "id": "780b37c5-e1aa-4be0-8bfc-7f22ac36a19c",
   "metadata": {},
   "outputs": [
    {
     "data": {
      "text/plain": [
       "3"
      ]
     },
     "execution_count": 3,
     "metadata": {},
     "output_type": "execute_result"
    }
   ],
   "source": [
    "t=tuple(range(1,6))\n",
    "t[2]"
   ]
  },
  {
   "cell_type": "markdown",
   "id": "f978de9c-ab20-4925-9b65-454d76569387",
   "metadata": {},
   "source": [
    "3. Find the length of a tuple without using the `len()` function."
   ]
  },
  {
   "cell_type": "code",
   "execution_count": 4,
   "id": "bef77356-55cf-4b08-bad7-316f367627a0",
   "metadata": {},
   "outputs": [
    {
     "name": "stdout",
     "output_type": "stream",
     "text": [
      "5\n"
     ]
    }
   ],
   "source": [
    "t=tuple(range(1,6))\n",
    "c=0\n",
    "for x in t:\n",
    "    c=c+1\n",
    "print(c)"
   ]
  },
  {
   "cell_type": "markdown",
   "id": "79921e35-88d7-4c3f-8ae1-70bef3a89db0",
   "metadata": {},
   "source": [
    "4. Count the occurrences of an element in a tuple."
   ]
  },
  {
   "cell_type": "code",
   "execution_count": 5,
   "id": "bfbfc051-c6b2-49d9-8d8a-43a976347c5e",
   "metadata": {},
   "outputs": [
    {
     "name": "stdout",
     "output_type": "stream",
     "text": [
      "3\n"
     ]
    }
   ],
   "source": [
    "t=(1,2,4,1,1,0,5)  #test  tuple\n",
    "n=1                #number to be checked\n",
    "c=0\n",
    "for x in t:\n",
    "    if x==n:\n",
    "        c=c+1\n",
    "print(c)\n",
    "            "
   ]
  },
  {
   "cell_type": "markdown",
   "id": "89316475-1ffc-4dc8-844a-b194709a9bab",
   "metadata": {},
   "source": [
    "5. Find the index of the first occurrence of an element in a tuple."
   ]
  },
  {
   "cell_type": "code",
   "execution_count": 9,
   "id": "4d4fc1f7-f418-4be0-ae40-65ce64bc0cad",
   "metadata": {},
   "outputs": [
    {
     "data": {
      "text/plain": [
       "1"
      ]
     },
     "execution_count": 9,
     "metadata": {},
     "output_type": "execute_result"
    }
   ],
   "source": [
    "t=(4,5,7,1,2,9,3,5,4,5)\n",
    "n=5                #number to be checked\n",
    "c=t.index(5)\n",
    "c"
   ]
  },
  {
   "cell_type": "markdown",
   "id": "dff77d32-53c6-4967-aae8-2c381ff9917e",
   "metadata": {},
   "source": [
    "6. Check if an element exists in a tuple."
   ]
  },
  {
   "cell_type": "code",
   "execution_count": 12,
   "id": "0ba18b72-8d59-4abc-862a-a644517d0fbb",
   "metadata": {},
   "outputs": [
    {
     "name": "stdout",
     "output_type": "stream",
     "text": [
      "yes\n"
     ]
    }
   ],
   "source": [
    "t=(4,5,7,1,2,9,3,5,4,5)\n",
    "n=5                #number to be checked\n",
    "for x in t:\n",
    "    if x==n:\n",
    "        print('yes')\n",
    "        break\n"
   ]
  },
  {
   "cell_type": "markdown",
   "id": "964c5e93-bec9-4bee-8310-faf3b4d220ba",
   "metadata": {},
   "source": [
    "7. Convert a tuple to a list."
   ]
  },
  {
   "cell_type": "code",
   "execution_count": 13,
   "id": "2c205468-ae22-400a-abba-398e1d6196e5",
   "metadata": {},
   "outputs": [
    {
     "data": {
      "text/plain": [
       "[4, 5, 7, 1, 2, 9, 3, 5, 4, 5]"
      ]
     },
     "execution_count": 13,
     "metadata": {},
     "output_type": "execute_result"
    }
   ],
   "source": [
    "t=(4,5,7,1,2,9,3,5,4,5)\n",
    "l=list(t)\n",
    "l"
   ]
  },
  {
   "cell_type": "markdown",
   "id": "f2a30ca8-79d4-4e13-a188-a84d4f14bd58",
   "metadata": {},
   "source": [
    "8. Convert a list to a tuple."
   ]
  },
  {
   "cell_type": "code",
   "execution_count": 14,
   "id": "380af19c-bb4e-4382-b7fa-dececb1a3ba3",
   "metadata": {},
   "outputs": [
    {
     "data": {
      "text/plain": [
       "(4, 5, 7, 1, 2, 9, 3, 5, 4, 5)"
      ]
     },
     "execution_count": 14,
     "metadata": {},
     "output_type": "execute_result"
    }
   ],
   "source": [
    "l=[4, 5, 7, 1, 2, 9, 3, 5, 4, 5]\n",
    "t=tuple(l)\n",
    "t"
   ]
  },
  {
   "cell_type": "markdown",
   "id": "5e39c98d-46a9-44ae-8ce1-145e00ab1653",
   "metadata": {},
   "source": [
    "9. Unpack the elements of a tuple into variables."
   ]
  },
  {
   "cell_type": "code",
   "execution_count": null,
   "id": "9180794f-5d2d-472a-b0f5-e121376177b7",
   "metadata": {},
   "outputs": [],
   "source": [
    "t=(4,5,7,1,2,9)\n",
    "for x in t:\n",
    "    a=x\n",
    "    \n",
    "    "
   ]
  },
  {
   "cell_type": "markdown",
   "id": "20d2b431-f3a8-4cfb-8929-56d6735edca6",
   "metadata": {},
   "source": [
    "10.Create a tuple of even numbers from 1 to 10."
   ]
  },
  {
   "cell_type": "code",
   "execution_count": 15,
   "id": "0762a919-4cb1-4bd6-bab3-ca43f9fcf878",
   "metadata": {},
   "outputs": [
    {
     "data": {
      "text/plain": [
       "(2, 4, 6, 8, 10)"
      ]
     },
     "execution_count": 15,
     "metadata": {},
     "output_type": "execute_result"
    }
   ],
   "source": [
    "t=tuple(range(2,12,2))\n",
    "t"
   ]
  },
  {
   "cell_type": "markdown",
   "id": "d69883e9-7777-4bae-9305-0e8e24796ae3",
   "metadata": {},
   "source": [
    "11. Create a tuple of odd numbers from 1 to 10."
   ]
  },
  {
   "cell_type": "code",
   "execution_count": 16,
   "id": "db6bc330-e28a-4913-bb05-80ef40ee8808",
   "metadata": {},
   "outputs": [
    {
     "data": {
      "text/plain": [
       "(1, 3, 5, 7, 9)"
      ]
     },
     "execution_count": 16,
     "metadata": {},
     "output_type": "execute_result"
    }
   ],
   "source": [
    "t=tuple(range(1,11,2))\n",
    "t"
   ]
  },
  {
   "cell_type": "markdown",
   "id": "baa87b91-6c88-40e6-afad-4b76007db5a3",
   "metadata": {},
   "source": [
    "12. Concatenate two tuples."
   ]
  },
  {
   "cell_type": "code",
   "execution_count": 17,
   "id": "6bd40ab9-05c9-48e5-aff5-05584f56625b",
   "metadata": {},
   "outputs": [
    {
     "data": {
      "text/plain": [
       "(1, 2, 3, 4, 6, 7, 8, 9)"
      ]
     },
     "execution_count": 17,
     "metadata": {},
     "output_type": "execute_result"
    }
   ],
   "source": [
    "t=tuple(range(1,5))\n",
    "t1=tuple(range(6,10))\n",
    "t+t1"
   ]
  },
  {
   "cell_type": "markdown",
   "id": "685f85af-4b00-4133-a0f5-33c8bb34081e",
   "metadata": {},
   "source": [
    "13. Repeat a tuple three times."
   ]
  },
  {
   "cell_type": "code",
   "execution_count": 19,
   "id": "83b7bebb-cea5-40e1-9659-cf2d12678730",
   "metadata": {},
   "outputs": [
    {
     "data": {
      "text/plain": [
       "(1, 2, 3, 4, 1, 2, 3, 4, 1, 2, 3, 4)"
      ]
     },
     "execution_count": 19,
     "metadata": {},
     "output_type": "execute_result"
    }
   ],
   "source": [
    "t=tuple(range(1,5))*3\n",
    "t"
   ]
  },
  {
   "cell_type": "markdown",
   "id": "b7348864-1527-47d2-a6ec-6ae874cdd63b",
   "metadata": {},
   "source": [
    "14. Check if a tuple is empty."
   ]
  },
  {
   "cell_type": "code",
   "execution_count": 25,
   "id": "1bb5f35e-e746-4072-be70-9f05af33f6aa",
   "metadata": {},
   "outputs": [
    {
     "name": "stdout",
     "output_type": "stream",
     "text": [
      "empty\n"
     ]
    }
   ],
   "source": [
    "t=()\n",
    "if len(t) == 0:\n",
    "    print('empty')\n"
   ]
  },
  {
   "cell_type": "markdown",
   "id": "862cbdaa-8938-47bb-bb4e-6b144121e9aa",
   "metadata": {},
   "source": [
    "15. Create a nested tuple."
   ]
  },
  {
   "cell_type": "code",
   "execution_count": 26,
   "id": "66a35dd3-6300-406b-b92e-01533b068665",
   "metadata": {},
   "outputs": [
    {
     "data": {
      "text/plain": [
       "(1, 2, 3, (2, 5, 6))"
      ]
     },
     "execution_count": 26,
     "metadata": {},
     "output_type": "execute_result"
    }
   ],
   "source": [
    "t=(1,2,3,(2,5,6))\n",
    "t"
   ]
  },
  {
   "cell_type": "markdown",
   "id": "913c95f7-5352-42cf-a41e-f12d9fd5cf5a",
   "metadata": {},
   "source": [
    "16. Access the first element of a nested tuple."
   ]
  },
  {
   "cell_type": "code",
   "execution_count": 27,
   "id": "05de0572-e663-45d9-b484-d207a375f998",
   "metadata": {},
   "outputs": [
    {
     "name": "stdout",
     "output_type": "stream",
     "text": [
      "2\n"
     ]
    }
   ],
   "source": [
    "t=(1,2,3,(2,5,6))\n",
    "for x in t:\n",
    "    if type(x) == tuple:\n",
    "        a=x[0]\n",
    "print(a)"
   ]
  },
  {
   "cell_type": "markdown",
   "id": "25f5ebba-01b0-4994-a713-149f88df0b54",
   "metadata": {},
   "source": [
    "17. Create a tuple with a single element."
   ]
  },
  {
   "cell_type": "code",
   "execution_count": 39,
   "id": "65f65a05-8aa2-452f-b2d5-5cc99681b039",
   "metadata": {},
   "outputs": [
    {
     "data": {
      "text/plain": [
       "tuple"
      ]
     },
     "execution_count": 39,
     "metadata": {},
     "output_type": "execute_result"
    }
   ],
   "source": [
    "t=(1,)\n",
    "type(t)\n"
   ]
  },
  {
   "cell_type": "markdown",
   "id": "66eddf05-5ebd-4403-9077-4862f46029fd",
   "metadata": {},
   "source": [
    "18. Compare two tuples."
   ]
  },
  {
   "cell_type": "code",
   "execution_count": 25,
   "id": "957bbbca-bd31-4917-899f-6a667a94482f",
   "metadata": {},
   "outputs": [
    {
     "name": "stdout",
     "output_type": "stream",
     "text": [
      "tuple1 == tuple2: False\n",
      "tuple1 != tuple2: True\n",
      "tuple1 < tuple2: True\n",
      "tuple1 <= tuple2: True\n",
      "tuple1 > tuple2: False\n",
      "tuple1 >= tuple2: False\n"
     ]
    }
   ],
   "source": [
    "# Step 1: Create two tuples\n",
    "tuple1 = (1, 2, 3)\n",
    "tuple2 = (1, 2, 4)\n",
    "\n",
    "# Step 2: Compare the two tuples using comparison operators\n",
    "print(\"tuple1 == tuple2:\", tuple1 == tuple2)  # Equality check\n",
    "print(\"tuple1 != tuple2:\", tuple1 != tuple2)  # Inequality check\n",
    "print(\"tuple1 < tuple2:\", tuple1 < tuple2)    # Less than check\n",
    "print(\"tuple1 <= tuple2:\", tuple1 <= tuple2)  # Less than or equal to check\n",
    "print(\"tuple1 > tuple2:\", tuple1 > tuple2)    # Greater than check\n",
    "print(\"tuple1 >= tuple2:\", tuple1 >= tuple2)  # Greater than or equal to check"
   ]
  },
  {
   "cell_type": "markdown",
   "id": "38a9105e-ae47-4d6a-a88d-3e5c62c0aa16",
   "metadata": {},
   "source": [
    "19. Delete a tuple."
   ]
  },
  {
   "cell_type": "code",
   "execution_count": 5,
   "id": "0345873f-222d-439d-9737-86bdac7b1a72",
   "metadata": {},
   "outputs": [
    {
     "name": "stdout",
     "output_type": "stream",
     "text": [
      "t deleted\n"
     ]
    }
   ],
   "source": [
    "t=tuple(range(1,5))\n",
    "del t\n",
    "print('t deleted')\n"
   ]
  },
  {
   "cell_type": "markdown",
   "id": "5136f3eb-cba2-40e8-83eb-d464ec98ddfe",
   "metadata": {},
   "source": [
    "20. Slice a tuple."
   ]
  },
  {
   "cell_type": "code",
   "execution_count": 6,
   "id": "c0ef9b28-69da-49ba-8bb7-5e32bb9a8507",
   "metadata": {},
   "outputs": [
    {
     "data": {
      "text/plain": [
       "(2, 3)"
      ]
     },
     "execution_count": 6,
     "metadata": {},
     "output_type": "execute_result"
    }
   ],
   "source": [
    "t=tuple(range(1,5))\n",
    "t[1:3]"
   ]
  },
  {
   "cell_type": "markdown",
   "id": "11e59b82-7569-455a-8990-03a328199e0d",
   "metadata": {},
   "source": [
    "21. Find the maximum value in a tuple."
   ]
  },
  {
   "cell_type": "code",
   "execution_count": 8,
   "id": "a654d1b8-270d-4cbe-b9af-0a3f12f663ad",
   "metadata": {},
   "outputs": [
    {
     "data": {
      "text/plain": [
       "4"
      ]
     },
     "execution_count": 8,
     "metadata": {},
     "output_type": "execute_result"
    }
   ],
   "source": [
    "t=tuple(range(1,5))\n",
    "t=list(t)\n",
    "t.sort()\n",
    "t[-1]    \n",
    "    "
   ]
  },
  {
   "cell_type": "markdown",
   "id": "3da0eee9-72e6-4479-a4d4-6993357bd09c",
   "metadata": {},
   "source": [
    "22. Find the minimum value in a tuple."
   ]
  },
  {
   "cell_type": "code",
   "execution_count": 10,
   "id": "fd294efa-1cbb-4e33-b1f7-f921ae6a1e31",
   "metadata": {},
   "outputs": [
    {
     "data": {
      "text/plain": [
       "0"
      ]
     },
     "execution_count": 10,
     "metadata": {},
     "output_type": "execute_result"
    }
   ],
   "source": [
    "t=(5,3,2,1,6,7,0)\n",
    "t=list(t)\n",
    "t.sort()\n",
    "t[0] "
   ]
  },
  {
   "cell_type": "markdown",
   "id": "ed29a2e4-69c8-4147-8786-571228d76154",
   "metadata": {},
   "source": [
    "23. Convert a string to a tuple of characters."
   ]
  },
  {
   "cell_type": "code",
   "execution_count": 12,
   "id": "82e8f177-51db-4403-b3d9-f0bf79aec95d",
   "metadata": {},
   "outputs": [
    {
     "data": {
      "text/plain": [
       "('h', 'e', 'l', 'l', 'o', 'l', 'o', 'v', 'e')"
      ]
     },
     "execution_count": 12,
     "metadata": {},
     "output_type": "execute_result"
    }
   ],
   "source": [
    "t='hellolove'\n",
    "tu=tuple(t)\n",
    "tu"
   ]
  },
  {
   "cell_type": "markdown",
   "id": "82322eb1-2877-4566-92d6-bcc27a4aa471",
   "metadata": {},
   "source": [
    "24. Convert a tuple of characters to a string."
   ]
  },
  {
   "cell_type": "code",
   "execution_count": 15,
   "id": "2024d49f-8410-4547-b081-c986e8cec06f",
   "metadata": {},
   "outputs": [
    {
     "name": "stdout",
     "output_type": "stream",
     "text": [
      "abcd\n"
     ]
    },
    {
     "data": {
      "text/plain": [
       "str"
      ]
     },
     "execution_count": 15,
     "metadata": {},
     "output_type": "execute_result"
    }
   ],
   "source": [
    "t = ('a','b','c','d')\n",
    "s=''\n",
    "for x in t:\n",
    "    s=s+x\n",
    "print(s)\n",
    "type(s)"
   ]
  },
  {
   "cell_type": "markdown",
   "id": "a7da732d-fec6-47ba-bb80-35f29e844aec",
   "metadata": {},
   "source": [
    "25. Create a tuple from multiple data types."
   ]
  },
  {
   "cell_type": "code",
   "execution_count": 16,
   "id": "bb2080e2-b747-43dd-8de6-0ee85e4737a2",
   "metadata": {},
   "outputs": [
    {
     "data": {
      "text/plain": [
       "(1, 2, 3, 'asdf', [1, 2, 3], {1, 2, 3, 4})"
      ]
     },
     "execution_count": 16,
     "metadata": {},
     "output_type": "execute_result"
    }
   ],
   "source": [
    "t=(1,2,3,'asdf',[1,2,3],{1,2,3,4})\n",
    "t"
   ]
  },
  {
   "cell_type": "markdown",
   "id": "fbcfcf49-21f3-4331-aed5-4b5e6b1fa3bd",
   "metadata": {},
   "source": [
    "26. Check if two tuples are identical.\n"
   ]
  },
  {
   "cell_type": "code",
   "execution_count": 18,
   "id": "b6afc3ab-175e-4a27-9b7e-8585a884a240",
   "metadata": {},
   "outputs": [
    {
     "name": "stdout",
     "output_type": "stream",
     "text": [
      "identical\n"
     ]
    }
   ],
   "source": [
    "t=tuple(range(1,5))\n",
    "t1=tuple(range(1,5))\n",
    "if t==t1:\n",
    "    print('identical')\n",
    "else:\n",
    "    print('not identical')"
   ]
  },
  {
   "cell_type": "markdown",
   "id": "cef9228a-526b-4a01-9ad1-0c1f32c2d65d",
   "metadata": {},
   "source": [
    "27. Sort the elements of a tuple."
   ]
  },
  {
   "cell_type": "code",
   "execution_count": 21,
   "id": "05eec75f-e553-4e74-be98-64eb0d2547d3",
   "metadata": {},
   "outputs": [
    {
     "data": {
      "text/plain": [
       "(1, 2, 3, 4, 34, 56, 245, 8900)"
      ]
     },
     "execution_count": 21,
     "metadata": {},
     "output_type": "execute_result"
    }
   ],
   "source": [
    "t=(2,34,1,4,56,3,245,8900)\n",
    "t=list(t)\n",
    "t.sort()\n",
    "t=tuple(t)\n",
    "t"
   ]
  },
  {
   "cell_type": "markdown",
   "id": "72da98af-d095-430e-8726-8ecbd7d2ac84",
   "metadata": {},
   "source": [
    "28. Convert a tuple of integers to a tuple of strings."
   ]
  },
  {
   "cell_type": "code",
   "execution_count": 36,
   "id": "045bc7cc-c22a-4737-9641-7b6011263d37",
   "metadata": {},
   "outputs": [
    {
     "name": "stdout",
     "output_type": "stream",
     "text": [
      "('1', '2', '3')\n"
     ]
    }
   ],
   "source": [
    "t=(1,2,3)\n",
    "t=list(t)\n",
    "s=[]\n",
    "for x in t:\n",
    "    x=str(x)\n",
    "    s.append(x)\n",
    "s=tuple(s)\n",
    "print(s)"
   ]
  },
  {
   "cell_type": "markdown",
   "id": "c3f4d79a-1be0-4809-81a2-141dc326c1cf",
   "metadata": {},
   "source": [
    "29. Convert a tuple of strings to a tuple of integers."
   ]
  },
  {
   "cell_type": "code",
   "execution_count": 37,
   "id": "0d2f2d15-22ce-4935-ba3e-ef7a1ccf4e11",
   "metadata": {},
   "outputs": [
    {
     "name": "stdout",
     "output_type": "stream",
     "text": [
      "(1, 2, 3)\n"
     ]
    }
   ],
   "source": [
    "t=('1','2','3')\n",
    "t=list(t)\n",
    "s=[]\n",
    "for x in t:\n",
    "    x=int(x)\n",
    "    s.append(x)\n",
    "s=tuple(s)\n",
    "print(s)"
   ]
  },
  {
   "cell_type": "markdown",
   "id": "9480f489-d77f-4fa1-b5b9-5f7d740c1115",
   "metadata": {},
   "source": [
    "30. Merge two tuples."
   ]
  },
  {
   "cell_type": "code",
   "execution_count": 39,
   "id": "df992967-bddf-4b25-980d-aae5fa791281",
   "metadata": {},
   "outputs": [
    {
     "data": {
      "text/plain": [
       "(1, 2, 3, 6, 7, 8)"
      ]
     },
     "execution_count": 39,
     "metadata": {},
     "output_type": "execute_result"
    }
   ],
   "source": [
    "t=(1,2,3)\n",
    "t1=(6,7,8)\n",
    "s=t+t1\n",
    "s"
   ]
  },
  {
   "cell_type": "markdown",
   "id": "72b8926f-0060-4d76-895a-4a255a19154d",
   "metadata": {},
   "source": [
    "## 31. Flatten a nested tuple."
   ]
  },
  {
   "cell_type": "code",
   "execution_count": 42,
   "id": "fc7b21d4-7967-4b5d-b1c1-a60cf64cb871",
   "metadata": {},
   "outputs": [
    {
     "name": "stdout",
     "output_type": "stream",
     "text": [
      "((1, 2), (1, 2), (1, 2), (1, 2), 1, 2, 1, 2)\n"
     ]
    }
   ],
   "source": [
    "# Recursive function to flatten a nested tuple\n",
    "def flatten_tuple(nested_tuple):\n",
    "    flattened = []\n",
    "    for item in nested_tuple:\n",
    "        if isinstance(item, tuple):\n",
    "            flattened.extend(flatten_tuple(item))\n",
    "        else:\n",
    "            flattened.append(item)\n",
    "    return flattened\n",
    "\n",
    "# Step 1: Create a nested tuple\n",
    "nested_tuple = ((1, 2), (3, 4, 5), (6, (7, 8)))\n",
    "\n",
    "# Step 2: Flatten the nested tuple\n",
    "flattened_tuple = tuple(flatten_tuple(nested_tuple))\n",
    "\n",
    "# Step 3: Print the flattened tuple\n",
    "print(\"Flattened tuple:\", flattened_tuple)"
   ]
  },
  {
   "cell_type": "markdown",
   "id": "b4cb8a1f-95c3-4ada-bd10-4942314e7d7b",
   "metadata": {},
   "source": [
    "## 32. Create a tuple of the first 5 prime numbers."
   ]
  },
  {
   "cell_type": "code",
   "execution_count": 1,
   "id": "398dbf9d-ddad-4398-aa44-4586eca6f2ae",
   "metadata": {},
   "outputs": [
    {
     "name": "stdout",
     "output_type": "stream",
     "text": [
      "Tuple of the first 5 prime numbers: (2, 3, 5, 7, 11)\n"
     ]
    }
   ],
   "source": [
    "# Function to check if a number is prime\n",
    "def is_prime(num):\n",
    "    if num <= 1:\n",
    "        return False\n",
    "    for i in range(2, int(num ** 0.5) + 1):\n",
    "        if num % i == 0:\n",
    "            return False\n",
    "    return True\n",
    "\n",
    "# Generate the first 5 prime numbers\n",
    "prime_numbers_list = [num for num in range(2, 100) if is_prime(num)][:5]\n",
    "\n",
    "# Convert the list to a tuple\n",
    "prime_numbers_tuple = tuple(prime_numbers_list)\n",
    "\n",
    "# Print the tuple of prime numbers\n",
    "print(\"Tuple of the first 5 prime numbers:\", prime_numbers_tuple)      \n",
    "            \n",
    "        "
   ]
  },
  {
   "cell_type": "markdown",
   "id": "4be74324-f4d1-4421-988b-bbab98cdb587",
   "metadata": {},
   "source": [
    " 33. Check if a tuple is a palindrome."
   ]
  },
  {
   "cell_type": "code",
   "execution_count": 67,
   "id": "9131415c-d6d2-4baf-924d-cb1ecea24f6b",
   "metadata": {},
   "outputs": [
    {
     "name": "stdout",
     "output_type": "stream",
     "text": [
      "yes\n"
     ]
    }
   ],
   "source": [
    "t=('s','o','S')\n",
    "s=''\n",
    "for x in t:\n",
    "    s=s+x\n",
    "s=s.upper()\n",
    "if s==s[::-1]:\n",
    "    print('yes')\n",
    "else:\n",
    "    print('no')\n"
   ]
  },
  {
   "cell_type": "markdown",
   "id": "46493e15-b96e-4c53-ab98-fdba994cc939",
   "metadata": {},
   "source": [
    "34. Create a tuple of squares of numbers from 1 to 5."
   ]
  },
  {
   "cell_type": "code",
   "execution_count": 70,
   "id": "8a9de513-11f6-438c-a958-529cbe756ed6",
   "metadata": {},
   "outputs": [
    {
     "name": "stdout",
     "output_type": "stream",
     "text": [
      "(1, 4, 9, 16, 25)\n"
     ]
    }
   ],
   "source": [
    "t=(1,2,3,4,5)\n",
    "t= list(t)\n",
    "s=[]\n",
    "for x in t:\n",
    "    s.append(x*x)\n",
    "s=tuple(s)\n",
    "print(s)\n",
    "    \n",
    "    "
   ]
  },
  {
   "cell_type": "markdown",
   "id": "fe09e0be-e172-4d14-a057-b607fc86fcf1",
   "metadata": {},
   "source": [
    "35. Filter out all even numbers from a tuple."
   ]
  },
  {
   "cell_type": "code",
   "execution_count": 73,
   "id": "d38c4478-c392-4900-808a-054e04194073",
   "metadata": {},
   "outputs": [
    {
     "name": "stdout",
     "output_type": "stream",
     "text": [
      "(1, 5)\n"
     ]
    }
   ],
   "source": [
    "t=(1,2,4,5)\n",
    "l=list(t)\n",
    "e=[]\n",
    "for x in t:\n",
    "    if x%2!=0:\n",
    "        e.append(x)\n",
    "e=tuple(e)\n",
    "print(e)"
   ]
  },
  {
   "cell_type": "markdown",
   "id": "88d98377-0d97-4e75-bbd6-b849efe89fff",
   "metadata": {},
   "source": [
    "36. Multiply all elements in a tuple by 2."
   ]
  },
  {
   "cell_type": "code",
   "execution_count": 74,
   "id": "e54eac3f-35cc-4c81-92b6-c0b6c25f13dd",
   "metadata": {},
   "outputs": [
    {
     "name": "stdout",
     "output_type": "stream",
     "text": [
      "(2, 4, 8, 10)\n"
     ]
    }
   ],
   "source": [
    "t=(1,2,4,5)\n",
    "t=list(t)\n",
    "m=[]\n",
    "for x in t:\n",
    "    m.append(x*2)\n",
    "m=tuple(m)\n",
    "print(m)\n",
    "    \n",
    "    "
   ]
  },
  {
   "cell_type": "markdown",
   "id": "e230840c-4954-49ce-9718-2fde639e9702",
   "metadata": {},
   "source": [
    "37. Create a tuple of random numbers."
   ]
  },
  {
   "cell_type": "code",
   "execution_count": 5,
   "id": "ee9e8de5-a686-4c93-94a0-10bc427a1444",
   "metadata": {},
   "outputs": [
    {
     "name": "stdout",
     "output_type": "stream",
     "text": [
      "Random tuple: (32, 84, 92, 41, 68, 44, 27, 67, 99, 89)\n"
     ]
    }
   ],
   "source": [
    "import random\n",
    "\n",
    "# Create a tuple of random numbers using a list comprehension\n",
    "random_tuple = tuple(random.randint(1, 100) for _ in range(10))  # Generating 10 random numbers between 1 and 100\n",
    "\n",
    "# Print the tuple of random numbers\n",
    "print(\"Random tuple:\", random_tuple)"
   ]
  },
  {
   "cell_type": "markdown",
   "id": "ac953021-0974-4d5f-bff5-64fb408c37ad",
   "metadata": {},
   "source": [
    "38. Check if a tuple is sorted."
   ]
  },
  {
   "cell_type": "code",
   "execution_count": 4,
   "id": "b11ecde7-aa62-48c0-bfc1-6d4d369ebf2e",
   "metadata": {},
   "outputs": [
    {
     "name": "stdout",
     "output_type": "stream",
     "text": [
      "no\n"
     ]
    }
   ],
   "source": [
    "t=()\n",
    "t=(1,2,8,4,5,6)\n",
    "m=tuple(sorted(t))\n",
    "if t==m:\n",
    "    print('yes')\n",
    "else:\n",
    "    print('no')\n"
   ]
  },
  {
   "cell_type": "markdown",
   "id": "b8362197-0429-41ba-991a-ce2243ac5582",
   "metadata": {},
   "source": [
    "39. Rotate a tuple to the left by `n` positions."
   ]
  },
  {
   "cell_type": "code",
   "execution_count": 6,
   "id": "6e1afeb9-0208-4585-b1b9-d003979519fc",
   "metadata": {},
   "outputs": [
    {
     "name": "stdout",
     "output_type": "stream",
     "text": [
      "(3, 2, 4, 8, 1)\n"
     ]
    }
   ],
   "source": [
    "l= (1,3,2,4,8)\n",
    "l=list(l)\n",
    "y=l[-1]\n",
    "for x in l:\n",
    "    i = l.index(x)\n",
    "    l[i-1]=l[i]\n",
    "l[-2] = y\n",
    "l=tuple(l)\n",
    "print(l)"
   ]
  },
  {
   "cell_type": "markdown",
   "id": "b2053bb9-3a6f-452f-8598-7376ee01f2c6",
   "metadata": {},
   "source": [
    "40. Rotate a tuple to the right by `n` positions."
   ]
  },
  {
   "cell_type": "code",
   "execution_count": 9,
   "id": "0bc77d91-7a3a-4827-9c3d-243f0fcdcee1",
   "metadata": {},
   "outputs": [
    {
     "name": "stdout",
     "output_type": "stream",
     "text": [
      "[7, 1, 5, 2, 3, 6]\n"
     ]
    }
   ],
   "source": [
    "t= (1,5,2,3,6,7)\n",
    "t=list(t)\n",
    "s=t[-1]\n",
    "f = t[0:len(t)-1]\n",
    "f.insert(0,s)\n",
    "print(f)"
   ]
  },
  {
   "cell_type": "markdown",
   "id": "30c87b84-d7a0-4847-bab5-e84f893426f4",
   "metadata": {},
   "source": [
    "41. Create a tuple of the first 5 Fibonacci numbers."
   ]
  },
  {
   "cell_type": "code",
   "execution_count": 1,
   "id": "0d308f15-6b14-46a5-a867-73e863c048a2",
   "metadata": {},
   "outputs": [
    {
     "name": "stdout",
     "output_type": "stream",
     "text": [
      "(0, 1, 1, 2, 3, 5)\n"
     ]
    }
   ],
   "source": [
    "c=1\n",
    "s=0\n",
    "l=[0,1]\n",
    "while c<5:\n",
    "    s=l[c-1]+l[c]\n",
    "    l.append(s)\n",
    "    c=c+1\n",
    "l=tuple(l)\n",
    "print(l)"
   ]
  },
  {
   "cell_type": "markdown",
   "id": "012ef243-4c20-4d86-8903-d1bc3db0205b",
   "metadata": {},
   "source": [
    "42. Create a tuple from user input."
   ]
  },
  {
   "cell_type": "code",
   "execution_count": 4,
   "id": "ddc6c15e-b8be-473e-a572-99180184c63f",
   "metadata": {},
   "outputs": [
    {
     "name": "stdin",
     "output_type": "stream",
     "text": [
      "Enter a tuple 12345\n"
     ]
    },
    {
     "data": {
      "text/plain": [
       "('1', '2', '3', '4', '5')"
      ]
     },
     "execution_count": 4,
     "metadata": {},
     "output_type": "execute_result"
    }
   ],
   "source": [
    "i=tuple(input('Enter a tuple'))\n",
    "i"
   ]
  },
  {
   "cell_type": "markdown",
   "id": "3a40caee-f4e1-44d5-81b9-66fe12f739ec",
   "metadata": {},
   "source": [
    "43. Swap two elements in a tuple."
   ]
  },
  {
   "cell_type": "code",
   "execution_count": 8,
   "id": "c3435230-1ae6-4eeb-8a9f-473471a9e3b2",
   "metadata": {},
   "outputs": [
    {
     "name": "stdout",
     "output_type": "stream",
     "text": [
      "(1, 4, 2, 3, 5)\n"
     ]
    }
   ],
   "source": [
    "t=(1,3,2,4,5)\n",
    "t=list(t)\n",
    "temp =t[1]         #swapping 2nd and 4th element\n",
    "t[1]=t[3]\n",
    "t[3]=temp\n",
    "print(tuple(t))"
   ]
  },
  {
   "cell_type": "markdown",
   "id": "a1d7c576-5193-448b-937c-26e2dcd298b2",
   "metadata": {},
   "source": [
    "44. Reverse the elements of a tuple."
   ]
  },
  {
   "cell_type": "code",
   "execution_count": 10,
   "id": "71647376-d09d-44b2-8cf4-030fd318726d",
   "metadata": {},
   "outputs": [
    {
     "name": "stdout",
     "output_type": "stream",
     "text": [
      "(5, 4, 2, 3, 1)\n"
     ]
    }
   ],
   "source": [
    "t=(1,3,2,4,5)\n",
    "t=t[::-1]\n",
    "print(t)"
   ]
  },
  {
   "cell_type": "markdown",
   "id": "ab50193f-2945-4155-9938-0d5b532e171f",
   "metadata": {},
   "source": [
    "45. Create a tuple of the first `n` powers of 2."
   ]
  },
  {
   "cell_type": "code",
   "execution_count": 19,
   "id": "ff871487-7aa7-4e6b-9aef-244a52622efa",
   "metadata": {},
   "outputs": [
    {
     "name": "stdin",
     "output_type": "stream",
     "text": [
      "Enter n 4\n"
     ]
    },
    {
     "name": "stdout",
     "output_type": "stream",
     "text": [
      "(1, 2, 4, 8, 16)\n"
     ]
    }
   ],
   "source": [
    "n=int(input('Enter n'))\n",
    "i=0\n",
    "l=[]\n",
    "while i<=n:\n",
    "    l.append(2**i)\n",
    "    i=i+1\n",
    "print(tuple(l))"
   ]
  },
  {
   "cell_type": "markdown",
   "id": "34e82cc4-76d7-4a8f-9a8f-9f65b6dde901",
   "metadata": {},
   "source": [
    "46. Find the longest string in a tuple of strings."
   ]
  },
  {
   "cell_type": "code",
   "execution_count": 10,
   "id": "fe00e40c-9211-4bf2-a1c7-ac71fc4a52dc",
   "metadata": {},
   "outputs": [
    {
     "name": "stdout",
     "output_type": "stream",
     "text": [
      "Longest string: watermelon\n"
     ]
    }
   ],
   "source": [
    "# Create a tuple of strings\n",
    "string_tuple = (\"apple\", \"banana\", \"grape\", \"kiwi\", \"watermelon\")\n",
    "\n",
    "# Find the longest string in the tuple\n",
    "longest_string = max(string_tuple, key=len)\n",
    "\n",
    "# Print the longest string\n",
    "print(\"Longest string:\", longest_string)"
   ]
  },
  {
   "cell_type": "markdown",
   "id": "271afe56-64fb-47ca-96e1-0d3e45cd214a",
   "metadata": {},
   "source": [
    "## 47. Find the shortest string in a tuple of strings."
   ]
  },
  {
   "cell_type": "code",
   "execution_count": 11,
   "id": "22ed5b92-f6ca-4e9b-8e53-96c6e8ccfab9",
   "metadata": {},
   "outputs": [
    {
     "name": "stdout",
     "output_type": "stream",
     "text": [
      "Shortest string: kiwi\n"
     ]
    }
   ],
   "source": [
    "# Create a tuple of strings\n",
    "string_tuple = (\"apple\", \"banana\", \"grape\", \"kiwi\", \"watermelon\")\n",
    "\n",
    "# Find the shortest string in the tuple\n",
    "shortest_string = min(string_tuple, key=len)\n",
    "\n",
    "# Print the shortest string\n",
    "print(\"Shortest string:\", shortest_string)"
   ]
  },
  {
   "cell_type": "markdown",
   "id": "7aa69178-59df-4890-bacf-2b313d95a8a0",
   "metadata": {},
   "source": [
    "48. Create a tuple of the first `n` triangular numbers."
   ]
  },
  {
   "cell_type": "code",
   "execution_count": 48,
   "id": "b3c6381f-ebd0-43ef-921d-b35b1471bc82",
   "metadata": {},
   "outputs": [
    {
     "name": "stdin",
     "output_type": "stream",
     "text": [
      "Enter n 5\n"
     ]
    },
    {
     "name": "stdout",
     "output_type": "stream",
     "text": [
      "(1, 3, 6, 10)\n"
     ]
    }
   ],
   "source": [
    "n = int(input('Enter n'))\n",
    "l = list(range(1,n))\n",
    "t=[]\n",
    "s=0\n",
    "for x in l:\n",
    "    s=s+x\n",
    "    t.append(s)\n",
    "print(tuple(t))"
   ]
  },
  {
   "cell_type": "markdown",
   "id": "04efaa98-08c0-4ab0-95ed-0caf87decb40",
   "metadata": {},
   "source": [
    "49. Check if a tuple contains another tuple as a subsequence."
   ]
  },
  {
   "cell_type": "code",
   "execution_count": 51,
   "id": "469b44cf-013f-4f57-9f59-e2abeec38814",
   "metadata": {},
   "outputs": [
    {
     "name": "stdout",
     "output_type": "stream",
     "text": [
      "yes\n"
     ]
    }
   ],
   "source": [
    "l=(1,2,3,(1,2,3,4))\n",
    "c=0\n",
    "for x in l:\n",
    "    if type(x) == tuple:\n",
    "        c=c+1\n",
    "if c>0:\n",
    "    print('yes')\n",
    "else:\n",
    "    print('no')"
   ]
  },
  {
   "cell_type": "markdown",
   "id": "0ad37567-b4a5-40eb-ad78-77bd41adf4cb",
   "metadata": {},
   "source": [
    "50. Create a tuple of alternating 1s and 0s of length `n`."
   ]
  },
  {
   "cell_type": "code",
   "execution_count": 54,
   "id": "407bd6c7-44dd-46d0-a38f-84824c1f3c19",
   "metadata": {},
   "outputs": [
    {
     "name": "stdin",
     "output_type": "stream",
     "text": [
      "Enter n 4\n"
     ]
    },
    {
     "name": "stdout",
     "output_type": "stream",
     "text": [
      "[1, 0, 1, 0]\n"
     ]
    }
   ],
   "source": [
    "n=int(input('Enter n'))\n",
    "t=[]\n",
    "i=0\n",
    "while i<n:\n",
    "    if i%2==0:\n",
    "        t.append(1)\n",
    "    else:\n",
    "        t.append(0)\n",
    "    i=i+1\n",
    "print(t)"
   ]
  },
  {
   "cell_type": "markdown",
   "id": "e7b28866-0559-42fa-8624-34b4613e90b8",
   "metadata": {},
   "source": [
    "## Set Based Practice Problem :"
   ]
  },
  {
   "cell_type": "markdown",
   "id": "e87ad291-a638-47e5-bfc3-d6292a3f7c3a",
   "metadata": {},
   "source": [
    "1. Create a set with integers from 1 to 5."
   ]
  },
  {
   "cell_type": "code",
   "execution_count": 2,
   "id": "f0810120-9bef-4a17-bff2-84162f4973cb",
   "metadata": {},
   "outputs": [
    {
     "data": {
      "text/plain": [
       "{1, 2, 3, 4, 5}"
      ]
     },
     "execution_count": 2,
     "metadata": {},
     "output_type": "execute_result"
    }
   ],
   "source": [
    "s={1,2,3,4,5}\n",
    "s"
   ]
  },
  {
   "cell_type": "markdown",
   "id": "bed714f2-51d3-4df1-a6fa-81ec45b8ee98",
   "metadata": {},
   "source": [
    "2. Add an element to a set."
   ]
  },
  {
   "cell_type": "code",
   "execution_count": 4,
   "id": "14a12617-4fc2-44c6-bdf2-c7b83402dd24",
   "metadata": {},
   "outputs": [
    {
     "data": {
      "text/plain": [
       "{1, 2, 3, 4, 5, 7}"
      ]
     },
     "execution_count": 4,
     "metadata": {},
     "output_type": "execute_result"
    }
   ],
   "source": [
    "s={1,2,3,4,5}\n",
    "g=list(s)\n",
    "g.append(7)    #add element 7\n",
    "g=set(g)\n",
    "g"
   ]
  },
  {
   "cell_type": "markdown",
   "id": "feb32a70-1c6e-42e2-a7ca-934072cfc081",
   "metadata": {},
   "source": [
    "3. Remove an element from a set."
   ]
  },
  {
   "cell_type": "code",
   "execution_count": 6,
   "id": "62a3639f-98bd-45ea-ac67-d44d0df16211",
   "metadata": {},
   "outputs": [
    {
     "name": "stdout",
     "output_type": "stream",
     "text": [
      "{1, 2, 4, 5}\n"
     ]
    }
   ],
   "source": [
    "s={1,2,3,4,5}\n",
    "s=list(s)\n",
    "s.remove(3)     #remove element 3\n",
    "print(set(s))\n"
   ]
  },
  {
   "cell_type": "markdown",
   "id": "fb71ffef-b7e6-4d05-a493-b40e8cf6b7a8",
   "metadata": {},
   "source": [
    "4. Check if an element exists in a set."
   ]
  },
  {
   "cell_type": "code",
   "execution_count": 20,
   "id": "a7fcaef8-3789-4103-b9ff-92ac4ec3b478",
   "metadata": {},
   "outputs": [
    {
     "name": "stdout",
     "output_type": "stream",
     "text": [
      "no\n"
     ]
    }
   ],
   "source": [
    "s={2,3,4,1,3}\n",
    "s=list(s)\n",
    "c=0\n",
    "for x in s:\n",
    "    if x==9:    #check if 9 is there\n",
    "        c=c+1\n",
    "if c>0:\n",
    "    print('yes')\n",
    "else:\n",
    "    print('no')\n",
    "\n",
    "        "
   ]
  },
  {
   "cell_type": "markdown",
   "id": "897ca384-39a2-427f-a548-96b75b77dd96",
   "metadata": {},
   "source": [
    "5. Find the length of a set without using the `len()` function."
   ]
  },
  {
   "cell_type": "code",
   "execution_count": 23,
   "id": "b6285bd8-bcf7-4ab1-8f1f-97112e3232e3",
   "metadata": {},
   "outputs": [
    {
     "name": "stdin",
     "output_type": "stream",
     "text": [
      "Enter the set 1234\n"
     ]
    },
    {
     "name": "stdout",
     "output_type": "stream",
     "text": [
      "4\n"
     ]
    }
   ],
   "source": [
    "test = set(input('Enter the set'))\n",
    "test = list(test)\n",
    "c=0\n",
    "for x in test:\n",
    "    c=c+1\n",
    "print(c)"
   ]
  },
  {
   "cell_type": "markdown",
   "id": "0f7d4a25-52da-4523-8ae1-3e54f6aabab1",
   "metadata": {},
   "source": [
    "6. Clear all elements from a set."
   ]
  },
  {
   "cell_type": "code",
   "execution_count": 24,
   "id": "2f58cddd-3848-461a-b58c-ed45c261ab7b",
   "metadata": {},
   "outputs": [
    {
     "data": {
      "text/plain": [
       "set()"
      ]
     },
     "execution_count": 24,
     "metadata": {},
     "output_type": "execute_result"
    }
   ],
   "source": [
    "s={1,2,3,4,5}\n",
    "s.clear()\n",
    "s"
   ]
  },
  {
   "cell_type": "markdown",
   "id": "f3864acc-c887-4e9a-9398-bb49e0543906",
   "metadata": {},
   "source": [
    "7. Create a set of even numbers from 1 to 10."
   ]
  },
  {
   "cell_type": "code",
   "execution_count": 25,
   "id": "fb21b6e5-ac59-4d8a-a468-e8ac8ca3672f",
   "metadata": {},
   "outputs": [
    {
     "data": {
      "text/plain": [
       "{2, 4, 6, 8, 10}"
      ]
     },
     "execution_count": 25,
     "metadata": {},
     "output_type": "execute_result"
    }
   ],
   "source": [
    "s=set(range(2,11,2))\n",
    "s"
   ]
  },
  {
   "cell_type": "markdown",
   "id": "fdc9b8c4-4bc1-45c4-a658-f7a431d18a28",
   "metadata": {},
   "source": [
    "8. Create a set of odd numbers from 1 to 10."
   ]
  },
  {
   "cell_type": "code",
   "execution_count": 26,
   "id": "37cfd290-00fe-454f-9fbd-9c876c5bb80d",
   "metadata": {},
   "outputs": [
    {
     "data": {
      "text/plain": [
       "{1, 3, 5, 7, 9}"
      ]
     },
     "execution_count": 26,
     "metadata": {},
     "output_type": "execute_result"
    }
   ],
   "source": [
    "s=set(range(1,11,2))\n",
    "s\n"
   ]
  },
  {
   "cell_type": "markdown",
   "id": "4223f7bb-d4fc-410f-bbdd-6e34c4fca673",
   "metadata": {},
   "source": [
    "9. Find the union of two sets."
   ]
  },
  {
   "cell_type": "code",
   "execution_count": 28,
   "id": "63562cff-644b-47f7-ab71-d13f2a3105e7",
   "metadata": {},
   "outputs": [
    {
     "data": {
      "text/plain": [
       "{1, 2, 3, 4, 5, 6}"
      ]
     },
     "execution_count": 28,
     "metadata": {},
     "output_type": "execute_result"
    }
   ],
   "source": [
    "s={1,2,3,4}\n",
    "s1={3,4,5,6}\n",
    "f=s.union(s1)\n",
    "f\n"
   ]
  },
  {
   "cell_type": "markdown",
   "id": "36eaecc6-4942-4ae4-a598-bd4dabb00b17",
   "metadata": {},
   "source": [
    "10. Find the intersection of two sets."
   ]
  },
  {
   "cell_type": "code",
   "execution_count": 31,
   "id": "040cf51f-bc62-4564-81e4-6cdc0b418a74",
   "metadata": {},
   "outputs": [
    {
     "data": {
      "text/plain": [
       "{3, 4}"
      ]
     },
     "execution_count": 31,
     "metadata": {},
     "output_type": "execute_result"
    }
   ],
   "source": [
    "s={1,2,3,4}\n",
    "s1={3,4,5,6}\n",
    "f=s.intersection(s1)\n",
    "f\n"
   ]
  },
  {
   "cell_type": "markdown",
   "id": "67dbfc0f-d4be-4d90-b5c7-7c351217cc19",
   "metadata": {},
   "source": [
    "11. Find the difference between two sets."
   ]
  },
  {
   "cell_type": "code",
   "execution_count": 33,
   "id": "739f00e0-4260-4494-bf21-9fcd55a94304",
   "metadata": {},
   "outputs": [
    {
     "data": {
      "text/plain": [
       "{1, 2}"
      ]
     },
     "execution_count": 33,
     "metadata": {},
     "output_type": "execute_result"
    }
   ],
   "source": [
    "s={1,2,3,4}\n",
    "s1={3,4,5,6}\n",
    "f=s.difference(s1)\n",
    "f"
   ]
  },
  {
   "cell_type": "markdown",
   "id": "4d15cf8b-2aeb-483c-9b2d-a29ddc509780",
   "metadata": {},
   "source": [
    "12. Check if a set is a subset of another set."
   ]
  },
  {
   "cell_type": "code",
   "execution_count": 4,
   "id": "5bd78e21-284c-4b52-9fe3-e1dfe452b73b",
   "metadata": {},
   "outputs": [
    {
     "name": "stdout",
     "output_type": "stream",
     "text": [
      "True\n"
     ]
    }
   ],
   "source": [
    "s={1,2,3,4}\n",
    "s1={3,4}\n",
    "if s1.issubset(s)==True:\n",
    "    print('True')\n",
    "else:\n",
    "    print('False')\n"
   ]
  },
  {
   "cell_type": "markdown",
   "id": "6ff7bdfd-970b-44c4-893f-8e552c00b837",
   "metadata": {},
   "source": [
    "13. Check if a set is a superset of another set."
   ]
  },
  {
   "cell_type": "code",
   "execution_count": 6,
   "id": "a8cb20e1-6a0d-46fa-af80-6454279064b6",
   "metadata": {},
   "outputs": [
    {
     "name": "stdout",
     "output_type": "stream",
     "text": [
      "True\n"
     ]
    }
   ],
   "source": [
    "s={1,2,3,4}\n",
    "s1={3,4}\n",
    "if s.issuperset(s1)==True:\n",
    "    print('True')\n",
    "else:\n",
    "    print('False')"
   ]
  },
  {
   "cell_type": "markdown",
   "id": "65a5a1a5-6da6-4a0d-8546-40a9153965d0",
   "metadata": {},
   "source": [
    "14. Create a set from a list."
   ]
  },
  {
   "cell_type": "code",
   "execution_count": 7,
   "id": "ae4d9094-babf-4a36-a562-a5cd5d0282af",
   "metadata": {},
   "outputs": [
    {
     "data": {
      "text/plain": [
       "{1, 2}"
      ]
     },
     "execution_count": 7,
     "metadata": {},
     "output_type": "execute_result"
    }
   ],
   "source": [
    "l=[1,2,3,3,4]\n",
    "s=set(l[0:2])\n",
    "s"
   ]
  },
  {
   "cell_type": "markdown",
   "id": "0bd6f75a-8cb4-43a5-b4ba-561014089af6",
   "metadata": {},
   "source": [
    "15. Convert a set to a list."
   ]
  },
  {
   "cell_type": "code",
   "execution_count": 8,
   "id": "f232a063-8d4b-4486-9fa2-fcfc3178fb0e",
   "metadata": {},
   "outputs": [
    {
     "data": {
      "text/plain": [
       "[1, 2, 3, 4, 5]"
      ]
     },
     "execution_count": 8,
     "metadata": {},
     "output_type": "execute_result"
    }
   ],
   "source": [
    "s={1,2,3,4,5}\n",
    "s=list(s)\n",
    "s"
   ]
  },
  {
   "cell_type": "markdown",
   "id": "6ba1370e-45ba-49d9-9add-8cdd8a96addb",
   "metadata": {},
   "source": [
    "16. Remove a random element from a set."
   ]
  },
  {
   "cell_type": "code",
   "execution_count": 10,
   "id": "4761982e-a0e4-4800-ab63-7c1642b88598",
   "metadata": {},
   "outputs": [
    {
     "data": {
      "text/plain": [
       "{1, 2, 3, 5}"
      ]
     },
     "execution_count": 10,
     "metadata": {},
     "output_type": "execute_result"
    }
   ],
   "source": [
    "s={1,2,3,4,5}\n",
    "s.remove(4)    #remove element 4\n",
    "s"
   ]
  },
  {
   "cell_type": "markdown",
   "id": "905c539e-48dd-4bf5-8ce2-0d36feed4cdb",
   "metadata": {},
   "source": [
    "17. Pop an element from a set."
   ]
  },
  {
   "cell_type": "code",
   "execution_count": 12,
   "id": "9df530a2-1944-40f9-af30-647de09404c8",
   "metadata": {},
   "outputs": [
    {
     "data": {
      "text/plain": [
       "{2, 3, 4, 5}"
      ]
     },
     "execution_count": 12,
     "metadata": {},
     "output_type": "execute_result"
    }
   ],
   "source": [
    "s={1,2,3,4,5}\n",
    "p=s.pop()            #remove and return arbitrary element\n",
    "p "
   ]
  },
  {
   "cell_type": "markdown",
   "id": "4726807a-b064-4dbf-84d9-df098a2e694d",
   "metadata": {},
   "source": [
    "18. Check if two sets have no elements in common."
   ]
  },
  {
   "cell_type": "code",
   "execution_count": 14,
   "id": "5efd27f3-9b30-4041-af19-ad6be04df804",
   "metadata": {},
   "outputs": [
    {
     "name": "stdout",
     "output_type": "stream",
     "text": [
      "common element\n"
     ]
    }
   ],
   "source": [
    "s={1,2,3,4}\n",
    "s1={3,4,5,6}\n",
    "if len(s.intersection(s1)) == 0:\n",
    "    print('no common element')\n",
    "else:\n",
    "    print('common element')\n",
    "\n"
   ]
  },
  {
   "cell_type": "markdown",
   "id": "97d6c07b-a6dc-4f5f-9856-63523afd46f8",
   "metadata": {},
   "source": [
    "19. Find the symmetric difference between two sets."
   ]
  },
  {
   "cell_type": "code",
   "execution_count": 15,
   "id": "162cbf42-a161-4bed-85ce-f15c2d57deb3",
   "metadata": {},
   "outputs": [
    {
     "data": {
      "text/plain": [
       "{1, 2, 5, 6}"
      ]
     },
     "execution_count": 15,
     "metadata": {},
     "output_type": "execute_result"
    }
   ],
   "source": [
    "s={1,2,3,4}\n",
    "s1={3,4,5,6}\n",
    "f=s.symmetric_difference(s1)\n",
    "f\n"
   ]
  },
  {
   "cell_type": "markdown",
   "id": "cf8f0957-fee6-49ea-a4ae-ec49ad929e2d",
   "metadata": {},
   "source": [
    "20. Update a set with elements from another set."
   ]
  },
  {
   "cell_type": "code",
   "execution_count": 21,
   "id": "f186801d-fe94-429b-8596-310dcdc09d40",
   "metadata": {},
   "outputs": [
    {
     "name": "stdout",
     "output_type": "stream",
     "text": [
      "{1, 2, 3, 4, 5, 6, 8, 9}\n"
     ]
    }
   ],
   "source": [
    "s={1,2,3,4}\n",
    "s1={8,9,5,6}\n",
    "s1.update(s)\n",
    "print(s1)"
   ]
  },
  {
   "cell_type": "markdown",
   "id": "1312694a-d12e-42e6-96c9-594167ff9abd",
   "metadata": {},
   "source": [
    "## 21. Create a set of the first 5 prime numbers."
   ]
  },
  {
   "cell_type": "code",
   "execution_count": 12,
   "id": "3bb7a1e9-9908-4735-a898-a423f8ac60c7",
   "metadata": {},
   "outputs": [
    {
     "name": "stdout",
     "output_type": "stream",
     "text": [
      "Set of the first 5 prime numbers: {2, 3, 5, 7, 11}\n"
     ]
    }
   ],
   "source": [
    "# Function to check if a number is prime\n",
    "def is_prime(num):\n",
    "    if num <= 1:\n",
    "        return False\n",
    "    for i in range(2, int(num ** 0.5) + 1):\n",
    "        if num % i == 0:\n",
    "            return False\n",
    "    return True\n",
    "\n",
    "# Create an empty set to store the prime numbers\n",
    "prime_set = set()\n",
    "\n",
    "# Initialize the number to start checking for primes\n",
    "num = 2\n",
    "\n",
    "# Loop until we have found the first 5 prime numbers\n",
    "while len(prime_set) < 5:\n",
    "    # Check if the current number is prime using the is_prime function\n",
    "    if is_prime(num):\n",
    "        # If the number is prime, add it to the prime_set\n",
    "        prime_set.add(num)\n",
    "\n",
    "    # Move on to the next number for the next iteration\n",
    "    num += 1\n",
    "\n",
    "# Print the set of prime numbers\n",
    "print(\"Set of the first 5 prime numbers:\", prime_set)\n",
    "    "
   ]
  },
  {
   "cell_type": "markdown",
   "id": "fbf03b7e-fca4-48d5-b022-c50503bf6318",
   "metadata": {},
   "source": [
    "22. Check if two sets are identical.\n"
   ]
  },
  {
   "cell_type": "code",
   "execution_count": 23,
   "id": "81a95c7d-af49-4f29-8813-14ff66e59445",
   "metadata": {},
   "outputs": [
    {
     "name": "stdout",
     "output_type": "stream",
     "text": [
      "yes\n"
     ]
    }
   ],
   "source": [
    "s={1,2,3,4}\n",
    "s1={1,2,3,4}\n",
    "if s==s1:\n",
    "    print('yes')\n",
    "else:\n",
    "    print('no')\n"
   ]
  },
  {
   "cell_type": "markdown",
   "id": "61b38432-1b3a-47c8-aab0-03a6d9934f12",
   "metadata": {},
   "source": [
    "23. Create a frozen set."
   ]
  },
  {
   "cell_type": "code",
   "execution_count": 27,
   "id": "d7ac36a0-5c65-4477-bf26-41396a01543b",
   "metadata": {},
   "outputs": [
    {
     "name": "stdout",
     "output_type": "stream",
     "text": [
      "frozenset({1, 2, 3, 4, 8})\n"
     ]
    }
   ],
   "source": [
    "s=frozenset([1,2,3,4,8])\n",
    "print(s)"
   ]
  },
  {
   "cell_type": "markdown",
   "id": "018a527b-2a27-40a2-be02-46d81fba175f",
   "metadata": {},
   "source": [
    "24. Check if a set is disjoint with another set."
   ]
  },
  {
   "cell_type": "code",
   "execution_count": 29,
   "id": "2dc6edc7-42d7-479b-bfb9-4504b4a3b89c",
   "metadata": {},
   "outputs": [
    {
     "name": "stdout",
     "output_type": "stream",
     "text": [
      "no\n"
     ]
    }
   ],
   "source": [
    "s={1,2,3,4}\n",
    "s1={1,9,5,6}\n",
    "if s.isdisjoint(s1) == True:\n",
    "    print('yes')\n",
    "else:\n",
    "    print('no')\n"
   ]
  },
  {
   "cell_type": "markdown",
   "id": "fd7c384d-d6cc-4d87-9992-6f38b1631106",
   "metadata": {},
   "source": [
    "25. Create a set of squares of numbers from 1 to 5."
   ]
  },
  {
   "cell_type": "code",
   "execution_count": 31,
   "id": "7f7d3328-1f6b-40a7-8acc-45cb738d829f",
   "metadata": {},
   "outputs": [
    {
     "name": "stdout",
     "output_type": "stream",
     "text": [
      "{1, 4, 9, 16, 25}\n"
     ]
    }
   ],
   "source": [
    "s=list(range(1,6))\n",
    "l=[]\n",
    "for x in s:\n",
    "    l.append(x*x)\n",
    "print(set(l))"
   ]
  },
  {
   "cell_type": "markdown",
   "id": "10fd7311-4bdd-4e75-9e1f-38c4fcffe40c",
   "metadata": {},
   "source": [
    "26. Filter out all even numbers from a set."
   ]
  },
  {
   "cell_type": "code",
   "execution_count": 34,
   "id": "f4045a84-d5dc-4fbd-8faa-c356ee253a84",
   "metadata": {},
   "outputs": [
    {
     "name": "stdout",
     "output_type": "stream",
     "text": [
      "{2, 4}\n"
     ]
    }
   ],
   "source": [
    "s={1,2,3,4}\n",
    "s=list(s)\n",
    "l=[]\n",
    "for x in s:\n",
    "    if x%2==0:\n",
    "        l.append(s.pop(s.index(x)))\n",
    "print(set(l))"
   ]
  },
  {
   "cell_type": "markdown",
   "id": "272d0f4c-a746-4308-aab4-0230c8b23d2a",
   "metadata": {},
   "source": [
    "27. Multiply all elements in a set by 2."
   ]
  },
  {
   "cell_type": "code",
   "execution_count": 36,
   "id": "ae1c878a-a47a-40b3-bbcc-8e66b7ef7830",
   "metadata": {},
   "outputs": [
    {
     "name": "stdout",
     "output_type": "stream",
     "text": [
      "{8, 2, 4, 6}\n"
     ]
    }
   ],
   "source": [
    "s={1,2,3,4}\n",
    "s=list(s)\n",
    "l=[]\n",
    "for x in s:\n",
    "    l.append(2*x)\n",
    "print(set(l))"
   ]
  },
  {
   "cell_type": "markdown",
   "id": "ada6e083-8d06-4222-a708-6d2738c4c2d3",
   "metadata": {},
   "source": [
    "## 28. Create a set of random numbers."
   ]
  },
  {
   "cell_type": "code",
   "execution_count": 13,
   "id": "4f7807d1-c4fe-4766-ae27-42b6094a9aef",
   "metadata": {},
   "outputs": [
    {
     "name": "stdout",
     "output_type": "stream",
     "text": [
      "Generated set of random numbers: {6, 72, 73, 53, 63}\n"
     ]
    }
   ],
   "source": [
    "# Step 1: Import the `random` module to generate random numbers\n",
    "import random\n",
    "\n",
    "# Step 2: Define the number of random numbers you want in the set\n",
    "num_random_numbers = 5\n",
    "\n",
    "# Step 3: Initialize an empty set to store the random numbers\n",
    "random_number_set = set()\n",
    "\n",
    "# Step 4: Use a loop to generate random numbers and add them to the set\n",
    "for _ in range(num_random_numbers):\n",
    "    # Generate a random integer using the `randint` function from the `random` module\n",
    "    random_num = random.randint(1, 100)  # Generate a random number between 1 and 100\n",
    "    # Add the random number to the set\n",
    "    random_number_set.add(random_num)\n",
    "\n",
    "# Step 5: Print the generated set of random numbers\n",
    "print(\"Generated set of random numbers:\", random_number_set)"
   ]
  },
  {
   "cell_type": "markdown",
   "id": "6c15bad2-3f6c-4fd7-87fb-f5ff226a6a45",
   "metadata": {},
   "source": [
    "29. Check if a set is empty.\n"
   ]
  },
  {
   "cell_type": "code",
   "execution_count": 38,
   "id": "cbb035e2-f7ec-4550-8e72-481b7e58231d",
   "metadata": {},
   "outputs": [
    {
     "name": "stdout",
     "output_type": "stream",
     "text": [
      "Not empty set\n"
     ]
    }
   ],
   "source": [
    "s={8,9}\n",
    "if len(s)==0:\n",
    "    print('Empty set')\n",
    "else:\n",
    "    print('Not empty set')\n",
    "    "
   ]
  },
  {
   "cell_type": "markdown",
   "id": "1382a321-d48f-4e54-b9df-e379fe8126c8",
   "metadata": {},
   "source": [
    "30. Create a nested set (hint: use frozenset)."
   ]
  },
  {
   "cell_type": "code",
   "execution_count": 3,
   "id": "e7de93e6-ac13-40a6-ab95-b43bf167e9e0",
   "metadata": {},
   "outputs": [
    {
     "data": {
      "text/plain": [
       "{5, 6, 7, frozenset({1, 2, 3, 4})}"
      ]
     },
     "execution_count": 3,
     "metadata": {},
     "output_type": "execute_result"
    }
   ],
   "source": [
    "n=set([frozenset({1,2,3,4}),5,6,7])\n",
    "n"
   ]
  },
  {
   "cell_type": "markdown",
   "id": "d2d00832-369e-444e-9508-e8830065da65",
   "metadata": {},
   "source": [
    "31. Remove an element from a set using the discard method."
   ]
  },
  {
   "cell_type": "code",
   "execution_count": 4,
   "id": "3aefb0b9-2db0-47af-bae7-3bfb3f1b9e59",
   "metadata": {},
   "outputs": [
    {
     "data": {
      "text/plain": [
       "{1, 3, 4, 5}"
      ]
     },
     "execution_count": 4,
     "metadata": {},
     "output_type": "execute_result"
    }
   ],
   "source": [
    "s={1,2,3,4,5}\n",
    "s.discard(2)\n",
    "s"
   ]
  },
  {
   "cell_type": "raw",
   "id": "66e889b6-f134-4cf5-98a1-b102784f765e",
   "metadata": {},
   "source": [
    "32. Compare two sets."
   ]
  },
  {
   "cell_type": "code",
   "execution_count": 6,
   "id": "57561a8f-e231-45f4-bc8d-bcaa8a2a47f1",
   "metadata": {},
   "outputs": [
    {
     "name": "stdout",
     "output_type": "stream",
     "text": [
      "same\n"
     ]
    }
   ],
   "source": [
    "s={1,2,3,4}\n",
    "s1={1,2,3,4}\n",
    "if s==s1:\n",
    "    print('same')\n",
    "else:\n",
    "    print('not same')"
   ]
  },
  {
   "cell_type": "markdown",
   "id": "6e5f691e-5e23-4698-8a4d-5f7396a4f31d",
   "metadata": {},
   "source": [
    "33. Create a set from a string."
   ]
  },
  {
   "cell_type": "code",
   "execution_count": 10,
   "id": "ff81c29c-8d0c-43d6-b144-a9c8d7eb53b2",
   "metadata": {},
   "outputs": [
    {
     "name": "stdin",
     "output_type": "stream",
     "text": [
      "Enter a string Nimish\n"
     ]
    },
    {
     "name": "stdout",
     "output_type": "stream",
     "text": [
      "{'m', 'i', 's', 'h', 'N'}\n"
     ]
    }
   ],
   "source": [
    "s=input('Enter a string')\n",
    "s=set(s)\n",
    "print(s)\n"
   ]
  },
  {
   "cell_type": "markdown",
   "id": "07338f34-cf33-4f05-b505-70038684b45e",
   "metadata": {},
   "source": [
    "34. Convert a set of strings to a set of integers."
   ]
  },
  {
   "cell_type": "code",
   "execution_count": 13,
   "id": "60effc0d-198e-4937-b367-260cffba74c9",
   "metadata": {},
   "outputs": [
    {
     "name": "stdout",
     "output_type": "stream",
     "text": [
      "{1, 2, 3, 4}\n"
     ]
    }
   ],
   "source": [
    "s={'1','2','3','4'}\n",
    "s=list(s)\n",
    "l=[]\n",
    "for x in s:\n",
    "    l.append(int(x))\n",
    "print(set(l))\n"
   ]
  },
  {
   "cell_type": "markdown",
   "id": "0e3a5164-19ce-4562-902f-55a8becf7501",
   "metadata": {},
   "source": [
    "35. Convert a set of integers to a set of strings."
   ]
  },
  {
   "cell_type": "code",
   "execution_count": 14,
   "id": "6c3116d6-207e-4232-809a-ad125489d37a",
   "metadata": {},
   "outputs": [
    {
     "name": "stdout",
     "output_type": "stream",
     "text": [
      "{'2', '1', '3', '4'}\n"
     ]
    }
   ],
   "source": [
    "s={1,2,3,4}\n",
    "s=list(s)\n",
    "l=[]\n",
    "for x in s:\n",
    "    l.append(str(x))\n",
    "print(set(l))"
   ]
  },
  {
   "cell_type": "markdown",
   "id": "15469105-920c-49a3-b84b-2db94eee03bb",
   "metadata": {},
   "source": [
    "36. Create a set from a tuple."
   ]
  },
  {
   "cell_type": "code",
   "execution_count": 16,
   "id": "dce229a6-89bf-4433-a777-34ba08c3e102",
   "metadata": {},
   "outputs": [
    {
     "name": "stdout",
     "output_type": "stream",
     "text": [
      "{1, 2}\n"
     ]
    }
   ],
   "source": [
    "t=(1,2,3,4,5)\n",
    "s=set(t[0:2])\n",
    "print(s)"
   ]
  },
  {
   "cell_type": "markdown",
   "id": "d74bfa3b-7404-42f4-8870-db2aa3d18444",
   "metadata": {},
   "source": [
    "37. Convert a set to a tuple."
   ]
  },
  {
   "cell_type": "code",
   "execution_count": 17,
   "id": "53cba836-e348-4323-9f6a-0b2ed676934b",
   "metadata": {},
   "outputs": [
    {
     "data": {
      "text/plain": [
       "(1, 2, 3, 4)"
      ]
     },
     "execution_count": 17,
     "metadata": {},
     "output_type": "execute_result"
    }
   ],
   "source": [
    "s={1,2,3,4}\n",
    "t=tuple(s)\n",
    "t"
   ]
  },
  {
   "cell_type": "markdown",
   "id": "70aaf454-da81-44ea-bb45-b58f83d6b416",
   "metadata": {},
   "source": [
    "38. Find the maximum value in a set."
   ]
  },
  {
   "cell_type": "code",
   "execution_count": 50,
   "id": "04f76c94-1786-4ce6-860d-01f4770ea69c",
   "metadata": {},
   "outputs": [
    {
     "name": "stdout",
     "output_type": "stream",
     "text": [
      "max is 10\n"
     ]
    }
   ],
   "source": [
    "f={1,10,4,5,6,1,3}\n",
    "l=list(f)\n",
    "m=0\n",
    "for x in l:\n",
    "    i=0\n",
    "    while i<len(l):\n",
    "        if x>l[i]:\n",
    "            m=x\n",
    "        i=i+1\n",
    "print('max is',m)\n"
   ]
  },
  {
   "cell_type": "markdown",
   "id": "b0ad0bc7-3b70-4f13-9ec7-8c18577f14e7",
   "metadata": {},
   "source": [
    "39. Find the minimum value in a set."
   ]
  },
  {
   "cell_type": "code",
   "execution_count": 52,
   "id": "d51c5755-4f2a-453c-bf94-b9a8e43dfbcd",
   "metadata": {},
   "outputs": [
    {
     "name": "stdout",
     "output_type": "stream",
     "text": [
      "min is 4\n"
     ]
    }
   ],
   "source": [
    "f={10,2,3,4,2,3}\n",
    "l=list(f)\n",
    "m=0\n",
    "for x in l:\n",
    "    i=0\n",
    "    while i<len(l):\n",
    "        if x<l[i]:\n",
    "            m=x\n",
    "        i=i+1\n",
    "print('min is',m)"
   ]
  },
  {
   "cell_type": "code",
   "execution_count": 53,
   "id": "9f240157-d559-4573-bb84-3d0cfe9e9f53",
   "metadata": {},
   "outputs": [
    {
     "data": {
      "text/plain": [
       "[2, 10, 3, 4]"
      ]
     },
     "execution_count": 53,
     "metadata": {},
     "output_type": "execute_result"
    }
   ],
   "source": [
    "l"
   ]
  },
  {
   "cell_type": "markdown",
   "id": "5744f2b2-2e9d-452a-8ab7-278b5ce71d8e",
   "metadata": {},
   "source": [
    "40. Create a set from user input."
   ]
  },
  {
   "cell_type": "code",
   "execution_count": 56,
   "id": "883c0e72-b598-4532-9dda-86b8c561061e",
   "metadata": {},
   "outputs": [
    {
     "name": "stdin",
     "output_type": "stream",
     "text": [
      "Enter a set 12345\n"
     ]
    },
    {
     "data": {
      "text/plain": [
       "{'1', '2', '3', '4', '5'}"
      ]
     },
     "execution_count": 56,
     "metadata": {},
     "output_type": "execute_result"
    }
   ],
   "source": [
    "user =set(input('Enter a set'))\n",
    "user"
   ]
  },
  {
   "cell_type": "markdown",
   "id": "63fe98cf-8071-4c9b-a044-41d81f9bfc73",
   "metadata": {},
   "source": [
    "41. Check if the intersection of two sets is empty."
   ]
  },
  {
   "cell_type": "code",
   "execution_count": 58,
   "id": "dd82fa88-c8c2-4c92-89d3-0340c7a17e9d",
   "metadata": {},
   "outputs": [
    {
     "name": "stdout",
     "output_type": "stream",
     "text": [
      "yes\n"
     ]
    }
   ],
   "source": [
    "s={1,2,3,4}\n",
    "s1={90,9,5,6}\n",
    "t=s.intersection(s1)\n",
    "if len(t) == 0:\n",
    "    print('yes')\n",
    "else:\n",
    "    print('no')"
   ]
  },
  {
   "cell_type": "markdown",
   "id": "0331fe3a-6c76-464c-b7f2-651279ffad9a",
   "metadata": {},
   "source": [
    "## 42. Create a set of the first 5 Fibonacci numbers."
   ]
  },
  {
   "cell_type": "code",
   "execution_count": 14,
   "id": "9ebfc1ba-d07e-4063-95ca-63488cc34b44",
   "metadata": {},
   "outputs": [
    {
     "name": "stdout",
     "output_type": "stream",
     "text": [
      "Set of the first 5 Fibonacci numbers: {0, 1, 2, 3, 5}\n"
     ]
    }
   ],
   "source": [
    "# Create a set to store the first 5 Fibonacci numbers\n",
    "fibonacci_set = set()\n",
    "\n",
    "# Initialize the first two Fibonacci numbers\n",
    "a, b = 0, 1\n",
    "\n",
    "# Loop to generate the first 5 Fibonacci numbers\n",
    "for _ in range(6):\n",
    "    # Add the current Fibonacci number to the set\n",
    "    fibonacci_set.add(a)\n",
    "\n",
    "    # Calculate the next Fibonacci number\n",
    "    a, b = b, a + b\n",
    "\n",
    "# Print the set of Fibonacci numbers\n",
    "print(\"Set of the first 5 Fibonacci numbers:\", fibonacci_set)"
   ]
  },
  {
   "cell_type": "markdown",
   "id": "dfbf559c-7893-4d71-8579-b5fad567ff88",
   "metadata": {},
   "source": [
    "43. Remove duplicates from a list using sets."
   ]
  },
  {
   "cell_type": "code",
   "execution_count": 9,
   "id": "47a36266-348f-43a1-8e65-0a25b094bffb",
   "metadata": {},
   "outputs": [
    {
     "data": {
      "text/plain": [
       "{1, 2, 3, 4}"
      ]
     },
     "execution_count": 9,
     "metadata": {},
     "output_type": "execute_result"
    }
   ],
   "source": [
    "l=[1,2,3,4,2,2]\n",
    "s=set(l)\n",
    "s"
   ]
  },
  {
   "cell_type": "markdown",
   "id": "cdc4f8ab-8bf2-4c4b-889b-ad8de1ddc337",
   "metadata": {},
   "source": [
    "44. Check if two sets have the same elements, regardless of their count."
   ]
  },
  {
   "cell_type": "code",
   "execution_count": 13,
   "id": "061b016f-88b7-404a-8163-171328769602",
   "metadata": {},
   "outputs": [
    {
     "name": "stdout",
     "output_type": "stream",
     "text": [
      "Have same elements\n"
     ]
    }
   ],
   "source": [
    "s={1,2,3,4}\n",
    "s1={1,2,3,4,5,6}\n",
    "if s.issubset(s1) == True:\n",
    "    print('Have same elements')\n",
    "else:\n",
    "    print('Not same elements')\n"
   ]
  },
  {
   "cell_type": "markdown",
   "id": "ecbe46bd-1423-4ef8-9faf-d566b3d1bc05",
   "metadata": {},
   "source": [
    "45. Create a set of the first `n` powers of 2."
   ]
  },
  {
   "cell_type": "code",
   "execution_count": 22,
   "id": "f5f122db-69d2-4744-8473-606869f75130",
   "metadata": {},
   "outputs": [
    {
     "name": "stdin",
     "output_type": "stream",
     "text": [
      "Enter n 4\n"
     ]
    },
    {
     "name": "stdout",
     "output_type": "stream",
     "text": [
      "{8, 1, 2, 4}\n"
     ]
    }
   ],
   "source": [
    "n=int(input('Enter n'))\n",
    "i=0\n",
    "v=[]\n",
    "while i<n:\n",
    "    v.append(2**i)\n",
    "    i=i+1\n",
    "print(set(v))"
   ]
  },
  {
   "cell_type": "markdown",
   "id": "24582563-9ab1-4efb-8f46-1ccb1fbd458b",
   "metadata": {},
   "source": [
    "46. Find the common elements between a set and a list."
   ]
  },
  {
   "cell_type": "code",
   "execution_count": 23,
   "id": "c360bced-80ad-44f2-a71e-d23dc4196ff7",
   "metadata": {},
   "outputs": [
    {
     "data": {
      "text/plain": [
       "{2, 3, 4}"
      ]
     },
     "execution_count": 23,
     "metadata": {},
     "output_type": "execute_result"
    }
   ],
   "source": [
    "s={1,2,3,4}\n",
    "l=[2,3,4,5,6]\n",
    "l=set(l)\n",
    "t=s.intersection(l)\n",
    "t"
   ]
  },
  {
   "cell_type": "markdown",
   "id": "9d9c1aa6-28c7-4286-a9bc-39c9acfeb610",
   "metadata": {},
   "source": [
    "47. Create a set of the first `n` triangular numbers."
   ]
  },
  {
   "cell_type": "code",
   "execution_count": 26,
   "id": "d9f3bb46-6091-4ddb-a4a7-6d5667681269",
   "metadata": {},
   "outputs": [
    {
     "name": "stdin",
     "output_type": "stream",
     "text": [
      "Enter first n numbers 4\n"
     ]
    },
    {
     "name": "stdout",
     "output_type": "stream",
     "text": [
      "[0, 1, 3, 6]\n"
     ]
    }
   ],
   "source": [
    "n=int(input('Enter first n numbers'))\n",
    "i=0\n",
    "s=0\n",
    "t=[]\n",
    "while i<n:\n",
    "      s=s+i\n",
    "      t.append(s)\n",
    "      i=i+1\n",
    "print(t)\n",
    "      "
   ]
  },
  {
   "cell_type": "markdown",
   "id": "06e17fe2-c4a1-41bc-8a8b-109e99eddb2b",
   "metadata": {},
   "source": [
    "48. Check if a set contains another set as a subset."
   ]
  },
  {
   "cell_type": "code",
   "execution_count": 30,
   "id": "cf0624c9-94ca-4c0c-a14b-645a81c2ab1f",
   "metadata": {},
   "outputs": [
    {
     "name": "stdout",
     "output_type": "stream",
     "text": [
      "Yes\n"
     ]
    }
   ],
   "source": [
    "s={1,2,3,4,5}   #set\n",
    "t={2,3,4}       #subset\n",
    "if s.issuperset(t) == True:\n",
    "    print('Yes')\n",
    "else:\n",
    "    print('No')\n"
   ]
  },
  {
   "cell_type": "markdown",
   "id": "8641fc8e-cf3e-4ff1-878d-4bbde3471c1f",
   "metadata": {},
   "source": [
    "## 49. Create a set of alternating 1s and 0s of length `n`."
   ]
  },
  {
   "cell_type": "code",
   "execution_count": 33,
   "id": "f601e6cb-4907-4f1b-80cc-f6de6b209dd0",
   "metadata": {},
   "outputs": [
    {
     "name": "stdin",
     "output_type": "stream",
     "text": [
      "Enter n 4\n"
     ]
    },
    {
     "name": "stdout",
     "output_type": "stream",
     "text": [
      "{0, 1}\n"
     ]
    }
   ],
   "source": [
    "user= int(input('Enter n'))\n",
    "i=0\n",
    "f=[]\n",
    "while i<n:\n",
    "    if i%2==0:\n",
    "        f.append(0)\n",
    "    else:\n",
    "        f.append(1)\n",
    "    i=i+1\n",
    "print(set(f))"
   ]
  },
  {
   "cell_type": "markdown",
   "id": "3654b253-036f-4746-86f9-500e2512ab47",
   "metadata": {},
   "source": [
    "50. Merge multiple sets into one."
   ]
  },
  {
   "cell_type": "code",
   "execution_count": 34,
   "id": "1effd8a0-85f5-4509-93db-26294894e2a3",
   "metadata": {},
   "outputs": [
    {
     "name": "stdout",
     "output_type": "stream",
     "text": [
      "{1, 2, 3, 4, 5, 6, 7}\n"
     ]
    }
   ],
   "source": [
    "s={1,2,3,4}\n",
    "s1={3,4,5,6,7}\n",
    "f=s.union(s1)\n",
    "print(f)"
   ]
  },
  {
   "cell_type": "code",
   "execution_count": null,
   "id": "ba37cb98-2f2f-4eff-983b-84f810e43e6d",
   "metadata": {},
   "outputs": [],
   "source": []
  }
 ],
 "metadata": {
  "kernelspec": {
   "display_name": "Python 3 (ipykernel)",
   "language": "python",
   "name": "python3"
  },
  "language_info": {
   "codemirror_mode": {
    "name": "ipython",
    "version": 3
   },
   "file_extension": ".py",
   "mimetype": "text/x-python",
   "name": "python",
   "nbconvert_exporter": "python",
   "pygments_lexer": "ipython3",
   "version": "3.10.8"
  }
 },
 "nbformat": 4,
 "nbformat_minor": 5
}
