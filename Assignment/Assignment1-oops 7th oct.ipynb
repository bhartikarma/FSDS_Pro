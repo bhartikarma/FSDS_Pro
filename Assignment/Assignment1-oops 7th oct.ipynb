{
 "cells": [
  {
   "cell_type": "code",
   "execution_count": 9,
   "id": "8b6a7b1a-3ff5-4b22-be3e-d3b2d7aa7e3a",
   "metadata": {},
   "outputs": [],
   "source": [
    "class a :\n",
    "    \n",
    "    def test(self):\n",
    "        print(\"this test method is a part of class a\")\n",
    "        \n",
    "    def test1(self):\n",
    "        print(\"this is test1 from class a \")"
   ]
  },
  {
   "cell_type": "code",
   "execution_count": 10,
   "id": "8e4d306f-fdb4-47a0-a93d-597f5b21d30b",
   "metadata": {},
   "outputs": [],
   "source": [
    "obj_a = a()"
   ]
  },
  {
   "cell_type": "code",
   "execution_count": 11,
   "id": "81ef5597-cf96-4ed9-a4f6-21e2e93aca70",
   "metadata": {},
   "outputs": [
    {
     "name": "stdout",
     "output_type": "stream",
     "text": [
      "this test method is a part of class a\n"
     ]
    }
   ],
   "source": [
    "obj_a.test()"
   ]
  },
  {
   "cell_type": "code",
   "execution_count": 16,
   "id": "11ee63d6-433d-48dc-ada0-5dd6771310ba",
   "metadata": {},
   "outputs": [],
   "source": [
    "class b(a) :\n",
    "    def test1b(self):\n",
    "        print(\"this is a part of class b \")"
   ]
  },
  {
   "cell_type": "code",
   "execution_count": 17,
   "id": "badaedfe-57d1-43c6-9193-e5afb0f31dbc",
   "metadata": {},
   "outputs": [],
   "source": [
    "obj_b = b()"
   ]
  },
  {
   "cell_type": "code",
   "execution_count": 18,
   "id": "3ce19f61-ba8e-4050-9d4d-614adfd964c5",
   "metadata": {},
   "outputs": [
    {
     "name": "stdout",
     "output_type": "stream",
     "text": [
      "this test method is a part of class a\n"
     ]
    }
   ],
   "source": [
    "obj_b.test()"
   ]
  },
  {
   "cell_type": "code",
   "execution_count": 19,
   "id": "5e473fae-e094-4407-99df-16a04ab4c80a",
   "metadata": {},
   "outputs": [
    {
     "name": "stdout",
     "output_type": "stream",
     "text": [
      "this is test1 from class a \n"
     ]
    }
   ],
   "source": [
    "obj_b.test1()"
   ]
  },
  {
   "cell_type": "code",
   "execution_count": null,
   "id": "02a8f055-535f-4bc2-adc1-575445f82570",
   "metadata": {},
   "outputs": [],
   "source": [
    "obj_b."
   ]
  },
  {
   "cell_type": "code",
   "execution_count": 21,
   "id": "59361cd3-c0c4-4ddd-abac-cbe3275ade5f",
   "metadata": {},
   "outputs": [],
   "source": [
    "class lecture:\n",
    "    \n",
    "    def topic(self):\n",
    "        print(\"todays class we are discussing about inheritance condept in oops\")\n",
    "        \n",
    "    def timing(self):\n",
    "        print(\"timing for todays class is 9 AM IST\")\n",
    "        \n",
    "    def end_time(self):\n",
    "        print(\"today i will try to end class bit early\")"
   ]
  },
  {
   "cell_type": "code",
   "execution_count": 23,
   "id": "6e3dd2de-883e-4e9e-98a0-4a7089af1627",
   "metadata": {},
   "outputs": [],
   "source": [
    "class student(lecture):\n",
    "    \n",
    "    def student_details(self):\n",
    "        print(\"this class will give you a student details\")"
   ]
  },
  {
   "cell_type": "code",
   "execution_count": 24,
   "id": "c2ad2a89-0f29-4410-86c4-e33f47b4186d",
   "metadata": {},
   "outputs": [],
   "source": [
    "naval = student()"
   ]
  },
  {
   "cell_type": "code",
   "execution_count": 25,
   "id": "38c86e7f-5560-464a-b597-c88a74819f1a",
   "metadata": {},
   "outputs": [
    {
     "name": "stdout",
     "output_type": "stream",
     "text": [
      "todays class we are discussing about inheritance condept in oops\n"
     ]
    }
   ],
   "source": [
    "naval.topic()"
   ]
  },
  {
   "cell_type": "code",
   "execution_count": 26,
   "id": "02efc8a4-f995-4f85-87d2-620ccc0f61fa",
   "metadata": {},
   "outputs": [
    {
     "name": "stdout",
     "output_type": "stream",
     "text": [
      "timing for todays class is 9 AM IST\n"
     ]
    }
   ],
   "source": [
    "satish = student()\n",
    "satish.timing()"
   ]
  },
  {
   "cell_type": "code",
   "execution_count": 28,
   "id": "03932972-a58b-46e5-a3f8-ffc43c84ce53",
   "metadata": {},
   "outputs": [],
   "source": [
    "class teacher(student):\n",
    "    def details(self):\n",
    "        print(\"this will give you a details about teacher\")"
   ]
  },
  {
   "cell_type": "code",
   "execution_count": 29,
   "id": "fff36c1b-f1e9-467e-b29f-c304aa9feec9",
   "metadata": {},
   "outputs": [
    {
     "name": "stdout",
     "output_type": "stream",
     "text": [
      "timing for todays class is 9 AM IST\n"
     ]
    }
   ],
   "source": [
    "sudh = teacher()\n",
    "sudh.timing()"
   ]
  },
  {
   "cell_type": "code",
   "execution_count": 39,
   "id": "a5e8c94b-de62-4ef5-8eba-81259d83dd3d",
   "metadata": {},
   "outputs": [],
   "source": [
    "class lecture:\n",
    "    def topic(self):\n",
    "        print(\"todays class we are discussing about inheritance condept in oops\")\n",
    "        \n",
    "    def timing(self):\n",
    "        print(\"timing for todays class is 9 AM IST\")\n",
    "        \n",
    "    def end_time(self):\n",
    "        print(\"today i will try to end class bit early\")"
   ]
  },
  {
   "cell_type": "code",
   "execution_count": 40,
   "id": "2007141c-1b71-4cd4-9bed-a3cd8d851baa",
   "metadata": {},
   "outputs": [],
   "source": [
    "class student:\n",
    "    \n",
    "    def student_details(self):\n",
    "        print(\"this class will give you a student details\")\n",
    "        \n",
    "    def timing(self):\n",
    "        print(\"this is a timing fun from student class\")\n",
    "        "
   ]
  },
  {
   "cell_type": "code",
   "execution_count": 48,
   "id": "272860d3-1fac-475b-8c09-0490069224bc",
   "metadata": {},
   "outputs": [],
   "source": [
    "class teacher(lecture,student):\n",
    "    def details(self):\n",
    "        print(\"this will give you a details about teacher\")"
   ]
  },
  {
   "cell_type": "code",
   "execution_count": 49,
   "id": "f4a9ae16-f0e3-4a4a-a003-38773611cd2a",
   "metadata": {},
   "outputs": [],
   "source": [
    "krish = teacher()"
   ]
  },
  {
   "cell_type": "code",
   "execution_count": 50,
   "id": "6dc85f37-219e-4c72-927c-9aebb550fea9",
   "metadata": {},
   "outputs": [
    {
     "name": "stdout",
     "output_type": "stream",
     "text": [
      "timing for todays class is 9 AM IST\n"
     ]
    }
   ],
   "source": [
    "krish.timing()"
   ]
  },
  {
   "cell_type": "code",
   "execution_count": 37,
   "id": "8bcbac88-9172-4a31-a191-9c4b9a1c6eac",
   "metadata": {},
   "outputs": [
    {
     "name": "stdout",
     "output_type": "stream",
     "text": [
      "this class will give you a student details\n"
     ]
    }
   ],
   "source": [
    "krish.student_details()"
   ]
  },
  {
   "cell_type": "code",
   "execution_count": 1,
   "id": "fef1683a-faa4-4d27-a0a6-7a742e512e9b",
   "metadata": {},
   "outputs": [
    {
     "name": "stdout",
     "output_type": "stream",
     "text": [
      "Account Holder: John Doe\n",
      "Account Number: 123456\n",
      "Current Balance: $1000\n",
      "Deposited $500. New balance: $1500\n",
      "Withdrew $200. New balance: $1300\n",
      "Insufficient funds. Withdrawal failed.\n"
     ]
    }
   ],
   "source": [
    "\"\"\"Problem 1: Bank Account Create a class representing a bank account with attributes like account number, \n",
    "account holder name, and balance. Implement methods to deposit and withdraw money from the account.\"\"\"\n",
    "\n",
    "class BankAccount:\n",
    "    def __init__(self, account_number, account_holder, balance=0):\n",
    "        self.account_number = account_number\n",
    "        self.account_holder = account_holder\n",
    "        self.balance = balance\n",
    "\n",
    "    def deposit(self, amount):\n",
    "        if amount > 0:\n",
    "            self.balance += amount\n",
    "            print(f\"Deposited ${amount}. New balance: ${self.balance}\")\n",
    "        else:\n",
    "            print(\"Invalid deposit amount. Please deposit a positive amount.\")\n",
    "\n",
    "    def withdraw(self, amount):\n",
    "        if 0 < amount <= self.balance:\n",
    "            self.balance -= amount\n",
    "            print(f\"Withdrew ${amount}. New balance: ${self.balance}\")\n",
    "        elif amount > self.balance:\n",
    "            print(\"Insufficient funds. Withdrawal failed.\")\n",
    "        else:\n",
    "            print(\"Invalid withdrawal amount. Please withdraw a positive amount.\")\n",
    "\n",
    "    def get_balance(self):\n",
    "        return self.balance\n",
    "\n",
    "    def display_info(self):\n",
    "        print(f\"Account Holder: {self.account_holder}\")\n",
    "        print(f\"Account Number: {self.account_number}\")\n",
    "        print(f\"Current Balance: ${self.balance}\")\n",
    "\n",
    "\n",
    "account1 = BankAccount(\"123456\", \"John Doe\", 1000)\n",
    "\n",
    "account1.display_info()\n",
    "account1.deposit(500)\n",
    "account1.withdraw(200)\n",
    "account1.withdraw(1500)  \n"
   ]
  },
  {
   "cell_type": "code",
   "execution_count": 2,
   "id": "be80e4d5-8d31-41e5-80ff-5d9bf89465ba",
   "metadata": {},
   "outputs": [
    {
     "name": "stdout",
     "output_type": "stream",
     "text": [
      "Employee ID: E123\n",
      "Name: Alice Smith\n",
      "Salary: $50000\n",
      "Yearly Bonus: $5000.0\n"
     ]
    }
   ],
   "source": [
    "\"\"\"Problem 2: Employee Management Create a class representing an employee with attributes like employee ID, name, and salary. \n",
    "Implement methods to calculate the yearly bonus and display employee details.\n",
    "\"\"\"\n",
    "\n",
    "class Employee:\n",
    "    def __init__(self, employee_id, name, salary):\n",
    "        self.employee_id = employee_id\n",
    "        self.name = name\n",
    "        self.salary = salary\n",
    "\n",
    "    def calculate_yearly_bonus(self, bonus_percentage):\n",
    "        if 0 <= bonus_percentage <= 100:\n",
    "            bonus_amount = (bonus_percentage / 100) * self.salary\n",
    "            print(f\"Yearly Bonus: ${bonus_amount}\")\n",
    "            return bonus_amount\n",
    "        else:\n",
    "            print(\"Invalid bonus percentage. Please provide a percentage between 0 and 100.\")\n",
    "            return 0\n",
    "\n",
    "    def display_details(self):\n",
    "        print(f\"Employee ID: {self.employee_id}\")\n",
    "        print(f\"Name: {self.name}\")\n",
    "        print(f\"Salary: ${self.salary}\")\n",
    "\n",
    "employee1 = Employee(\"E123\", \"Alice Smith\", 50000)\n",
    "\n",
    "employee1.display_details()\n",
    "bonus_amount = employee1.calculate_yearly_bonus(10)\n"
   ]
  },
  {
   "cell_type": "code",
   "execution_count": null,
   "id": "e51604bb-7a48-4b3b-810a-c794b5d58753",
   "metadata": {},
   "outputs": [],
   "source": [
    "\"\"\"Problem 3: Vehicle Rental Create a class representing a vehicle rental system. \n",
    "Implement methods to rent a vehicle, return a vehicle, and display available vehicles.\n",
    "\"\"\"\"\n",
    "\n",
    "class Vehicle:\n",
    "    def __init__(self, vehicle_id, model, is_available=True):\n",
    "        self.vehicle_id = vehicle_id\n",
    "        self.model = model\n",
    "        self.is_available = is_available\n",
    "\n",
    "    def rent(self):\n",
    "        if self.is_available:\n",
    "            self.is_available = False\n",
    "            print(f\"Vehicle {self.vehicle_id} - {self.model} rented successfully.\")\n",
    "        else:\n",
    "            print(f\"Vehicle {self.vehicle_id} - {self.model} is not available for rent.\")\n",
    "\n",
    "    def return_vehicle(self):\n",
    "        if not self.is_available:\n",
    "            self.is_available = True\n",
    "            print(f\"Vehicle {self.vehicle_id} - {self.model} returned successfully.\")\n",
    "        else:\n",
    "            print(f\"This vehicle is already available. Cannot return again.\")\n",
    "\n",
    "    def display_info(self):\n",
    "        availability_status = \"Available\" if self.is_available else \"Not Available\"\n",
    "        print(f\"Vehicle ID: {self.vehicle_id}\")\n",
    "        print(f\"Model: {self.model}\")\n",
    "        print(f\"Availability: {availability_status}\")\n",
    "\n",
    "class VehicleRentalSystem:\n",
    "    def __init__(self):\n",
    "        self.vehicles = {}\n",
    "\n",
    "    def add_vehicle(self, vehicle):\n",
    "        self.vehicles[vehicle.vehicle_id] = vehicle\n",
    "\n",
    "    def rent_vehicle(self, vehicle_id):\n",
    "        if vehicle_id in self.vehicles:\n",
    "            self.vehicles[vehicle_id].rent()\n",
    "        else:\n",
    "            print(\"Vehicle not found.\")\n",
    "\n",
    "    def return_vehicle(self, vehicle_id):\n",
    "        if vehicle_id in self.vehicles:\n",
    "            self.vehicles[vehicle_id].return_vehicle()\n",
    "        else:\n",
    "            print(\"Vehicle not found.\")\n",
    "\n",
    "    def display_available_vehicles(self):\n",
    "        print(\"Available Vehicles:\")\n",
    "        for vehicle_id, vehicle in self.vehicles.items():\n",
    "            if vehicle.is_available:\n",
    "                print(f\"  {vehicle_id} - {vehicle.model}\")\n",
    "\n",
    "system = VehicleRentalSystem()\n",
    "\n",
    "car1 = Vehicle(\"V001\", \"Sedan\")\n",
    "car2 = Vehicle(\"V002\", \"SUV\")\n",
    "bike1 = Vehicle(\"V101\", \"Sport Bike\")\n",
    "\n",
    "system.add_vehicle(car1)\n",
    "system.add_vehicle(car2)\n",
    "system.add_vehicle(bike1)\n",
    "\n",
    "system.display_available_vehicles()\n",
    "\n",
    "system.rent_vehicle(\"V001\")\n",
    "system.rent_vehicle(\"V002\")\n",
    "system.display_available_vehicles()\n",
    "\n",
    "system.return_vehicle(\"V001\")\n",
    "system.display_available_vehicles()\n"
   ]
  },
  {
   "cell_type": "code",
   "execution_count": 3,
   "id": "d7a02be0-4b08-4426-b1c9-e9fc11bd0e6b",
   "metadata": {},
   "outputs": [
    {
     "name": "stdout",
     "output_type": "stream",
     "text": [
      "Available Books:\n",
      "  B001 - 'The Catcher in the Rye' by J.D. Salinger\n",
      "  B002 - 'To Kill a Mockingbird' by Harper Lee\n",
      "  B003 - '1984' by George Orwell\n",
      "Book 'The Catcher in the Rye' by J.D. Salinger has been borrowed.\n",
      "Book 'To Kill a Mockingbird' by Harper Lee has been borrowed.\n",
      "Available Books:\n",
      "  B003 - '1984' by George Orwell\n",
      "Book 'The Catcher in the Rye' by J.D. Salinger has been returned.\n",
      "Available Books:\n",
      "  B001 - 'The Catcher in the Rye' by J.D. Salinger\n",
      "  B003 - '1984' by George Orwell\n"
     ]
    }
   ],
   "source": [
    "\"\"\"Problem 4: Library Catalog Create classes representing a library and a book. \n",
    "Implement methods to add books to the library, borrow books, and display available books.\n",
    "\n",
    "\"\"\"\n",
    "class Book:\n",
    "    def __init__(self, book_id, title, author, is_available=True):\n",
    "        self.book_id = book_id\n",
    "        self.title = title\n",
    "        self.author = author\n",
    "        self.is_available = is_available\n",
    "\n",
    "    def borrow(self):\n",
    "        if self.is_available:\n",
    "            self.is_available = False\n",
    "            print(f\"Book '{self.title}' by {self.author} has been borrowed.\")\n",
    "        else:\n",
    "            print(f\"Book '{self.title}' by {self.author} is not available for borrowing.\")\n",
    "\n",
    "    def return_book(self):\n",
    "        if not self.is_available:\n",
    "            self.is_available = True\n",
    "            print(f\"Book '{self.title}' by {self.author} has been returned.\")\n",
    "        else:\n",
    "            print(f\"This book is already available. Cannot be returned again.\")\n",
    "\n",
    "    def display_info(self):\n",
    "        availability_status = \"Available\" if self.is_available else \"Not Available\"\n",
    "        print(f\"Book ID: {self.book_id}\")\n",
    "        print(f\"Title: {self.title}\")\n",
    "        print(f\"Author: {self.author}\")\n",
    "        print(f\"Availability: {availability_status}\")\n",
    "\n",
    "\n",
    "class Library:\n",
    "    def __init__(self):\n",
    "        self.books = {}\n",
    "\n",
    "    def add_book(self, book):\n",
    "        self.books[book.book_id] = book\n",
    "\n",
    "    def borrow_book(self, book_id):\n",
    "        if book_id in self.books:\n",
    "            self.books[book_id].borrow()\n",
    "        else:\n",
    "            print(\"Book not found.\")\n",
    "\n",
    "    def return_book(self, book_id):\n",
    "        if book_id in self.books:\n",
    "            self.books[book_id].return_book()\n",
    "        else:\n",
    "            print(\"Book not found.\")\n",
    "\n",
    "    def display_available_books(self):\n",
    "        print(\"Available Books:\")\n",
    "        for book_id, book in self.books.items():\n",
    "            if book.is_available:\n",
    "                print(f\"  {book_id} - '{book.title}' by {book.author}\")\n",
    "library = Library()\n",
    "\n",
    "book1 = Book(\"B001\", \"The Catcher in the Rye\", \"J.D. Salinger\")\n",
    "book2 = Book(\"B002\", \"To Kill a Mockingbird\", \"Harper Lee\")\n",
    "book3 = Book(\"B003\", \"1984\", \"George Orwell\")\n",
    "\n",
    "library.add_book(book1)\n",
    "library.add_book(book2)\n",
    "library.add_book(book3)\n",
    "\n",
    "library.display_available_books()\n",
    "\n",
    "library.borrow_book(\"B001\")\n",
    "library.borrow_book(\"B002\")\n",
    "library.display_available_books()\n",
    "\n",
    "library.return_book(\"B001\")\n",
    "library.display_available_books()\n",
    "\n",
    "\n",
    "\n"
   ]
  },
  {
   "cell_type": "code",
   "execution_count": 4,
   "id": "943bb9af-dee1-4e23-8a3d-459c2addaa27",
   "metadata": {},
   "outputs": [
    {
     "name": "stdout",
     "output_type": "stream",
     "text": [
      "Available Products:\n",
      "  P001 - Laptop ($800): 10 available\n",
      "  P002 - Smartphone ($500): 15 available\n",
      "  P003 - Headphones ($50): 30 available\n",
      "Quantity for Laptop updated to 5.\n",
      "Quantity for Smartphone updated to 20.\n",
      "Available Products:\n",
      "  P001 - Laptop ($800): 5 available\n",
      "  P002 - Smartphone ($500): 20 available\n",
      "  P003 - Headphones ($50): 30 available\n"
     ]
    }
   ],
   "source": [
    "\"\"\"Problem 5: Product Inventory Create classes representing a product and an inventory system. \n",
    "Implement methods to add products to the inventory, update product quantity, and display available products.\n",
    "\"\"\"\n",
    "class Product:\n",
    "    def __init__(self, product_id, name, price, quantity):\n",
    "        self.product_id = product_id\n",
    "        self.name = name\n",
    "        self.price = price\n",
    "        self.quantity = quantity\n",
    "\n",
    "    def update_quantity(self, new_quantity):\n",
    "        if new_quantity >= 0:\n",
    "            self.quantity = new_quantity\n",
    "            print(f\"Quantity for {self.name} updated to {new_quantity}.\")\n",
    "        else:\n",
    "            print(\"Invalid quantity. Please provide a non-negative value.\")\n",
    "\n",
    "    def display_info(self):\n",
    "        print(f\"Product ID: {self.product_id}\")\n",
    "        print(f\"Name: {self.name}\")\n",
    "        print(f\"Price: ${self.price}\")\n",
    "        print(f\"Quantity: {self.quantity}\")\n",
    "\n",
    "\n",
    "class Inventory:\n",
    "    def __init__(self):\n",
    "        self.products = {}\n",
    "\n",
    "    def add_product(self, product):\n",
    "        self.products[product.product_id] = product\n",
    "\n",
    "    def update_product_quantity(self, product_id, new_quantity):\n",
    "        if product_id in self.products:\n",
    "            self.products[product_id].update_quantity(new_quantity)\n",
    "        else:\n",
    "            print(\"Product not found.\")\n",
    "\n",
    "    def display_available_products(self):\n",
    "        print(\"Available Products:\")\n",
    "        for product_id, product in self.products.items():\n",
    "            print(f\"  {product_id} - {product.name} (${product.price}): {product.quantity} available\")\n",
    "inventory_system = Inventory()\n",
    "\n",
    "product1 = Product(\"P001\", \"Laptop\", 800, 10)\n",
    "product2 = Product(\"P002\", \"Smartphone\", 500, 15)\n",
    "product3 = Product(\"P003\", \"Headphones\", 50, 30)\n",
    "\n",
    "inventory_system.add_product(product1)\n",
    "inventory_system.add_product(product2)\n",
    "inventory_system.add_product(product3)\n",
    "\n",
    "inventory_system.display_available_products()\n",
    "\n",
    "inventory_system.update_product_quantity(\"P001\", 5)\n",
    "inventory_system.update_product_quantity(\"P002\", 20)\n",
    "\n",
    "inventory_system.display_available_products()\n"
   ]
  },
  {
   "cell_type": "code",
   "execution_count": 5,
   "id": "f4cdbc9a-35ac-44e3-82cd-33e887d25a1d",
   "metadata": {},
   "outputs": [
    {
     "name": "stdout",
     "output_type": "stream",
     "text": [
      "Rectangle Area: 15\n",
      "Rectangle Perimeter: 16\n"
     ]
    }
   ],
   "source": [
    "\"\"\"Problem 6: Shape Calculation Create a class representing a shape with attributes like length, \n",
    "width, and height. Implement methods to calculate the area and perimeter of the shape.\n",
    "\n",
    "\"\"\"\n",
    "class Shape:\n",
    "    def __init__(self, length=0, width=0, height=0):\n",
    "        self.length = length\n",
    "        self.width = width\n",
    "        self.height = height\n",
    "\n",
    "    def calculate_area(self):\n",
    "        raise NotImplementedError(\"Subclasses must implement the calculate_area method\")\n",
    "\n",
    "    def calculate_perimeter(self):\n",
    "        raise NotImplementedError(\"Subclasses must implement the calculate_perimeter method\")\n",
    "\n",
    "\n",
    "class Rectangle(Shape):\n",
    "    def calculate_area(self):\n",
    "        return self.length * self.width\n",
    "\n",
    "    def calculate_perimeter(self):\n",
    "        return 2 * (self.length + self.width)\n",
    "\n",
    "rectangle = Rectangle(length=5, width=3)\n",
    "\n",
    "area = rectangle.calculate_area()\n",
    "perimeter = rectangle.calculate_perimeter()\n",
    "\n",
    "print(f\"Rectangle Area: {area}\")\n",
    "print(f\"Rectangle Perimeter: {perimeter}\")\n"
   ]
  },
  {
   "cell_type": "code",
   "execution_count": 6,
   "id": "67d99370-1287-43ee-98fc-2d0c69df9c16",
   "metadata": {},
   "outputs": [
    {
     "name": "stdout",
     "output_type": "stream",
     "text": [
      "Student ID: S001\n",
      "Name: John Doe\n",
      "Grades: 85, 90, 78, 92\n",
      "Average Grade: 86.25\n",
      "Grade 88 added for John Doe.\n",
      "Grade 95 added for John Doe.\n",
      "Student ID: S001\n",
      "Name: John Doe\n",
      "Grades: 85, 90, 78, 92, 88, 95\n",
      "Average Grade: 88.00\n"
     ]
    }
   ],
   "source": [
    "\"\"\"Problem 7: Student Management Create a class representing a student with attributes like student ID,\n",
    "name, and grades. Implement methods to calculate the average grade and display student details.\n",
    "\"\"\"\n",
    "class Student:\n",
    "    def __init__(self, student_id, name, grades=[]):\n",
    "        self.student_id = student_id\n",
    "        self.name = name\n",
    "        self.grades = grades\n",
    "\n",
    "    def add_grade(self, grade):\n",
    "        self.grades.append(grade)\n",
    "        print(f\"Grade {grade} added for {self.name}.\")\n",
    "\n",
    "    def calculate_average_grade(self):\n",
    "        if not self.grades:\n",
    "            print(\"No grades available.\")\n",
    "            return 0\n",
    "        average_grade = sum(self.grades) / len(self.grades)\n",
    "        return average_grade\n",
    "\n",
    "    def display_details(self):\n",
    "        print(f\"Student ID: {self.student_id}\")\n",
    "        print(f\"Name: {self.name}\")\n",
    "        print(f\"Grades: {', '.join(map(str, self.grades))}\")\n",
    "        average_grade = self.calculate_average_grade()\n",
    "        print(f\"Average Grade: {average_grade:.2f}\")\n",
    "\n",
    "student1 = Student(student_id=\"S001\", name=\"John Doe\", grades=[85, 90, 78, 92])\n",
    "student1.display_details()\n",
    "student1.add_grade(88)\n",
    "student1.add_grade(95)\n",
    "\n",
    "student1.display_details()\n"
   ]
  },
  {
   "cell_type": "code",
   "execution_count": 7,
   "id": "bb8f8149-81b5-40a4-9fd2-6689c12e4c5b",
   "metadata": {},
   "outputs": [
    {
     "name": "stdout",
     "output_type": "stream",
     "text": [
      "Sender: john.doe@example.com\n",
      "Recipient: jane.smith@example.com\n",
      "Subject: Meeting Tomorrow\n",
      "Message: Hi Jane, let's meet tomorrow to discuss the project.\n",
      "Status: Not Sent\n",
      "Email sent from john.doe@example.com to jane.smith@example.com.\n",
      "Sender: john.doe@example.com\n",
      "Recipient: jane.smith@example.com\n",
      "Subject: Meeting Tomorrow\n",
      "Message: Hi Jane, let's meet tomorrow to discuss the project.\n",
      "Status: Sent\n"
     ]
    }
   ],
   "source": [
    "\n",
    "\"\"\"Problem 8: Email Management Create a class representing an email with attributes like sender, \n",
    "recipient, and subject. Implement methods to send an email and display email details.\n",
    "\"\"\"\n",
    "class Email:\n",
    "    def __init__(self, sender, recipient, subject, message):\n",
    "        self.sender = sender\n",
    "        self.recipient = recipient\n",
    "        self.subject = subject\n",
    "        self.message = message\n",
    "        self.is_sent = False\n",
    "\n",
    "    def send_email(self):\n",
    "        if not self.is_sent:\n",
    "            print(f\"Email sent from {self.sender} to {self.recipient}.\")\n",
    "            self.is_sent = True\n",
    "        else:\n",
    "            print(\"This email has already been sent.\")\n",
    "\n",
    "    def display_details(self):\n",
    "        print(f\"Sender: {self.sender}\")\n",
    "        print(f\"Recipient: {self.recipient}\")\n",
    "        print(f\"Subject: {self.subject}\")\n",
    "        print(f\"Message: {self.message}\")\n",
    "        print(f\"Status: {'Sent' if self.is_sent else 'Not Sent'}\")\n",
    "\n",
    "email1 = Email(sender=\"john.doe@example.com\", recipient=\"jane.smith@example.com\", subject=\"Meeting Tomorrow\", message=\"Hi Jane, let's meet tomorrow to discuss the project.\")\n",
    "\n",
    "email1.display_details()\n",
    "\n",
    "email1.send_email()\n",
    "\n",
    "email1.display_details()\n"
   ]
  },
  {
   "cell_type": "code",
   "execution_count": 8,
   "id": "1b7b1a61-5795-4c33-b8d1-0d120f616afb",
   "metadata": {},
   "outputs": [
    {
     "name": "stdout",
     "output_type": "stream",
     "text": [
      "Post added to john_doe's profile.\n",
      "Post added to john_doe's profile.\n",
      "Posts by john_doe:\n",
      "1. Just had a great day at the beach! by john_doe\n",
      "2. Working on a new project. Excited! by john_doe\n",
      "Matching posts for 'beach':\n",
      "1. Just had a great day at the beach! by john_doe\n",
      "Post added to john_doe's profile.\n",
      "Posts by john_doe:\n",
      "1. Just had a great day at the beach! by john_doe\n",
      "2. Working on a new project. Excited! by john_doe\n",
      "3. Enjoying the weekend vibes. by john_doe\n"
     ]
    }
   ],
   "source": [
    "\"\"\"Problem 9: Social Media Profile Create a class representing a social media profile with \n",
    "attributes like username and posts. Implement methods to add posts, display posts, and search for posts by keyword.\n",
    "\"\"\"\n",
    "class SocialMediaProfile:\n",
    "    def __init__(self, username):\n",
    "        self.username = username\n",
    "        self.posts = []\n",
    "\n",
    "    def add_post(self, content):\n",
    "        post = {\"content\": content, \"author\": self.username}\n",
    "        self.posts.append(post)\n",
    "        print(f\"Post added to {self.username}'s profile.\")\n",
    "\n",
    "    def display_posts(self):\n",
    "        if not self.posts:\n",
    "            print(\"No posts available.\")\n",
    "        else:\n",
    "            print(f\"Posts by {self.username}:\")\n",
    "            for i, post in enumerate(self.posts, start=1):\n",
    "                print(f\"{i}. {post['content']} by {post['author']}\")\n",
    "\n",
    "    def search_posts(self, keyword):\n",
    "        matching_posts = [post for post in self.posts if keyword.lower() in post['content'].lower()]\n",
    "        if not matching_posts:\n",
    "            print(f\"No posts containing '{keyword}' found.\")\n",
    "        else:\n",
    "            print(f\"Matching posts for '{keyword}':\")\n",
    "            for i, post in enumerate(matching_posts, start=1):\n",
    "                print(f\"{i}. {post['content']} by {post['author']}\")\n",
    "profile1 = SocialMediaProfile(username=\"john_doe\")\n",
    "\n",
    "profile1.add_post(\"Just had a great day at the beach!\")\n",
    "profile1.add_post(\"Working on a new project. Excited!\")\n",
    "\n",
    "profile1.display_posts()\n",
    "\n",
    "profile1.search_posts(\"beach\")\n",
    "\n",
    "profile1.add_post(\"Enjoying the weekend vibes.\")\n",
    "\n",
    "profile1.display_posts()\n",
    "\n"
   ]
  },
  {
   "cell_type": "code",
   "execution_count": null,
   "id": "8d5c7931-24e7-4194-aac2-889a3acc8312",
   "metadata": {},
   "outputs": [],
   "source": [
    "\"\"\"Problem 10: ToDo List Create a class representing a ToDo list with attributes like tasks and due dates. \n",
    "Implement methods to add tasks, mark tasks as completed, and display pending tasks.\n",
    "\"\"\""
   ]
  }
 ],
 "metadata": {
  "kernelspec": {
   "display_name": "Python 3 (ipykernel)",
   "language": "python",
   "name": "python3"
  },
  "language_info": {
   "codemirror_mode": {
    "name": "ipython",
    "version": 3
   },
   "file_extension": ".py",
   "mimetype": "text/x-python",
   "name": "python",
   "nbconvert_exporter": "python",
   "pygments_lexer": "ipython3",
   "version": "3.10.8"
  }
 },
 "nbformat": 4,
 "nbformat_minor": 5
}
