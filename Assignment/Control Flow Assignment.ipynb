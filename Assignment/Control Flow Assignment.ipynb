{
 "cells": [
  {
   "cell_type": "code",
   "execution_count": 1,
   "id": "559528ee-143e-41ee-af2b-92686fad3638",
   "metadata": {},
   "outputs": [
    {
     "name": "stdin",
     "output_type": "stream",
     "text": [
      "enter the number 3\n"
     ]
    },
    {
     "name": "stdout",
     "output_type": "stream",
     "text": [
      "number is positive\n"
     ]
    }
   ],
   "source": [
    "#1.Write a Python program to check if a given number is positive or negative.\n",
    "num= int(input(\"enter the number\"))\n",
    "if num>0 :\n",
    "    print(\"number is positive\")\n",
    "    \n",
    "elif num<0 :\n",
    "    print(\"number is negative\")\n",
    "else :\n",
    "    print(\"number is Zero\")"
   ]
  },
  {
   "cell_type": "code",
   "execution_count": 2,
   "id": "c8731ee9-30b7-4aa1-ad02-5f33940872cd",
   "metadata": {},
   "outputs": [
    {
     "name": "stdin",
     "output_type": "stream",
     "text": [
      "enter your age 3\n"
     ]
    },
    {
     "name": "stdout",
     "output_type": "stream",
     "text": [
      "you are not eligible to vote\n"
     ]
    }
   ],
   "source": [
    "#2. Create a program that determines if a person is eligible to vote based on their age.\n",
    "age = int(input(\"enter your age\"))\n",
    "if age>=18 :\n",
    "    print(\"you are eligible to vote\")\n",
    "else :\n",
    "    print(\"you are not eligible to vote\")"
   ]
  },
  {
   "cell_type": "code",
   "execution_count": 3,
   "id": "37a63510-f804-42dc-a588-8aff7c8b0608",
   "metadata": {},
   "outputs": [
    {
     "name": "stdout",
     "output_type": "stream",
     "text": [
      "highest number is  101\n"
     ]
    }
   ],
   "source": [
    "#3. Develop a program to find the maximum of two numbers using if-else statements.\n",
    "num1,num2 = 101,11\n",
    "if num1>num2 :\n",
    "    print(\"highest number is \",num1)\n",
    "else :\n",
    "    print(\"highest number is \",num2)"
   ]
  },
  {
   "cell_type": "code",
   "execution_count": 4,
   "id": "ede86d74-c1d7-477c-b3ae-0498d31b441c",
   "metadata": {},
   "outputs": [
    {
     "name": "stdin",
     "output_type": "stream",
     "text": [
      "enter year to check leap year 3\n"
     ]
    },
    {
     "name": "stdout",
     "output_type": "stream",
     "text": [
      "3 is not a leap year\n"
     ]
    }
   ],
   "source": [
    "#4. Write a Python script to classify a given year as a leap year or not.\n",
    "#divisible by 4 except for end-of-century years which must be divisible by 400. This means that the year 2000 was a leap year, although 1900 was not.\n",
    "year = int(input(\"enter year to check leap year\"))\n",
    "\n",
    "if (year%4 == 0 and year %100 !=0 ) or (year %400 == 0):\n",
    "    print(f\"{year} is a leap year\")\n",
    "    \n",
    "else:\n",
    "    print(f\"{year} is not a leap year\")\n",
    "\n"
   ]
  },
  {
   "cell_type": "code",
   "execution_count": 5,
   "id": "c2f0a45c-4b5d-410a-a086-74821f26da4e",
   "metadata": {},
   "outputs": [
    {
     "name": "stdout",
     "output_type": "stream",
     "text": [
      "b  is a consonant\n"
     ]
    }
   ],
   "source": [
    "#5. Create a program that checks whether a character is a vowel or a consonant.\n",
    "char = \"b\"\n",
    "if char in \"aeiou\":\n",
    "    print(char,\" is a vowel\")\n",
    "if char not in \"aeiou\":\n",
    "    print(char,\" is a consonant\")\n"
   ]
  },
  {
   "cell_type": "code",
   "execution_count": 6,
   "id": "7f3d0b45-b4ab-42de-bec6-84e132dccf07",
   "metadata": {},
   "outputs": [
    {
     "name": "stdin",
     "output_type": "stream",
     "text": [
      "enter number to check odd or even 3\n"
     ]
    },
    {
     "name": "stdout",
     "output_type": "stream",
     "text": [
      "3 is an odd number\n"
     ]
    }
   ],
   "source": [
    "#6. Implement a program to determine whether a given number is even or odd.\n",
    "num = int(input(\"enter number to check odd or even\"))\n",
    "if num%2 == 0 :\n",
    "    print(f\"{num} is an even number\")\n",
    "elif num%2 != 0 :\n",
    "    print(f\"{num} is an odd number\")\n",
    "else:\n",
    "    print(\"invalid input\")\n",
    "    "
   ]
  },
  {
   "cell_type": "code",
   "execution_count": 7,
   "id": "81735ec2-b1bc-4fab-9584-09a663faf471",
   "metadata": {},
   "outputs": [
    {
     "name": "stdin",
     "output_type": "stream",
     "text": [
      "Enter a number:  3\n"
     ]
    },
    {
     "name": "stdout",
     "output_type": "stream",
     "text": [
      "The absolute value of 3.0 is 3.0\n"
     ]
    }
   ],
   "source": [
    "#7. Write a Python function to calculate the absolute value of a number without using the `abs()` function.\n",
    "number = float(input(\"Enter a number: \"))\n",
    "absolute_value=0\n",
    "if number < 0:\n",
    "        absolute_value = -number\n",
    "else:\n",
    "        absolute_value= number\n",
    "\n",
    "print(f\"The absolute value of {number} is {absolute_value}\")"
   ]
  },
  {
   "cell_type": "code",
   "execution_count": 8,
   "id": "10179a40-7ae9-455b-8e3b-4b84bf3348b6",
   "metadata": {},
   "outputs": [
    {
     "name": "stdin",
     "output_type": "stream",
     "text": [
      "Enter the first number:  3\n",
      "Enter the second number:  3\n",
      "Enter the third number:  3\n"
     ]
    },
    {
     "name": "stdout",
     "output_type": "stream",
     "text": [
      "The largest number is 3.0\n"
     ]
    }
   ],
   "source": [
    "#8. Develop a program that determines the largest of three given numbers using if-else statements.\n",
    "num1 = float(input(\"Enter the first number: \"))\n",
    "num2 = float(input(\"Enter the second number: \"))\n",
    "num3 = float(input(\"Enter the third number: \"))\n",
    "if num1 >= num2 and num1 >= num3:\n",
    "    largest = num1\n",
    "elif num2 >= num1 and num2 >= num3:\n",
    "    largest = num2\n",
    "else:\n",
    "    largest = num3\n",
    "print(f\"The largest number is {largest}\")\n"
   ]
  },
  {
   "cell_type": "code",
   "execution_count": 9,
   "id": "f2065368-59f9-4a92-b0ae-5e1be506e805",
   "metadata": {},
   "outputs": [
    {
     "name": "stdin",
     "output_type": "stream",
     "text": [
      "enter the string to check palindrome 3\n"
     ]
    },
    {
     "name": "stdout",
     "output_type": "stream",
     "text": [
      "string is palindrome\n"
     ]
    }
   ],
   "source": [
    "#9. Create a program that checks if a given string is a palindrome.\n",
    "istr = input(\"enter the string to check palindrome\")\n",
    "if istr == istr[::-1]:\n",
    "    print(\"string is palindrome\")\n",
    "    \n",
    "else: \n",
    "    print(\"string is not palindrome\")"
   ]
  },
  {
   "cell_type": "code",
   "execution_count": 10,
   "id": "8a1579dc-613a-443d-badc-1e533e4af696",
   "metadata": {},
   "outputs": [
    {
     "name": "stdin",
     "output_type": "stream",
     "text": [
      "Enter the student's score (0-100):  3\n"
     ]
    },
    {
     "name": "stdout",
     "output_type": "stream",
     "text": [
      "The student's grade is: F\n"
     ]
    }
   ],
   "source": [
    "#10. Write a Python program to calculate the grade based on a student's score.\n",
    "score = float(input(\"Enter the student's score (0-100): \"))\n",
    "if score >= 90:\n",
    "    grade = 'A'\n",
    "elif score >= 80:\n",
    "    grade = 'B'\n",
    "elif score >= 70:\n",
    "    grade = 'C'\n",
    "elif score >= 60:\n",
    "    grade = 'D'\n",
    "else:\n",
    "    grade = 'F'\n",
    "print(f\"The student's grade is: {grade}\")\n"
   ]
  },
  {
   "cell_type": "code",
   "execution_count": 11,
   "id": "58bcad5c-ae64-4106-8df9-48c806b24e21",
   "metadata": {},
   "outputs": [
    {
     "name": "stdin",
     "output_type": "stream",
     "text": [
      "Enter the first number:  3\n",
      "Enter the second number:  3\n",
      "Enter the third number:  3\n"
     ]
    },
    {
     "name": "stdout",
     "output_type": "stream",
     "text": [
      "The largest number among 3.0, 3.0, and 3.0 is: 3.0\n"
     ]
    }
   ],
   "source": [
    "#11.Write a program to find the largest among three numbers using nested if-else statements.\n",
    "num1 = float(input(\"Enter the first number: \"))\n",
    "num2 = float(input(\"Enter the second number: \"))\n",
    "num3 = float(input(\"Enter the third number: \"))\n",
    "if num1 > num2:\n",
    "    if num1 > num3:\n",
    "        largest = num1\n",
    "    else:\n",
    "        largest = num3\n",
    "else:\n",
    "    if num2 > num3:\n",
    "        largest = num2\n",
    "    else:\n",
    "        largest = num3\n",
    "print(f\"The largest number among {num1}, {num2}, and {num3} is: {largest}\")\n",
    "\n"
   ]
  },
  {
   "cell_type": "code",
   "execution_count": null,
   "id": "7fc0e131-48a0-480c-b2d7-10589817d1de",
   "metadata": {},
   "outputs": [
    {
     "name": "stdin",
     "output_type": "stream",
     "text": [
      "Enter the length of the first side:  3\n",
      "Enter the length of the second side:  3\n",
      "Enter the length of the third side:  \n"
     ]
    }
   ],
   "source": [
    "#12. Implement a program to determine if a triangle is equilateral, isosceles, or scalene.\n",
    "side1 = float(input(\"Enter the length of the first side: \"))\n",
    "side2 = float(input(\"Enter the length of the second side: \"))\n",
    "side3 = float(input(\"Enter the length of the third side: \"))\n",
    "if side1 == side2 == side3:\n",
    "    print(\"The triangle is Equilateral.\")\n",
    "elif side1 == side2 or side1 == side3 or side2 == side3:\n",
    "    print(\"The triangle is Isosceles.\")\n",
    "else:\n",
    "    print(\"The triangle is Scalene.\")\n"
   ]
  },
  {
   "cell_type": "code",
   "execution_count": 13,
   "id": "e6709fb6-e962-4497-8f55-247eb454cc1d",
   "metadata": {},
   "outputs": [
    {
     "name": "stdin",
     "output_type": "stream",
     "text": [
      "Enter a year:  3\n"
     ]
    },
    {
     "name": "stdout",
     "output_type": "stream",
     "text": [
      "3 is not a century year.\n",
      "3 is not a leap year.\n"
     ]
    }
   ],
   "source": [
    "#13. Develop a program that checks if a year is a leap year and also if it is a century year.\n",
    "year = int(input(\"Enter a year: \"))\n",
    "if year % 100 == 0:\n",
    "    print(f\"{year} is a century year.\")\n",
    "else:\n",
    "    print(f\"{year} is not a century year.\")\n",
    "if (year%4 == 0 and year %100 !=0 ) or (year %400 == 0):\n",
    "    print(f\"{year} is a leap year.\")\n",
    "else:\n",
    "    print(f\"{year} is not a leap year.\")\n"
   ]
  },
  {
   "cell_type": "code",
   "execution_count": null,
   "id": "a97ef55d-52df-4914-84aa-cdeac84401d8",
   "metadata": {},
   "outputs": [],
   "source": [
    "#14. Write a Python script to determine if a number is positive, negative, or zero.\n",
    "num = int(input(\"enter number\"))\n",
    "if num>0:\n",
    "    print(\"number is positive\")\n",
    "elif num <0:\n",
    "    print(\"number is negative\")\n",
    "else:\n",
    "    print(\"number is zero\")\n"
   ]
  },
  {
   "cell_type": "code",
   "execution_count": null,
   "id": "4d47d996-81a6-4c71-b4e9-c76a10e01d6c",
   "metadata": {},
   "outputs": [],
   "source": [
    "#15. Create a program to check if a person is a teenager (between 13 and 19 years old).\n",
    "age = int(input(\"enter your age\"))\n",
    "if age >=13 and age <=19 :\n",
    "    print(\"person is a teenager\")\n",
    "else:\n",
    "    print(\"person is not a teenager\")"
   ]
  },
  {
   "cell_type": "code",
   "execution_count": null,
   "id": "8f0b970e-f8d9-4623-9c46-ce9ca9ed5ad5",
   "metadata": {},
   "outputs": [],
   "source": [
    "#16. Develop a program that determines the type of angle based on its measure (acute, obtuse, or right).\n",
    "\n",
    "angle = float(input(\"Enter the measure of the angle (in degrees): \"))\n",
    "if 0 < angle < 90:\n",
    "    print(\"The angle is Acute.\")\n",
    "elif angle == 90:\n",
    "    print(\"The angle is Right.\")\n",
    "elif 90 < angle < 180:\n",
    "    print(\"The angle is Obtuse.\")\n",
    "else:\n",
    "    print(\"Invalid angle measure provided.\")\n"
   ]
  },
  {
   "cell_type": "code",
   "execution_count": null,
   "id": "39b9ce5e-2022-4552-a211-eed6298e38b3",
   "metadata": {},
   "outputs": [],
   "source": [
    "#17. Write a Python program to calculate the roots of a quadratic equation.\n",
    "a = float(input(\"Enter the coefficient a: \"))\n",
    "b = float(input(\"Enter the coefficient b: \"))\n",
    "c = float(input(\"Enter the coefficient c: \"))\n",
    "discriminant = b**2 - 4*a*c\n",
    "\n",
    "# Determine the nature of the roots and calculate them\n",
    "if discriminant > 0:\n",
    "    root1 = (-b + discriminant**0.5) / (2*a)\n",
    "    root2 = (-b - discriminant**0.5) / (2*a)\n",
    "    print(f\"Two distinct real roots: {root1} and {root2}\")\n",
    "\n",
    "elif discriminant == 0:\n",
    "    root = -b / (2*a)\n",
    "    print(f\"One real root: {root}\")\n",
    "\n",
    "else:\n",
    "    print(\"The roots are complex (not real).\")\n",
    "\n",
    "\n"
   ]
  },
  {
   "cell_type": "code",
   "execution_count": null,
   "id": "4346d76d-50f8-40b0-ab2e-692503dd7332",
   "metadata": {},
   "outputs": [],
   "source": [
    "#18. Implement a program to determine the day of the week based on a user-provided number (1 for Monday, 2 for Tuesday, etc.).\n",
    "day_num = int(input(\"Enter a number between 1 and 7 (1 for Monday, 2 for Tuesday, etc.): \"))\n",
    "if day_num == 1:\n",
    "    print(\"Monday\")\n",
    "elif day_num == 2:\n",
    "    print(\"Tuesday\")\n",
    "elif day_num == 3:\n",
    "    print(\"Wednesday\")\n",
    "elif day_num == 4:\n",
    "    print(\"Thursday\")\n",
    "elif day_num == 5:\n",
    "    print(\"Friday\")\n",
    "elif day_num == 6:\n",
    "    print(\"Saturday\")\n",
    "elif day_num == 7:\n",
    "    print(\"Sunday\")\n",
    "else:\n",
    "    print(\"Invalid number! Please enter a number between 1 and 7.\")\n"
   ]
  },
  {
   "cell_type": "code",
   "execution_count": null,
   "id": "400bd403-c6c5-4a87-8fab-a01bc8b8dbb3",
   "metadata": {},
   "outputs": [],
   "source": [
    "#19. Create a program that determines if a year is a leap year and also if it is evenly divisible by 400.\n",
    "year = int(input(\"Enter a year: \"))\n",
    "if (year % 4 == 0 and year % 100 != 0) or year % 400 == 0:\n",
    "    print(f\"{year} is a leap year.\")\n",
    "    if year % 400 == 0:\n",
    "        print(f\"{year} is also evenly divisible by 400.\")\n",
    "else:\n",
    "    print(f\"{year} is not a leap year.\")\n"
   ]
  },
  {
   "cell_type": "code",
   "execution_count": null,
   "id": "c08e0946-2a9f-4795-b2d1-0d53ca694b62",
   "metadata": {},
   "outputs": [],
   "source": [
    "#20. Develop a program that checks if a given number is prime or not using nested if-else statements.\n",
    "start = int(input(\"Enter the start of the range: \"))\n",
    "end = int(input(\"Enter the end of the range: \"))\n",
    "\n",
    "for num in range(start, end + 1):\n",
    "    is_prime = True\n",
    "    if num <= 1:\n",
    "        continue\n",
    "    for i in range(2, num):\n",
    "        if num % i == 0:\n",
    "            is_prime = False\n",
    "            break\n",
    "    if is_prime:\n",
    "        print(num) "
   ]
  },
  {
   "cell_type": "code",
   "execution_count": null,
   "id": "409bb6af-d4e8-4575-93d1-dd0335a5e6ac",
   "metadata": {},
   "outputs": [],
   "source": [
    "#21. Write a Python program to assign grades based on different ranges of scores using elif statements.\n",
    "score = float(input(\"Enter the student's score (0-100): \"))\n",
    "if score >= 90:\n",
    "    grade = 'A'\n",
    "elif score >= 80:\n",
    "    grade = 'B'\n",
    "elif score >= 70:\n",
    "    grade = 'C'\n",
    "elif score >= 60:\n",
    "    grade = 'D'\n",
    "else:\n",
    "    grade = 'F'\n",
    "print(f\"The student's grade is: {grade}\")\n"
   ]
  },
  {
   "cell_type": "code",
   "execution_count": null,
   "id": "48c0049c-13a9-4e35-a548-c94ca50529a7",
   "metadata": {},
   "outputs": [],
   "source": [
    "#22. Implement a program to determine the type of a triangle based on its angles.\n",
    "angle1 = float(input(\"Enter the first angle (in degrees): \"))\n",
    "angle2 = float(input(\"Enter the second angle (in degrees): \"))\n",
    "angle3 = float(input(\"Enter the third angle (in degrees): \"))\n",
    "if angle1 + angle2 + angle3 != 180:\n",
    "    print(\"The angles you entered do not form a valid triangle.\")\n",
    "else:\n",
    "    if angle1 == 90 or angle2 == 90 or angle3 == 90:\n",
    "        print(\"The triangle is a Right triangle.\")\n",
    "    elif angle1 > 90 or angle2 > 90 or angle3 > 90:\n",
    "        print(\"The triangle is an Obtuse triangle.\")\n",
    "    else:\n",
    "        print(\"The triangle is an Acute triangle.\")\n"
   ]
  },
  {
   "cell_type": "code",
   "execution_count": null,
   "id": "012f4964-78f0-495f-a810-4aaa08613d3b",
   "metadata": {},
   "outputs": [],
   "source": [
    "#23. Develop a program to categorize a given person's BMI into underweight, normal, overweight, or obese using elif statements.\n",
    "weight = float(input(\"Enter your weight in kilograms: \"))\n",
    "height = float(input(\"Enter your height in meters: \"))\n",
    "bmi = weight / (height ** 2)\n",
    "if bmi < 18.5:\n",
    "    print(f\"Your BMI is {bmi:.2f}. You are classified as Underweight.\")\n",
    "elif 18.5 <= bmi < 25:\n",
    "    print(f\"Your BMI is {bmi:.2f}. You are classified as Normal weight.\")\n",
    "elif 25 <= bmi < 30:\n",
    "    print(f\"Your BMI is {bmi:.2f}. You are classified as Overweight.\")\n",
    "else:\n",
    "    print(f\"Your BMI is {bmi:.2f}. You are classified as Obese.\")\n"
   ]
  },
  {
   "cell_type": "code",
   "execution_count": null,
   "id": "2a781299-90b1-4509-af97-3c8bfb352539",
   "metadata": {},
   "outputs": [],
   "source": [
    "#24. Create a program that determines whether a given number is positive, negative, or zero using elif statements.\n",
    "num = int(input(\"enter number\"))\n",
    "if num>0:\n",
    "    print(\"number is positive\")\n",
    "elif num <0:\n",
    "    print(\"number is negative\")\n",
    "else:\n",
    "    print(\"number is zero\")"
   ]
  },
  {
   "cell_type": "code",
   "execution_count": null,
   "id": "6b5cfa1a-a225-4042-ae1a-3de0ee081abc",
   "metadata": {},
   "outputs": [],
   "source": [
    "#25. Write a Python script to determine the type of a character (uppercase, lowercase, or special) using elif statements.\n",
    "char = input(\"Enter a single character: \")\n",
    "if char.isupper():\n",
    "    print(f\"The character '{char}' is an Uppercase letter.\")\n",
    "elif char.islower():\n",
    "    print(f\"The character '{char}' is a Lowercase letter.\")\n",
    "elif char.isdigit():\n",
    "    print(f\"The character '{char}' is a Digit.\")\n",
    "else:\n",
    "    print(f\"The character '{char}' is a Special character.\")\n"
   ]
  },
  {
   "cell_type": "code",
   "execution_count": null,
   "id": "92fb3088-e2c5-497e-abd7-9b8d0f24a107",
   "metadata": {},
   "outputs": [],
   "source": [
    "#26. Implement a program to calculate the discounted price based on different purchase amounts using elif statements.\n",
    "amount = float(input(\"Enter the purchase amount: \"))\n",
    "if amount > 1000:\n",
    "    discount = amount * 0.20\n",
    "    print(f\"You get a 20% discount of ${discount:.2f}!\")\n",
    "elif amount > 500:\n",
    "    discount = amount * 0.10\n",
    "    print(f\"You get a 10% discount of ${discount:.2f}!\")\n",
    "elif amount > 100:\n",
    "    discount = amount * 0.05\n",
    "    print(f\"You get a 5% discount of ${discount:.2f}!\")\n",
    "else:\n",
    "    discount = 0\n",
    "    print(\"No discount for purchases below $100.\")\n",
    "final_price = amount - discount\n",
    "print(f\"Your final price after discount is {final_price}\")\n"
   ]
  },
  {
   "cell_type": "code",
   "execution_count": null,
   "id": "ad7a6c21-6c57-4abf-a577-529c3df18198",
   "metadata": {},
   "outputs": [],
   "source": [
    "#27. Develop a program to calculate the electricity bill based on different consumption slabs using elif statements.\n",
    "units = float(input(\"Enter the number of units consumed: \"))\n",
    "if units <= 100:\n",
    "    bill = units * 0.50\n",
    "elif units <= 300:\n",
    "    bill = 100 * 0.50 + (units - 100) * 0.75\n",
    "elif units <= 600:\n",
    "    bill = 100 * 0.50 + 200 * 0.75 + (units - 300) * 1.20\n",
    "else:\n",
    "    bill = 100 * 0.50 + 200 * 0.75 + 300 * 1.20 + (units - 600) * 1.50\n",
    "bill += 20\n",
    "print(f\"Your electricity bill amount is ${bill:.2f}.\")\n",
    "\n"
   ]
  },
  {
   "cell_type": "code",
   "execution_count": null,
   "id": "242cf976-943f-4e30-b512-a142e3897fba",
   "metadata": {},
   "outputs": [],
   "source": [
    "#28. Create a program to determine the type of quadrilateral based on its angles and sides using elif statements.\n",
    "# Get input for the four sides and four angles\n",
    "sides = [float(input(f\"Enter length of side {i+1}: \")) for i in range(4)]\n",
    "angles = [float(input(f\"Enter measure of angle {i+1} (in degrees): \")) for i in range(4)]\n",
    "\n",
    "# Check the type of quadrilateral\n",
    "if all(s == sides[0] for s in sides) and all(a == 90 for a in angles):\n",
    "    print(\"The quadrilateral is a Square.\")\n",
    "elif (sides[0] == sides[2] and sides[1] == sides[3]) and all(a == 90 for a in angles):\n",
    "    print(\"The quadrilateral is a Rectangle.\")\n",
    "elif all(s == sides[0] for s in sides):\n",
    "    print(\"The quadrilateral is a Rhombus.\")\n",
    "elif (sides[0] == sides[2] and sides[1] == sides[3]) and (angles[0] == angles[2] and angles[1] == angles[3]):\n",
    "    print(\"The quadrilateral is a Parallelogram.\")\n",
    "elif (angles[0] + angles[2] == 180 and angles[1] + angles[3] != 180) or (angles[0] + angles[2] != 180 and angles[1] + angles[3] == 180):\n",
    "    print(\"The quadrilateral is a Trapezoid (or Trapezium).\")\n",
    "else:\n",
    "    print(\"The quadrilateral is a General Quadrilateral.\")\n"
   ]
  },
  {
   "cell_type": "code",
   "execution_count": null,
   "id": "354d1afa-6b20-4ed2-ad7e-e77cb3f65917",
   "metadata": {},
   "outputs": [],
   "source": [
    "#29. # Get the month from the user\n",
    "month = input(\"Enter the month (e.g., January, February, ...): \")\n",
    "month = month.lower()\n",
    "if month in [\"december\", \"january\", \"february\"]:\n",
    "    season = \"Winter\"\n",
    "elif month in [\"march\", \"april\", \"may\"]:\n",
    "    season = \"Spring\"\n",
    "elif month in [\"june\", \"july\", \"august\"]:\n",
    "    season = \"Summer\"\n",
    "elif month in [\"september\", \"october\", \"november\"]:\n",
    "    season = \"Fall\"\n",
    "else:\n",
    "    season = \"Invalid month provided\"\n",
    "\n",
    "print(f\"The season for {month.capitalize()} is {season}.\")\n",
    "\n"
   ]
  },
  {
   "cell_type": "code",
   "execution_count": null,
   "id": "c7f840b3-e7bd-41a8-ac64-c0d024c30da2",
   "metadata": {},
   "outputs": [],
   "source": [
    "#30. Implement a program to determine the type of a year (leap or common) and month (30 or 31 days) using elif statements.\n",
    "# Get the year and month from the user\n",
    "year = int(input(\"Enter the year (e.g., 2021): \"))\n",
    "month = input(\"Enter the month (e.g., January, February, ...): \")\n",
    "\n",
    "# Convert the month to lowercase for comparison\n",
    "month = month.lower()\n",
    "\n",
    "# Determine if the year is leap or common\n",
    "if (year % 4 == 0 and year % 100 != 0) or year % 400 == 0:\n",
    "    year_type = \"Leap\"\n",
    "    february_days = 29\n",
    "else:\n",
    "    year_type = \"Common\"\n",
    "    february_days = 28\n",
    "\n",
    "# Determine the number of days in the month\n",
    "if month in [\"april\", \"june\", \"september\", \"november\"]:\n",
    "    days = 30\n",
    "elif month == \"february\":\n",
    "    days = february_days\n",
    "elif month in [\"january\", \"march\", \"may\", \"july\", \"august\", \"october\", \"december\"]:\n",
    "    days = 31\n",
    "else:\n",
    "    days = \"Invalid month provided\"\n",
    "\n",
    "print(f\"The year {year} is a {year_type} year.\")\n",
    "print(f\"The month {month.capitalize()} has {days} days.\")\n"
   ]
  },
  {
   "cell_type": "code",
   "execution_count": null,
   "id": "a5985e52-1dc9-475c-94dd-7a56e0bf0643",
   "metadata": {},
   "outputs": [],
   "source": [
    "#Basic Level:"
   ]
  },
  {
   "cell_type": "code",
   "execution_count": null,
   "id": "a7600c82-8d26-4afa-afea-181b4507fe1b",
   "metadata": {},
   "outputs": [],
   "source": [
    "#1. Write a Python program that checks if a given number is positive, negative, or zero.\n",
    "num= int(input(\"enter the number\"))\n",
    "if num>0 :\n",
    "    print(\"number is positive\")\n",
    "    \n",
    "elif num<0 :\n",
    "    print(\"number is negative\")\n",
    "else :\n",
    "    print(\"number is Zero\")"
   ]
  },
  {
   "cell_type": "code",
   "execution_count": null,
   "id": "012925fe-237a-43ec-8e86-b5fba2c96ffa",
   "metadata": {},
   "outputs": [],
   "source": [
    "#2. Create a program to determine if a person is eligible to vote based on their age.\n",
    "age = int(input(\"enter your age\"))\n",
    "if age>=18 :\n",
    "    print(\"you are eligible to vote\")\n",
    "else :\n",
    "    print(\"you are not eligible to vote\")"
   ]
  },
  {
   "cell_type": "code",
   "execution_count": null,
   "id": "2f3c4674-9942-4647-9e0e-84d3ed162816",
   "metadata": {},
   "outputs": [],
   "source": [
    "#3. Write a program to find the maximum of two given numbers using conditional statements.\n",
    "num1,num2 = 101,11\n",
    "if num1>num2 :\n",
    "    print(\"highest number is \",num1)\n",
    "else :\n",
    "    print(\"highest number is \",num2)"
   ]
  },
  {
   "cell_type": "code",
   "execution_count": null,
   "id": "f946cb42-8ba5-439f-a8c2-5ad3b43db9bf",
   "metadata": {},
   "outputs": [],
   "source": [
    "#4. Develop a program that calculates the grade of a student based on their exam score.\n",
    "score = float(input(\"Enter the student's score (0-100): \"))\n",
    "if score >= 90:\n",
    "    grade = 'A'\n",
    "elif score >= 80:\n",
    "    grade = 'B'\n",
    "elif score >= 70:\n",
    "    grade = 'C'\n",
    "elif score >= 60:\n",
    "    grade = 'D'\n",
    "else:\n",
    "    grade = 'F'\n",
    "print(f\"The student's grade is: {grade}\")\n"
   ]
  },
  {
   "cell_type": "code",
   "execution_count": null,
   "id": "331b77c4-bf3e-4358-91e9-2db6ab848b81",
   "metadata": {},
   "outputs": [],
   "source": [
    "#5. Create a program that checks if a year is a leap year or not.\n",
    "year = int(input(\"enter year to check leap year\"))\n",
    "\n",
    "if (year%4 == 0 and year %100 !=0 ) or (year %400 == 0):\n",
    "    print(f\"{year} is a leap year\")\n",
    "    \n",
    "else:\n",
    "    print(f\"{year} is not a leap year\")\n"
   ]
  },
  {
   "cell_type": "code",
   "execution_count": null,
   "id": "36b29793-31d8-49a4-b611-3841f34d3098",
   "metadata": {},
   "outputs": [],
   "source": [
    "#6. Write a program to classify a triangle based on its sides' lengths.\n",
    "side1 = float(input(\"Enter the length of the first side: \"))\n",
    "side2 = float(input(\"Enter the length of the second side: \"))\n",
    "side3 = float(input(\"Enter the length of the third side: \"))\n",
    "if side1 == side2 == side3:\n",
    "    print(\"The triangle is Equilateral.\")\n",
    "elif side1 == side2 or side1 == side3 or side2 == side3:\n",
    "    print(\"The triangle is Isosceles.\")\n",
    "else:\n",
    "    print(\"The triangle is Scalene.\")"
   ]
  },
  {
   "cell_type": "code",
   "execution_count": null,
   "id": "d6427b22-5a3e-44cc-84ad-4ffc8689ffb1",
   "metadata": {},
   "outputs": [],
   "source": [
    "#7. Build a program that determines the largest of three given numbers.\n",
    "num1 = float(input(\"Enter the first number: \"))\n",
    "num2 = float(input(\"Enter the second number: \"))\n",
    "num3 = float(input(\"Enter the third number: \"))\n",
    "if num1 >= num2 and num1 >= num3:\n",
    "    largest = num1\n",
    "elif num2 >= num1 and num2 >= num3:\n",
    "    largest = num2\n",
    "else:\n",
    "    largest = num3\n",
    "print(f\"The largest number is {largest}\")"
   ]
  },
  {
   "cell_type": "code",
   "execution_count": null,
   "id": "f865f6ab-a2fa-4e1f-ba5f-2b18ea518ae0",
   "metadata": {},
   "outputs": [],
   "source": [
    "#8. Develop a program that checks whether a character is a vowel or a consonant.\n",
    "char = \"b\"\n",
    "if char in \"aeiou\":\n",
    "    print(char,\" is a vowel\")\n",
    "if char not in \"aeiou\":\n",
    "    print(char,\" is a consonant\")"
   ]
  },
  {
   "cell_type": "code",
   "execution_count": null,
   "id": "136bc8f4-6835-4b7c-9952-a2dc8df1c2c8",
   "metadata": {},
   "outputs": [],
   "source": [
    "#9. Create a program to calculate the total cost of a shopping cart based on discounts.\n",
    "amount = float(input(\"Enter the purchase amount: \"))\n",
    "if amount > 1000:\n",
    "    discount = amount * 0.20\n",
    "    print(f\"You get a 20% discount of ${discount:.2f}!\")\n",
    "elif amount > 500:\n",
    "    discount = amount * 0.10\n",
    "    print(f\"You get a 10% discount of ${discount:.2f}!\")\n",
    "elif amount > 100:\n",
    "    discount = amount * 0.05\n",
    "    print(f\"You get a 5% discount of ${discount:.2f}!\")\n",
    "else:\n",
    "    discount = 0\n",
    "    print(\"No discount for purchases below $100.\")\n",
    "final_price = amount - discount\n",
    "print(f\"Your final price after discount is {final_price}\")"
   ]
  },
  {
   "cell_type": "code",
   "execution_count": null,
   "id": "ad2cdfa7-50bf-4091-bb5e-7af8426f4cb8",
   "metadata": {},
   "outputs": [],
   "source": [
    "#10. Write a program that checks if a given number is even or odd.\n",
    "num = int(input(\"enter number to check odd or even\"))\n",
    "if num%2 == 0 :\n",
    "    print(f\"{num} is an even number\")\n",
    "elif num%2 != 0 :\n",
    "    print(f\"{num} is an odd number\")\n",
    "else:\n",
    "    print(\"invalid input\")"
   ]
  },
  {
   "cell_type": "code",
   "execution_count": null,
   "id": "7d25276c-248f-47de-accd-232fe59d7c65",
   "metadata": {},
   "outputs": [],
   "source": [
    "#Intermediate Level:\n"
   ]
  },
  {
   "cell_type": "code",
   "execution_count": null,
   "id": "c956440a-2152-4118-8deb-0c29b624963f",
   "metadata": {},
   "outputs": [],
   "source": [
    "#11. Write a program that calculates the roots of a quadratic equation \n",
    "a = float(input(\"Enter the coefficient a: \"))\n",
    "b = float(input(\"Enter the coefficient b: \"))\n",
    "c = float(input(\"Enter the coefficient c: \"))\n",
    "discriminant = b**2 - 4*a*c\n",
    "\n",
    "# Determine the nature of the roots and calculate them\n",
    "if discriminant > 0:\n",
    "    root1 = (-b + discriminant**0.5) / (2*a)\n",
    "    root2 = (-b - discriminant**0.5) / (2*a)\n",
    "    print(f\"Two distinct real roots: {root1} and {root2}\")\n",
    "\n",
    "elif discriminant == 0:\n",
    "    root = -b / (2*a)\n",
    "    print(f\"One real root: {root}\")\n",
    "\n",
    "else:\n",
    "    print(\"The roots are complex (not real).\")\n"
   ]
  },
  {
   "cell_type": "code",
   "execution_count": null,
   "id": "ee4fdd8a-41fa-4396-8a41-a5f9a2b04777",
   "metadata": {},
   "outputs": [],
   "source": [
    "#12. Create a program that determines the day of the week based on the day number (1-7).\n",
    "day_num = int(input(\"Enter a number between 1 and 7 (1 for Monday, 2 for Tuesday, etc.): \"))\n",
    "if day_num == 1:\n",
    "    print(\"Monday\")\n",
    "elif day_num == 2:\n",
    "    print(\"Tuesday\")\n",
    "elif day_num == 3:\n",
    "    print(\"Wednesday\")\n",
    "elif day_num == 4:\n",
    "    print(\"Thursday\")\n",
    "elif day_num == 5:\n",
    "    print(\"Friday\")\n",
    "elif day_num == 6:\n",
    "    print(\"Saturday\")\n",
    "elif day_num == 7:\n",
    "    print(\"Sunday\")\n",
    "else:\n",
    "    print(\"Invalid number! Please enter a number between 1 and 7.\")"
   ]
  },
  {
   "cell_type": "code",
   "execution_count": null,
   "id": "cde50598-ac43-4c41-ad36-f7e09c7a340e",
   "metadata": {},
   "outputs": [],
   "source": [
    "#13. Develop a program that calculates the factorial of a given number using recursion.\n",
    "def factorial(n):\n",
    "    if n == 0 or n == 1:\n",
    "        return 1\n",
    "    else:\n",
    "        return n * factorial(n-1)\n",
    "\n",
    "num = int(input(\"Enter a number to calculate its factorial: \"))\n",
    "result = factorial(num)\n",
    "print(f\"The factorial of {num} is {result}.\")\n"
   ]
  },
  {
   "cell_type": "code",
   "execution_count": null,
   "id": "89bd6ebf-bfb1-4969-b3f3-bdc89ffd8875",
   "metadata": {},
   "outputs": [],
   "source": [
    "#14. Write a program to find the largest among three numbers without using the `max()` function.\n",
    "num1 = float(input(\"Enter the first number: \"))\n",
    "num2 = float(input(\"Enter the second number: \"))\n",
    "num3 = float(input(\"Enter the third number: \"))\n",
    "if num1 >= num2 and num1 >= num3:\n",
    "    largest = num1\n",
    "elif num2 >= num1 and num2 >= num3:\n",
    "    largest = num2\n",
    "else:\n",
    "    largest = num3\n",
    "print(f\"The largest number is {largest}\")"
   ]
  },
  {
   "cell_type": "code",
   "execution_count": null,
   "id": "2169003e-d5c8-42dd-a1de-902fc47ba5e9",
   "metadata": {},
   "outputs": [],
   "source": [
    "#15. Create a program that simulates a basic ATM transaction menu.\n",
    "balance = 100  # Initial balance\n",
    "\n",
    "while True:\n",
    "    print(\"\\nATM Transaction Menu:\")\n",
    "    print(\"1. Check Balance\")\n",
    "    print(\"2. Deposit Money\")\n",
    "    print(\"3. Withdraw Money\")\n",
    "    print(\"4. Exit\")\n",
    "    \n",
    "    choice = input(\"Choose a transaction (1/2/3/4): \")\n",
    "\n",
    "    if choice == \"1\":\n",
    "        print(f\"Your current balance is: ${balance:.2f}\")\n",
    "    elif choice == \"2\":\n",
    "        amount = float(input(\"Enter the amount to deposit: \"))\n",
    "        balance += amount\n",
    "        print(f\"You deposited ${amount:.2f}.\")\n",
    "    elif choice == \"3\":\n",
    "        amount = float(input(\"Enter the amount to withdraw: \"))\n",
    "        if amount > balance:\n",
    "            print(\"Insufficient funds!\")\n",
    "        else:\n",
    "            balance -= amount\n",
    "            print(f\"You withdrew ${amount:.2f}.\")\n",
    "    elif choice == \"4\":\n",
    "        print(\"Thank you for using the ATM. Have a nice day!\")\n",
    "        break\n",
    "    else:\n",
    "        print(\"Invalid choice. Please select a valid transaction.\")\n"
   ]
  },
  {
   "cell_type": "code",
   "execution_count": null,
   "id": "a3cb0b23-29ea-4de2-a536-9ac6948ee9dd",
   "metadata": {},
   "outputs": [],
   "source": [
    "#16. Build a program that checks if a given string is a palindrome or not.\n",
    "istr = input(\"enter the string to check palindrome\")\n",
    "if istr == istr[::-1]:\n",
    "    print(\"string is palindrome\")\n",
    "    \n",
    "else: \n",
    "    print(\"string is not palindrome\")"
   ]
  },
  {
   "cell_type": "code",
   "execution_count": null,
   "id": "a1e2f6fc-28e8-4983-9188-d8066668fbfe",
   "metadata": {},
   "outputs": [],
   "source": [
    "#17. Write a program that calculates the average of a list of numbers, excluding the smallest and largest values.\n",
    "numbers = [12, 7, 5, 22, 17, 13, 8]\n",
    "if len(numbers) <= 2:\n",
    "    print(\"The list doesn't have enough numbers to calculate the average excluding the smallest and largest values.\")\n",
    "else:\n",
    "    sorted_numbers = sorted(numbers)\n",
    "    sorted_numbers = sorted_numbers[1:-1]\n",
    "    average = sum(sorted_numbers) / len(sorted_numbers)\n",
    "    print(f\"The average excluding the smallest and largest values is: {average:.2f}\")\n"
   ]
  },
  {
   "cell_type": "code",
   "execution_count": null,
   "id": "5e3f0e11-18f1-498c-998b-6448b35b0f66",
   "metadata": {},
   "outputs": [],
   "source": [
    "#18. Develop a program that converts a given temperature from Celsius to Fahrenheit.\n",
    "ftemp = 158.0\n",
    "ctemp= (ftemp - 32) * 5/9\n",
    "   \n",
    "print(\"Fahrenheit Temperatures:\", ftemp)\n",
    "print(\"Celsius Temperatures:\", ctemp)"
   ]
  },
  {
   "cell_type": "code",
   "execution_count": null,
   "id": "5fc274d4-a819-4fc5-8c02-e7731a570521",
   "metadata": {},
   "outputs": [],
   "source": [
    "#19. Create a program that simulates a basic calculator for addition, subtraction, multiplication, and division.\n",
    "print(\"Basic Calculator:\")\n",
    "print(\"1. Addition\")\n",
    "print(\"2. Subtraction\")\n",
    "print(\"3. Multiplication\")\n",
    "print(\"4. Division\")\n",
    "choice = input(\"Choose an operation (1/2/3/4): \")\n",
    "num1 = float(input(\"Enter the first number: \"))\n",
    "num2 = float(input(\"Enter the second number: \"))\n",
    "if choice == \"1\":\n",
    "    result = num1 + num2\n",
    "    print(f\"The result of {num1} + {num2} is {result}\")\n",
    "elif choice == \"2\":\n",
    "    result = num1 - num2\n",
    "    print(f\"The result of {num1} - {num2} is {result}\")\n",
    "elif choice == \"3\":\n",
    "    result = num1 * num2\n",
    "    print(f\"The result of {num1} x {num2} is {result}\")\n",
    "elif choice == \"4\":\n",
    "    if num2 == 0:\n",
    "        print(\"Error: Division by zero is not allowed!\")\n",
    "    else:\n",
    "        result = num1 / num2\n",
    "        print(f\"The result of {num1} / {num2} is {result:.2f}\")\n",
    "else:\n",
    "    print(\"Invalid choice. Please select a valid operation.\")\n"
   ]
  },
  {
   "cell_type": "code",
   "execution_count": null,
   "id": "81a63c1f-9713-48db-9bb6-ef2c4f644811",
   "metadata": {},
   "outputs": [],
   "source": [
    "#20. Write a program that determines the roots of a cubic equation using the Cardano formula.\n",
    "def cube_root(x):\n",
    "    if x >= 0:\n",
    "        return x**(1/3)\n",
    "    else:\n",
    "        return -(-x)**(1/3)\n",
    "\n",
    "# Get the coefficients from the user\n",
    "a = float(input(\"Enter coefficient a: \"))\n",
    "b = float(input(\"Enter coefficient b: \"))\n",
    "c = float(input(\"Enter coefficient c: \"))\n",
    "d = float(input(\"Enter coefficient d: \"))\n",
    "\n",
    "# Calculate p and q for the depressed cubic equation\n",
    "p = (3*a*c - b**2) / (3*a**2)\n",
    "q = (2*b**3 - 9*a*b*c + 27*a**2*d) / (27*a**3)\n",
    "\n",
    "# Calculate discriminant\n",
    "D = (q/2)**2 + (p/3)**3\n",
    "\n",
    "if D < 0:\n",
    "    print(\"This equation has complex roots, which can't be computed without cmath.\")\n",
    "else:\n",
    "    # Cardano formula for depressed cubic equation\n",
    "    t1 = cube_root(-q/2 + D**0.5) + cube_root(-q/2 - D**0.5)\n",
    "\n",
    "    # Transform back to original equation\n",
    "    x1 = t1 - b / (3*a)\n",
    "    print(f\"Root: x1 = {x1}\")\n",
    "\n",
    "    # In cases where D > 0, there are two additional real roots, but those require complex arithmetic.\n",
    "    # Since we're not using cmath, they are not computed in this code.\n"
   ]
  },
  {
   "cell_type": "code",
   "execution_count": null,
   "id": "9aeb868a-18be-46fe-85f6-f5982d021485",
   "metadata": {},
   "outputs": [],
   "source": [
    "#Advanced Level:"
   ]
  },
  {
   "cell_type": "code",
   "execution_count": null,
   "id": "fd4a2f5e-83a0-4fd3-8aa3-a56bab633fbc",
   "metadata": {},
   "outputs": [],
   "source": [
    "#21. Create a program that calculates the income tax based on the user's income and tax brackets.\n",
    "# Get the user's income\n",
    "income = float(input(\"Enter your income (in ₹): \"))\n",
    "\n",
    "# Calculate income tax based on the given tax brackets\n",
    "if income <= 250000:\n",
    "    tax = 0\n",
    "elif income <= 500000:\n",
    "    tax = 0.05 * (income - 250000)\n",
    "elif income <= 1000000:\n",
    "    tax = 12500 + 0.20 * (income - 500000)\n",
    "else:\n",
    "    tax = 112500 + 0.30 * (income - 1000000)\n",
    "\n",
    "print(f\"Based on an income of ₹{income:.2f}, your estimated income tax is ₹{tax:.2f}.\")\n"
   ]
  },
  {
   "cell_type": "code",
   "execution_count": 14,
   "id": "226741da-47ca-4259-9979-3a250310f1d3",
   "metadata": {},
   "outputs": [
    {
     "name": "stdin",
     "output_type": "stream",
     "text": [
      "Enter your move (rock, paper, scissors) or 'exit' to quit:  rock\n"
     ]
    },
    {
     "name": "stdout",
     "output_type": "stream",
     "text": [
      "Computer chose: rock\n",
      "It's a draw!\n"
     ]
    },
    {
     "name": "stdin",
     "output_type": "stream",
     "text": [
      "Enter your move (rock, paper, scissors) or 'exit' to quit:  rock\n"
     ]
    },
    {
     "name": "stdout",
     "output_type": "stream",
     "text": [
      "Computer chose: paper\n",
      "Computer wins!\n"
     ]
    },
    {
     "name": "stdin",
     "output_type": "stream",
     "text": [
      "Enter your move (rock, paper, scissors) or 'exit' to quit:  rock\n"
     ]
    },
    {
     "name": "stdout",
     "output_type": "stream",
     "text": [
      "Computer chose: scissors\n",
      "You win!\n"
     ]
    },
    {
     "name": "stdin",
     "output_type": "stream",
     "text": [
      "Enter your move (rock, paper, scissors) or 'exit' to quit:  rock\n"
     ]
    },
    {
     "name": "stdout",
     "output_type": "stream",
     "text": [
      "Computer chose: rock\n",
      "It's a draw!\n"
     ]
    },
    {
     "name": "stdin",
     "output_type": "stream",
     "text": [
      "Enter your move (rock, paper, scissors) or 'exit' to quit:  exit\n"
     ]
    }
   ],
   "source": [
    "#22. Write a program that simulates a rock-paper-scissors game against the computer.\n",
    "choices = ['rock', 'paper', 'scissors']\n",
    "computer_move_index = 0\n",
    "\n",
    "while True:\n",
    "    user_choice = input(\"Enter your move (rock, paper, scissors) or 'exit' to quit: \").lower()\n",
    "    \n",
    "    if user_choice == 'exit':\n",
    "        break\n",
    "\n",
    "    if user_choice not in choices:\n",
    "        print(\"Invalid choice. Please select rock, paper, or scissors.\")\n",
    "        continue\n",
    "\n",
    "    comp_choice = choices[computer_move_index]\n",
    "    computer_move_index = (computer_move_index + 1) % 3\n",
    "    print(f\"Computer chose: {comp_choice}\")\n",
    "\n",
    "    if user_choice == comp_choice:\n",
    "        print(\"It's a draw!\")\n",
    "    elif (user_choice == 'rock' and comp_choice == 'scissors') or \\\n",
    "         (user_choice == 'scissors' and comp_choice == 'paper') or \\\n",
    "         (user_choice == 'paper' and comp_choice == 'rock'):\n",
    "        print(\"You win!\")\n",
    "    else:\n",
    "        print(\"Computer wins!\")\n"
   ]
  },
  {
   "cell_type": "code",
   "execution_count": 16,
   "id": "2d0765ea-8ade-49df-9a7c-9f4ed827c5c4",
   "metadata": {},
   "outputs": [
    {
     "name": "stdin",
     "output_type": "stream",
     "text": [
      "Enter password length:  5\n",
      "Use digits? (yes/no):  yes\n",
      "Use special characters? (yes/no):  yes\n",
      "Press ENTER to generate password. \n"
     ]
    },
    {
     "name": "stdout",
     "output_type": "stream",
     "text": [
      "Generated Password: alyN4\n"
     ]
    }
   ],
   "source": [
    "#23. Develop a program that generates a random password based on user preferences (length, complexity).\n",
    "# Characters for password generation\n",
    "letters = 'abcdefghijklmnopqrstuvwxyz'\n",
    "digits = '0123456789'\n",
    "special_characters = '!@#$%^&*()_+-=[]{}|;:,.<>?'\n",
    "\n",
    "# Asking for user preferences\n",
    "password_length = int(input(\"Enter password length: \"))\n",
    "use_digits = input(\"Use digits? (yes/no): \").lower() == 'yes'\n",
    "use_special_characters = input(\"Use special characters? (yes/no): \").lower() == 'yes'\n",
    "\n",
    "# Building the character set based on user preferences\n",
    "character_set = letters + letters.upper()\n",
    "if use_digits:\n",
    "    character_set += digits\n",
    "if use_special_characters:\n",
    "    character_set += special_characters\n",
    "\n",
    "# Pseudo-random password generation using time\n",
    "password = ''\n",
    "input(\"Press ENTER to generate password.\")\n",
    "for i in range(password_length):\n",
    "    index = (ord(character_set[i % len(character_set)]) * len(password) + i) % len(character_set)\n",
    "    password += character_set[index % len(character_set)]\n",
    "\n",
    "print(f\"Generated Password: {password}\")\n"
   ]
  },
  {
   "cell_type": "code",
   "execution_count": 19,
   "id": "41a44724-3d21-44f1-91b5-906f34488e6a",
   "metadata": {},
   "outputs": [
    {
     "name": "stdout",
     "output_type": "stream",
     "text": [
      "Welcome to the Simple Adventure Game!\n",
      "You are standing at the entrance of a dark forest.\n",
      "To enter the forest, type 'forest'.\n"
     ]
    },
    {
     "name": "stdin",
     "output_type": "stream",
     "text": [
      "What will you choose?  tyu\n"
     ]
    },
    {
     "name": "stdout",
     "output_type": "stream",
     "text": [
      "\n",
      "Invalid choice. Game Over.\n"
     ]
    }
   ],
   "source": [
    "#24. Create a program that implements a simple text-based adventure game with branching scenarios.\n",
    "print(\"Welcome to the Simple Adventure Game!\")\n",
    "print(\"You are standing at the entrance of a dark forest.\")\n",
    "print(\"To enter the forest, type 'forest'.\")\n",
    "\n",
    "choice1 = input(\"What will you choose? \")\n",
    "\n",
    "if choice1 == \"forest\":\n",
    "    print(\"\\nYou bravely enter the dark forest.\")\n",
    "    print(\"After a while, you stumble upon a mysterious old hut. Do you enter the hut or continue walking?\")\n",
    "    print(\"Type 'enter' to go inside the hut or 'continue' to keep walking.\")\n",
    "\n",
    "    choice2 = input(\"Your choice: \")\n",
    "\n",
    "    if choice2 == \"enter\":\n",
    "        print(\"\\nInside the hut, you find a treasure chest filled with gold! Congratulations, you win!\")\n",
    "    elif choice2 == \"continue\":\n",
    "        print(\"\\nYou continue your journey in the forest and eventually find your way out. Adventure completed!\")\n",
    "\n",
    "    else:\n",
    "        print(\"\\nInvalid choice. Game Over.\")\n",
    "else:\n",
    "        print(\"\\nInvalid choice. Game Over.\")"
   ]
  },
  {
   "cell_type": "code",
   "execution_count": 21,
   "id": "9af26549-9ab5-425e-836f-75879ac50692",
   "metadata": {},
   "outputs": [
    {
     "name": "stdout",
     "output_type": "stream",
     "text": [
      "Welcome to the Linear Equation Solver!\n",
      "Given an equation in the form ax + b = c\n"
     ]
    },
    {
     "name": "stdin",
     "output_type": "stream",
     "text": [
      "Enter the value of a:  2\n",
      "Enter the value of b:  3\n",
      "Enter the value of c:  4\n"
     ]
    },
    {
     "name": "stdout",
     "output_type": "stream",
     "text": [
      "The solution for x is: 0.5\n"
     ]
    }
   ],
   "source": [
    "#25. Build a program that solves a linear equation for x, considering different cases.\n",
    "'''\n",
    "However, there are different cases:\n",
    "1. If \\( a = 0 \\) and \\( b \\neq c \\), then the equation has no solution because it translates to a statement like \"0 = 1\".\n",
    "2. If \\( a = 0 \\) and \\( b = c \\), then any value of \\( x \\) satisfies the equation, meaning it's an identity like \"0 = 0\".\n",
    "3. If \\( a \\neq 0 \\), then \\( x \\) has a unique solution.\n",
    "\n",
    "'''\n",
    "print(\"Welcome to the Linear Equation Solver!\")\n",
    "print(\"Given an equation in the form ax + b = c\")\n",
    "\n",
    "# Input coefficients from the user\n",
    "a = float(input(\"Enter the value of a: \"))\n",
    "b = float(input(\"Enter the value of b: \"))\n",
    "c = float(input(\"Enter the value of c: \"))\n",
    "\n",
    "# Case when a is 0\n",
    "if a == 0:\n",
    "    if b == c:\n",
    "        print(\"The equation is true for all values of x.\")\n",
    "    else:\n",
    "        print(\"The equation has no solution.\")\n",
    "else:\n",
    "    # Calculate the value of x\n",
    "    x = (c - b) / a\n",
    "    print(f\"The solution for x is: {x}\")\n"
   ]
  },
  {
   "cell_type": "code",
   "execution_count": 27,
   "id": "1f0b1261-f9c5-4f05-931f-7e70226d6756",
   "metadata": {},
   "outputs": [
    {
     "name": "stdout",
     "output_type": "stream",
     "text": [
      "Welcome to the Quiz Game!\n"
     ]
    },
    {
     "name": "stdin",
     "output_type": "stream",
     "text": [
      "\n",
      "Which planet is known as the Red Planet? /n 1.ja, 2,dd,3.Mars   mars\n"
     ]
    },
    {
     "name": "stdout",
     "output_type": "stream",
     "text": [
      "corrent answer, you get 1 point\n"
     ]
    },
    {
     "name": "stdin",
     "output_type": "stream",
     "text": [
      "\n",
      "Which of these is not a programming language?/n 1.ja, 2,dd,3.HTML  html\n"
     ]
    },
    {
     "name": "stdout",
     "output_type": "stream",
     "text": [
      "corrent answer, you get 1 point\n"
     ]
    },
    {
     "name": "stdin",
     "output_type": "stream",
     "text": [
      "\n",
      "Which animal is known as the King of the Jungle? /n 1.ja, 2,dd,3.Lion  lion\n"
     ]
    },
    {
     "name": "stdout",
     "output_type": "stream",
     "text": [
      "corrent answer, you get 1 point\n",
      "\n",
      "Your final score is: 3/3\n"
     ]
    }
   ],
   "source": [
    "#26. Write a program that simulates a basic quiz game with multiple-choice questions and scoring.\n",
    "print(\"Welcome to the Quiz Game!\")\n",
    "\n",
    "questions = {\n",
    "    \"Which planet is known as the Red Planet? /n 1.ja, 2,dd,3.Mars \": \"mars\",\n",
    "    \"Which of these is not a programming language?/n 1.ja, 2,dd,3.HTML\": \"html\",\n",
    "    \"Which animal is known as the King of the Jungle? /n 1.ja, 2,dd,3.Lion\": \"lion\"\n",
    "}\n",
    "\n",
    "score = 0\n",
    "\n",
    "for q, a in questions.items():\n",
    "    if input(f\"\\n{q} \") == a:\n",
    "        score += 1\n",
    "        print(f\"corrent answer, you get 1 point\")\n",
    "    else:\n",
    "        print(f\"incorrent answer, you get 0 point\")\n",
    "\n",
    "print(f\"\\nYour final score is: {score}/{len(questions)}\")\n"
   ]
  },
  {
   "cell_type": "code",
   "execution_count": 28,
   "id": "b4b53c68-b5e6-4845-a292-09ef03dde200",
   "metadata": {},
   "outputs": [
    {
     "name": "stdin",
     "output_type": "stream",
     "text": [
      "Enter the year:  2\n"
     ]
    },
    {
     "name": "stdout",
     "output_type": "stream",
     "text": [
      "2 is a prime number.\n"
     ]
    }
   ],
   "source": [
    "#27. Develop a program that determines whether a given year is a prime number or not.\n",
    "year = int(input(\"Enter the year: \"))\n",
    "if year < 2:\n",
    "    print(f\"{year} is not a prime number.\")\n",
    "else:\n",
    "    is_prime = True\n",
    "    for i in range(2, year):\n",
    "        if year % i == 0:\n",
    "            is_prime = False\n",
    "            break\n",
    "    if is_prime:\n",
    "        print(f\"{year} is a prime number.\")\n",
    "    else:\n",
    "        print(f\"{year} is not a prime number.\")\n"
   ]
  },
  {
   "cell_type": "code",
   "execution_count": 29,
   "id": "da93ab81-c4b1-49d0-b9f2-8b9aa2f41cb9",
   "metadata": {},
   "outputs": [
    {
     "name": "stdin",
     "output_type": "stream",
     "text": [
      "Enter the first number:  2\n",
      "Enter the second number:  8\n",
      "Enter the third number:  10\n"
     ]
    },
    {
     "name": "stdout",
     "output_type": "stream",
     "text": [
      "The numbers in ascending order are: 2.0, 8.0, 10.0\n"
     ]
    }
   ],
   "source": [
    "#28. # Input three numbers from the user\n",
    "a = float(input(\"Enter the first number: \"))\n",
    "b = float(input(\"Enter the second number: \"))\n",
    "c = float(input(\"Enter the third number: \"))\n",
    "\n",
    "if a > b:\n",
    "    a, b = b, a\n",
    "if b > c:\n",
    "    b, c = c, b\n",
    "if a > b:\n",
    "    a, b = b, a\n",
    "\n",
    "print(f\"The numbers in ascending order are: {a}, {b}, {c}\")\n"
   ]
  },
  {
   "cell_type": "code",
   "execution_count": 30,
   "id": "af99fe7a-b7cd-430e-bfd8-c64bd29e420f",
   "metadata": {},
   "outputs": [
    {
     "name": "stdin",
     "output_type": "stream",
     "text": [
      "Enter coefficient a:  3\n",
      "Enter coefficient b:  3\n",
      "Enter coefficient c:  3\n",
      "Enter coefficient d:  3\n",
      "Enter coefficient e:  3\n",
      "Enter initial guess for the root:  3\n"
     ]
    },
    {
     "name": "stdout",
     "output_type": "stream",
     "text": [
      "Newton-Raphson method did not converge.\n"
     ]
    }
   ],
   "source": [
    "#29. Build a program that determines the roots of a quartic equation using numerical methods.\n",
    "# Coefficients for the quartic equation ax^4 + bx^3 + cx^2 + dx + e = 0\n",
    "a = float(input(\"Enter coefficient a: \"))\n",
    "b = float(input(\"Enter coefficient b: \"))\n",
    "c = float(input(\"Enter coefficient c: \"))\n",
    "d = float(input(\"Enter coefficient d: \"))\n",
    "e = float(input(\"Enter coefficient e: \"))\n",
    "\n",
    "# Initial guess\n",
    "x0 = float(input(\"Enter initial guess for the root: \"))\n",
    "tolerance = 1e-6\n",
    "max_iterations = 1000\n",
    "iteration = 0\n",
    "\n",
    "while iteration < max_iterations:\n",
    "    # Evaluate the polynomial at x0\n",
    "    f_x0 = a*(x0**4) + b*(x0**3) + c*(x0**2) + d*x0 + e\n",
    "    \n",
    "    # Evaluate the derivative of the polynomial at x0\n",
    "    df_x0 = 4*a*(x0**3) + 3*b*(x0**2) + 2*c*x0 + d\n",
    "\n",
    "    if abs(df_x0) < tolerance:\n",
    "        print(\"Derivative is too small. Try a different initial guess.\")\n",
    "        break\n",
    "\n",
    "    # Newton-Raphson update\n",
    "    x1 = x0 - f_x0/df_x0\n",
    "    \n",
    "    # Check for convergence\n",
    "    if abs(x1 - x0) < tolerance:\n",
    "        print(f\"Found a root after {iteration} iterations: {x1}\")\n",
    "        break\n",
    "\n",
    "    x0 = x1\n",
    "    iteration += 1\n",
    "else:\n",
    "    print(\"Newton-Raphson method did not converge.\")\n"
   ]
  },
  {
   "cell_type": "code",
   "execution_count": 31,
   "id": "c2f12d8f-707d-4f6f-af19-9f1b275b10ab",
   "metadata": {},
   "outputs": [
    {
     "name": "stdin",
     "output_type": "stream",
     "text": [
      "Enter your weight in kilograms (kg):  130\n",
      "Enter your height in meters (m):  1.7\n"
     ]
    },
    {
     "name": "stdout",
     "output_type": "stream",
     "text": [
      "Your BMI is: 44.98\n",
      "You are in Obesity Class III. Please consult a doctor immediately for guidance.\n"
     ]
    }
   ],
   "source": [
    "#30. Write a program that calculates the BMI (Body Mass Index) and provides health recommendations based on the user's input.\n",
    "# Get weight and height from the user\n",
    "weight = float(input(\"Enter your weight in kilograms (kg): \"))\n",
    "height = float(input(\"Enter your height in meters (m): \"))\n",
    "\n",
    "# Calculate BMI\n",
    "bmi = weight / (height ** 2)\n",
    "\n",
    "# Display the calculated BMI\n",
    "print(f\"Your BMI is: {bmi:.2f}\")\n",
    "\n",
    "# Provide health recommendations based on BMI\n",
    "if bmi < 16:\n",
    "    print(\"You are severely underweight. Please consult a doctor.\")\n",
    "elif 16 <= bmi < 16.9:\n",
    "    print(\"You are underweight. Consider consulting a healthcare professional for guidance.\")\n",
    "elif 17 <= bmi < 18.4:\n",
    "    print(\"You are mildly underweight. Maintain a balanced diet and regular exercise.\")\n",
    "elif 18.5 <= bmi <= 24.9:\n",
    "    print(\"You have a healthy weight. Continue maintaining a balanced diet and regular exercise.\")\n",
    "elif 25 <= bmi <= 29.9:\n",
    "    print(\"You are overweight. Engage in regular physical activity and monitor your diet.\")\n",
    "elif 30 <= bmi <= 34.9:\n",
    "    print(\"You are in Obesity Class I. Consider consulting a healthcare professional.\")\n",
    "elif 35 <= bmi <= 39.9:\n",
    "    print(\"You are in Obesity Class II. It's important to consult a healthcare professional.\")\n",
    "else:\n",
    "    print(\"You are in Obesity Class III. Please consult a doctor immediately for guidance.\")\n"
   ]
  },
  {
   "cell_type": "code",
   "execution_count": null,
   "id": "e8e4e80d-914e-4613-a825-f380a7289a46",
   "metadata": {},
   "outputs": [],
   "source": [
    "#Challenge Level:\n"
   ]
  },
  {
   "cell_type": "code",
   "execution_count": 6,
   "id": "9fce4051-fe90-44e6-a333-5f7ba097091d",
   "metadata": {},
   "outputs": [
    {
     "name": "stdin",
     "output_type": "stream",
     "text": [
      "Enter your password:  12345Ww@\n"
     ]
    },
    {
     "name": "stdout",
     "output_type": "stream",
     "text": [
      "Password is valid.\n"
     ]
    }
   ],
   "source": [
    "#31. Create a program that validates a password based on complexity rules (length, characters, etc.).\n",
    "import string\n",
    "\n",
    "def validate_password(password):\n",
    "    if len(password) < 8:\n",
    "        return  \"Password should be at least 8 characters long.\"\n",
    "\n",
    "    if not any(char.isdigit() for char in password):\n",
    "        return  \"Password should contain at least one numerical digit.\"\n",
    "\n",
    "    if not any(char.isupper() for char in password):\n",
    "        return  \"Password should contain at least one uppercase letter.\"\n",
    "\n",
    "    if not any(char.islower() for char in password):\n",
    "        return  \"Password should contain at least one lowercase letter.\"\n",
    "\n",
    "    special_characters = string.punctuation\n",
    "    if not any(char in special_characters for char in password):\n",
    "        return  \"Password should contain at least one of the special characters like @, #, $, etc.\"\n",
    "\n",
    "    return  \"Password is valid.\"\n",
    "\n",
    "password = input(\"Enter your password: \")\n",
    "\n",
    "# Validate the password\n",
    "validation_message = validate_password(password)\n",
    "\n",
    "print(validation_message)\n"
   ]
  },
  {
   "cell_type": "code",
   "execution_count": 7,
   "id": "c0e21d4c-c8d1-476e-b47d-1b24d5ebfe94",
   "metadata": {},
   "outputs": [
    {
     "name": "stdin",
     "output_type": "stream",
     "text": [
      "Enter number of rows for matrices:  3\n",
      "Enter number of columns for matrices:  3\n"
     ]
    },
    {
     "name": "stdout",
     "output_type": "stream",
     "text": [
      "\n",
      "Enter elements for Matrix A:\n"
     ]
    },
    {
     "name": "stdin",
     "output_type": "stream",
     "text": [
      "Enter element at position 1,1 for Matrix A:  1\n",
      "Enter element at position 1,2 for Matrix A:  2\n",
      "Enter element at position 1,3 for Matrix A:  3\n",
      "Enter element at position 2,1 for Matrix A:  1\n",
      "Enter element at position 2,2 for Matrix A:  2\n",
      "Enter element at position 2,3 for Matrix A:  3\n",
      "Enter element at position 3,1 for Matrix A:  1\n",
      "Enter element at position 3,2 for Matrix A:  2\n",
      "Enter element at position 3,3 for Matrix A:  3\n"
     ]
    },
    {
     "name": "stdout",
     "output_type": "stream",
     "text": [
      "\n",
      "Enter elements for Matrix B:\n"
     ]
    },
    {
     "name": "stdin",
     "output_type": "stream",
     "text": [
      "Enter element at position 1,1 for Matrix B:  2\n",
      "Enter element at position 1,2 for Matrix B:  3\n",
      "Enter element at position 1,3 for Matrix B:  4\n",
      "Enter element at position 2,1 for Matrix B:  3\n",
      "Enter element at position 2,2 for Matrix B:  4\n",
      "Enter element at position 2,3 for Matrix B:  5\n",
      "Enter element at position 3,1 for Matrix B:  4\n",
      "Enter element at position 3,2 for Matrix B:  5\n",
      "Enter element at position 3,3 for Matrix B:  6\n"
     ]
    },
    {
     "name": "stdout",
     "output_type": "stream",
     "text": [
      "\n",
      "Matrix A + Matrix B:\n",
      "3.0\t5.0\t7.0\t\n",
      "4.0\t6.0\t8.0\t\n",
      "5.0\t7.0\t9.0\t\n",
      "\n",
      "Matrix A - Matrix B:\n",
      "-1.0\t-1.0\t-1.0\t\n",
      "-2.0\t-2.0\t-2.0\t\n",
      "-3.0\t-3.0\t-3.0\t\n"
     ]
    }
   ],
   "source": [
    "#32. Develop a program that performs matrix addition and subtraction based on user input.\n",
    "# Get matrix dimensions from the user\n",
    "rows = int(input(\"Enter number of rows for matrices: \"))\n",
    "cols = int(input(\"Enter number of columns for matrices: \"))\n",
    "\n",
    "# Initialize matrices\n",
    "matrix_A = []\n",
    "matrix_B = []\n",
    "result_add = []\n",
    "result_sub = []\n",
    "\n",
    "# Input elements for Matrix A\n",
    "print(\"\\nEnter elements for Matrix A:\")\n",
    "for i in range(rows):\n",
    "    row_A = []\n",
    "    for j in range(cols):\n",
    "        row_A.append(float(input(f\"Enter element at position {i+1},{j+1} for Matrix A: \")))\n",
    "    matrix_A.append(row_A)\n",
    "\n",
    "# Input elements for Matrix B\n",
    "print(\"\\nEnter elements for Matrix B:\")\n",
    "for i in range(rows):\n",
    "    row_B = []\n",
    "    for j in range(cols):\n",
    "        row_B.append(float(input(f\"Enter element at position {i+1},{j+1} for Matrix B: \")))\n",
    "    matrix_B.append(row_B)\n",
    "\n",
    "# Perform matrix addition and subtraction\n",
    "for i in range(rows):\n",
    "    row_add = []\n",
    "    row_sub = []\n",
    "    for j in range(cols):\n",
    "        row_add.append(matrix_A[i][j] + matrix_B[i][j])\n",
    "        row_sub.append(matrix_A[i][j] - matrix_B[i][j])\n",
    "    result_add.append(row_add)\n",
    "    result_sub.append(row_sub)\n",
    "\n",
    "# Display results\n",
    "print(\"\\nMatrix A + Matrix B:\")\n",
    "for row in result_add:\n",
    "    for element in row:\n",
    "        print(element, end=\"\\t\")\n",
    "    print()\n",
    "\n",
    "print(\"\\nMatrix A - Matrix B:\")\n",
    "for row in result_sub:\n",
    "    for element in row:\n",
    "        print(element, end=\"\\t\")\n",
    "    print()\n"
   ]
  },
  {
   "cell_type": "code",
   "execution_count": 8,
   "id": "239fa506-1850-42cb-82dc-1caa4ca8b89c",
   "metadata": {},
   "outputs": [
    {
     "name": "stdin",
     "output_type": "stream",
     "text": [
      "Enter the first number:  231\n",
      "Enter the second number:  31\n"
     ]
    },
    {
     "name": "stdout",
     "output_type": "stream",
     "text": [
      "The GCD of the numbers is: 1\n"
     ]
    }
   ],
   "source": [
    "#33. Write a program that calculates the greatest common divisor (GCD) of two numbers using the Euclidean algorithm.\n",
    "# Take two numbers as input\n",
    "num1 = int(input(\"Enter the first number: \"))\n",
    "num2 = int(input(\"Enter the second number: \"))\n",
    "\n",
    "# Ensure num1 is the larger number\n",
    "if num2 > num1:\n",
    "    num1, num2 = num2, num1\n",
    "\n",
    "while num2 != 0:\n",
    "    temp = num2\n",
    "    num2 = num1 % num2\n",
    "    num1 = temp\n",
    "\n",
    "print(f\"The GCD of the numbers is: {num1}\")\n"
   ]
  },
  {
   "cell_type": "code",
   "execution_count": 10,
   "id": "996b1cc8-f71a-4846-aa28-0117867f6308",
   "metadata": {},
   "outputs": [
    {
     "name": "stdin",
     "output_type": "stream",
     "text": [
      "Enter number of rows for Matrix A:  2\n",
      "Enter number of columns for Matrix A:  2\n",
      "Enter number of rows for Matrix B:  2\n",
      "Enter number of columns for Matrix B:  2\n"
     ]
    },
    {
     "name": "stdout",
     "output_type": "stream",
     "text": [
      "\n",
      "Enter elements for Matrix A:\n"
     ]
    },
    {
     "name": "stdin",
     "output_type": "stream",
     "text": [
      "Enter element at position 1,1 for Matrix A:  1\n",
      "Enter element at position 1,2 for Matrix A:  2\n",
      "Enter element at position 2,1 for Matrix A:  3\n",
      "Enter element at position 2,2 for Matrix A:  4\n"
     ]
    },
    {
     "name": "stdout",
     "output_type": "stream",
     "text": [
      "\n",
      "Enter elements for Matrix B:\n"
     ]
    },
    {
     "name": "stdin",
     "output_type": "stream",
     "text": [
      "Enter element at position 1,1 for Matrix B:  1\n",
      "Enter element at position 1,2 for Matrix B:  1\n",
      "Enter element at position 2,1 for Matrix B:  1\n",
      "Enter element at position 2,2 for Matrix B:  1\n"
     ]
    },
    {
     "name": "stdout",
     "output_type": "stream",
     "text": [
      "\n",
      "Result of Matrix Multiplication (Matrix A x Matrix B):\n",
      "3.0\t3.0\t\n",
      "7.0\t7.0\t\n"
     ]
    }
   ],
   "source": [
    "#34. Build a program that performs matrix multiplication using nested loops and conditional statements.\n",
    "# Get the dimensions of the first matrix from the user\n",
    "rows1 = int(input(\"Enter number of rows for Matrix A: \"))\n",
    "cols1 = int(input(\"Enter number of columns for Matrix A: \"))\n",
    "\n",
    "# Get the dimensions of the second matrix from the user\n",
    "rows2 = int(input(\"Enter number of rows for Matrix B: \"))\n",
    "cols2 = int(input(\"Enter number of columns for Matrix B: \"))\n",
    "\n",
    "# Check if matrix multiplication is possible\n",
    "if cols1 != rows2:\n",
    "    print(\"Matrix multiplication is not possible. Number of columns in Matrix A should be equal to the number of rows in Matrix B.\")\n",
    "else:\n",
    "    # Initialize matrices\n",
    "    matrix_A = []\n",
    "    matrix_B = []\n",
    "    result_matrix = []\n",
    "\n",
    "    # Input elements for Matrix A\n",
    "    print(\"\\nEnter elements for Matrix A:\")\n",
    "    for i in range(rows1):\n",
    "        row_A = []\n",
    "        for j in range(cols1):\n",
    "            row_A.append(float(input(f\"Enter element at position {i+1},{j+1} for Matrix A: \")))\n",
    "        matrix_A.append(row_A)\n",
    "\n",
    "    # Input elements for Matrix B\n",
    "    print(\"\\nEnter elements for Matrix B:\")\n",
    "    for i in range(rows2):\n",
    "        row_B = []\n",
    "        for j in range(cols2):\n",
    "            row_B.append(float(input(f\"Enter element at position {i+1},{j+1} for Matrix B: \")))\n",
    "        matrix_B.append(row_B)\n",
    "\n",
    "    # Initialize the result matrix with zeros\n",
    "    for i in range(rows1):\n",
    "        result_row = []\n",
    "        for j in range(cols2):\n",
    "            result_row.append(0)\n",
    "        result_matrix.append(result_row)\n",
    "\n",
    "    # Perform matrix multiplication\n",
    "    for i in range(rows1):\n",
    "        for j in range(cols2):\n",
    "            for k in range(cols1):\n",
    "                result_matrix[i][j] += matrix_A[i][k] * matrix_B[k][j]\n",
    "\n",
    "    # Display the result matrix\n",
    "    print(\"\\nResult of Matrix Multiplication (Matrix A x Matrix B):\")\n",
    "    for i in range(rows1):\n",
    "        for j in range(cols2):\n",
    "            print(result_matrix[i][j], end=\"\\t\")\n",
    "        print()\n"
   ]
  },
  {
   "cell_type": "code",
   "execution_count": null,
   "id": "090ce167-8741-4283-8bf7-25c13c581d56",
   "metadata": {},
   "outputs": [],
   "source": [
    "#35. Create a program that simulates a basic text-based tic-tac-toe game against the computer.\n",
    "import random\n",
    "\n",
    "# Initialize board\n",
    "board = [[' ']*3 for _ in range(3)]\n",
    "\n",
    "def print_board():\n",
    "    for row in board:\n",
    "        print(\"|\".join(row))\n",
    "        print(\"-\" * 5)\n",
    "\n",
    "print(\"Welcome to Tic-Tac-Toe!\")\n",
    "while True:\n",
    "    print_board()\n",
    "    row, col = map(int, input(\"Enter row and column (0, 1, 2): \").split())\n",
    "    if board[row][col] == ' ':\n",
    "        board[row][col] = 'X'\n",
    "    else:\n",
    "        print(\"Cell occupied. Try again.\")\n",
    "        continue\n",
    "\n",
    "    # Check for player win\n",
    "    if any(all(cell == 'X' for cell in row) for row in board) or \\\n",
    "       any(all(row[i] == 'X' for row in board) for i in range(3)) or \\\n",
    "       all(board[i][i] == 'X' for i in range(3)) or \\\n",
    "       all(board[i][2-i] == 'X' for i in range(3)):\n",
    "        print_board()\n",
    "        print(\"You win!\")\n",
    "        break\n",
    "\n",
    "    # Check for tie\n",
    "    if all(cell != ' ' for row in board for cell in row):\n",
    "        print_board()\n",
    "        print(\"It's a tie!\")\n",
    "        break\n",
    "\n",
    "    # Computer move\n",
    "    empty_cells = [(r, c) for r in range(3) for c in range(3) if board[r][c] == ' ']\n",
    "    if empty_cells:\n",
    "        r, c = random.choice(empty_cells)\n",
    "        board[r][c] = 'O'\n",
    "\n",
    "        # Check for computer win\n",
    "        if any(all(cell == 'O' for cell in row) for row in board) or \\\n",
    "           any(all(row[i] == 'O' for row in board) for i in range(3)) or \\\n",
    "           all(board[i][i] == 'O' for i in range(3)) or \\\n",
    "           all(board[i][2-i] == 'O' for i in range(3)):\n",
    "            print_board()\n",
    "            print(\"Computer ccccwins!\")\n",
    "            break\n"
   ]
  },
  {
   "cell_type": "code",
   "execution_count": 5,
   "id": "875e2b43-4068-4f52-877f-98ea09d13637",
   "metadata": {},
   "outputs": [
    {
     "name": "stdout",
     "output_type": "stream",
     "text": [
      "The first 10 terms of the Fibonacci sequence are: [0, 1, 1, 2, 3, 5, 8, 13, 21, 34]\n"
     ]
    }
   ],
   "source": [
    "#36. Write a program that generates Fibonacci numbers up to a specified term using iterative methods.\n",
    "def fibonacci(n):\n",
    "    if n <= 0:\n",
    "        return []\n",
    "    elif n == 1:\n",
    "        return [0]\n",
    "    elif n == 2:\n",
    "        return [0, 1]\n",
    "    else:\n",
    "        fib_seq = [0, 1]\n",
    "        for i in range(2, n):\n",
    "            next_term = fib_seq[i-1] + fib_seq[i-2]\n",
    "            fib_seq.append(next_term)\n",
    "        return fib_seq\n",
    "\n",
    "# Test the function\n",
    "term = 10\n",
    "print(f\"The first {term} terms of the Fibonacci sequence are: {fibonacci(term)}\")\n"
   ]
  },
  {
   "cell_type": "code",
   "execution_count": 4,
   "id": "ffd6f562-0267-406c-91ff-611cc2f0fddd",
   "metadata": {},
   "outputs": [
    {
     "name": "stdout",
     "output_type": "stream",
     "text": [
      "The 10th term of the Fibonacci sequence is: 55\n"
     ]
    }
   ],
   "source": [
    "def fibonacci(n, memo={}):\n",
    "    if n in memo:\n",
    "        return memo[n]\n",
    "    if n <= 2:\n",
    "        return 1\n",
    "    memo[n] = fibonacci(n - 1, memo) + fibonacci(n - 2, memo)\n",
    "    return memo[n]\n",
    "\n",
    "# Test the function\n",
    "term = 10\n",
    "print(f\"The {term}th term of the Fibonacci sequence is: {fibonacci(term)}\")\n"
   ]
  },
  {
   "cell_type": "code",
   "execution_count": 3,
   "id": "b8ea3f2a-d757-4b18-83a4-7a5722770911",
   "metadata": {},
   "outputs": [
    {
     "name": "stdout",
     "output_type": "stream",
     "text": [
      "Calendar for February 2020\n",
      "Mo Tu We Th Fr Sa Su\n",
      "                1  2 \n",
      " 3  4  5  6  7  8  9 \n",
      "10 11 12 13 14 15 16 \n",
      "17 18 19 20 21 22 23 \n",
      "24 25 26 27 28 29 \n",
      "\n"
     ]
    }
   ],
   "source": [
    "#38. Create a program that generates a calendar for a given month and year using conditional statements.\n",
    "import calendar\n",
    "\n",
    "def generate_calendar(month, year):\n",
    "    # List of month names for display\n",
    "    months = [\n",
    "        \"\", \"January\", \"February\", \"March\", \"April\", \"May\", \"June\",\n",
    "        \"July\", \"August\", \"September\", \"October\", \"November\", \"December\"\n",
    "    ]\n",
    "    \n",
    "    # Days in most months\n",
    "    month_days = [0, 31, 28, 31, 30, 31, 30, 31, 31, 30, 31, 30, 31]\n",
    "\n",
    "    # Check for leap year for February\n",
    "    if month == 2 and (year % 4 == 0 and (year % 100 != 0 or year % 400 == 0)):\n",
    "        month_days[month] = 29\n",
    "\n",
    "    # Start the calendar display\n",
    "    print(f\"Calendar for {months[month]} {year}\")\n",
    "    print(\"Mo Tu We Th Fr Sa Su\")\n",
    "    start_day = calendar.monthrange(year, month)[0]\n",
    "    for _ in range(start_day):\n",
    "        print(\"   \", end='')\n",
    "\n",
    "    # Print the days of the month\n",
    "    for day in range(1, month_days[month] + 1):\n",
    "        print(f\"{day:2} \", end='')\n",
    "        start_day += 1\n",
    "        if start_day == 7:\n",
    "            # Start a new week\n",
    "            print()\n",
    "            start_day = 0\n",
    "    print(\"\\n\")\n",
    "\n",
    "# Test the function\n",
    "generate_calendar(2, 2020)\n"
   ]
  },
  {
   "cell_type": "code",
   "execution_count": 2,
   "id": "380e481d-67f5-40ef-b544-eef9a66d4096",
   "metadata": {},
   "outputs": [
    {
     "name": "stdout",
     "output_type": "stream",
     "text": [
      "Your cards: [9, 10], current score: 19\n",
      "Computer's first card: 10\n"
     ]
    },
    {
     "name": "stdin",
     "output_type": "stream",
     "text": [
      "Type 'y' to get another card, 'n' to pass:  y\n"
     ]
    },
    {
     "name": "stdout",
     "output_type": "stream",
     "text": [
      "Your cards: [9, 10, 10], current score: 29\n",
      "Computer's first card: 10\n",
      "Your final hand: [9, 10, 10], final score: 29\n",
      "Computer's final hand: [10, 4, 5], final score: 19\n",
      "You went over. You lose!\n"
     ]
    }
   ],
   "source": [
    "#39. Build a program that simulates a basic text-based blackjack game against the computer.\n",
    "import random\n",
    "\n",
    "def deal_card():\n",
    "    \"\"\"Return a randomly chosen card.\"\"\"\n",
    "    cards = [2, 3, 4, 5, 6, 7, 8, 9, 10, 10, 10, 10, 11]  # Values of cards, with 10s for face cards and 11 for Ace\n",
    "    return random.choice(cards)\n",
    "\n",
    "def score(hand):\n",
    "    \"\"\"Return the total score of the hand.\"\"\"\n",
    "    total = sum(hand)\n",
    "    # Adjust for Ace if necessary\n",
    "    if total > 21 and 11 in hand:\n",
    "        hand.remove(11)\n",
    "        hand.append(1)\n",
    "        total = sum(hand)\n",
    "    return total\n",
    "\n",
    "def blackjack():\n",
    "    player_hand = [deal_card(), deal_card()]\n",
    "    computer_hand = [deal_card(), deal_card()]\n",
    "\n",
    "    while True:\n",
    "        player_score = score(player_hand)\n",
    "        computer_score = score(computer_hand)\n",
    "\n",
    "        print(f\"Your cards: {player_hand}, current score: {player_score}\")\n",
    "        print(f\"Computer's first card: {computer_hand[0]}\")\n",
    "\n",
    "        if player_score == 21 or computer_score == 21 or player_score > 21:\n",
    "            break\n",
    "\n",
    "        should_continue = input(\"Type 'y' to get another card, 'n' to pass: \")\n",
    "\n",
    "        if should_continue == 'y':\n",
    "            player_hand.append(deal_card())\n",
    "        else:\n",
    "            break\n",
    "\n",
    "    while computer_score < 17 and computer_score != 21:\n",
    "        computer_hand.append(deal_card())\n",
    "        computer_score = score(computer_hand)\n",
    "\n",
    "    print(f\"Your final hand: {player_hand}, final score: {player_score}\")\n",
    "    print(f\"Computer's final hand: {computer_hand}, final score: {computer_score}\")\n",
    "\n",
    "    if player_score > 21:\n",
    "        return \"You went over. You lose!\"\n",
    "    elif computer_score > 21:\n",
    "        return \"Computer went over. You win!\"\n",
    "    elif player_score > computer_score:\n",
    "        return \"You win!\"\n",
    "    elif player_score < computer_score:\n",
    "        return \"You lose!\"\n",
    "    else:\n",
    "        return \"It's a draw!\"\n",
    "\n",
    "print(blackjack())\n"
   ]
  },
  {
   "cell_type": "code",
   "execution_count": 1,
   "id": "02cb3b69-d55f-4f6c-99c1-a70f1531aae2",
   "metadata": {},
   "outputs": [
    {
     "name": "stdout",
     "output_type": "stream",
     "text": [
      "Prime factors of 315 are: [3, 3, 5, 7]\n"
     ]
    }
   ],
   "source": [
    "#40. Write a program that generates the prime factors of a given number using trial division.\n",
    "def prime_factors(n):\n",
    "    factors = []\n",
    "    while n % 2 == 0:\n",
    "        factors.append(2)\n",
    "        n = n // 2\n",
    "    for i in range(3, int(n**0.5) + 1, 2):\n",
    "        while n % i == 0:\n",
    "            factors.append(i)\n",
    "            n = n // i\n",
    "    if n > 2:\n",
    "        factors.append(n)\n",
    "    return factors\n",
    "number = 315\n",
    "print(f\"Prime factors of {number} are: {prime_factors(number)}\")\n"
   ]
  },
  {
   "cell_type": "code",
   "execution_count": null,
   "id": "77e61f7c-5b6f-4110-9a35-24fede99aa3e",
   "metadata": {},
   "outputs": [],
   "source": []
  }
 ],
 "metadata": {
  "kernelspec": {
   "display_name": "Python 3 (ipykernel)",
   "language": "python",
   "name": "python3"
  },
  "language_info": {
   "codemirror_mode": {
    "name": "ipython",
    "version": 3
   },
   "file_extension": ".py",
   "mimetype": "text/x-python",
   "name": "python",
   "nbconvert_exporter": "python",
   "pygments_lexer": "ipython3",
   "version": "3.10.8"
  }
 },
 "nbformat": 4,
 "nbformat_minor": 5
}
