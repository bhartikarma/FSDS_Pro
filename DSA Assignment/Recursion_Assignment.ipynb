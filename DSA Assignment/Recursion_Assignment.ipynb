{
 "cells": [
  {
   "cell_type": "code",
   "execution_count": 8,
   "id": "ef8348aa-2994-4a17-8446-232b1ebfabaa",
   "metadata": {},
   "outputs": [
    {
     "name": "stdout",
     "output_type": "stream",
     "text": [
      "Tower of Hanoi with 3 disks:\n",
      "Move disk 1 from A to C\n",
      "Move disk 2 from A to B\n",
      "Move disk 1 from C to B\n",
      "Move disk 3 from A to C\n",
      "Move disk 1 from B to A\n",
      "Move disk 2 from B to C\n",
      "Move disk 1 from A to C\n"
     ]
    }
   ],
   "source": [
    "'''\n",
    "Q.1 Can you explain the logic and working of the Tower of Hanoi algorithm by writing a Java program?\n",
    "How does the recursion work, and how are the movements of disks between rods accomplished?\n",
    " '''\n",
    "\n",
    "def tower_of_hanoi(n, source_rod, target_rod, auxiliary_rod):\n",
    "    if n == 1:\n",
    "        # If there's only one disk, move it from source_rod to target_rod\n",
    "        print(f\"Move disk 1 from {source_rod} to {target_rod}\")\n",
    "        return\n",
    "\n",
    "    # Move n-1 disks from source_rod to auxiliary_rod using target_rod\n",
    "    tower_of_hanoi(n - 1, source_rod, auxiliary_rod, target_rod)\n",
    "\n",
    "    # Move the nth disk from source_rod to target_rod\n",
    "    print(f\"Move disk {n} from {source_rod} to {target_rod}\")\n",
    "\n",
    "    # Move the n-1 disks from auxiliary_rod to target_rod using source_rod\n",
    "    tower_of_hanoi(n - 1, auxiliary_rod, target_rod, source_rod)\n",
    "\n",
    "# Example usage\n",
    "number_of_disks = 3  # Change this value to the desired number of disks\n",
    "source_rod = 'A'\n",
    "target_rod = 'C'\n",
    "auxiliary_rod = 'B'\n",
    "\n",
    "print(f\"Tower of Hanoi with {number_of_disks} disks:\")\n",
    "tower_of_hanoi(number_of_disks, source_rod, target_rod, auxiliary_rod)\n"
   ]
  },
  {
   "cell_type": "code",
   "execution_count": 6,
   "id": "44fa2da8-3146-44d1-a90c-8ca348bcd9ca",
   "metadata": {},
   "outputs": [
    {
     "name": "stdout",
     "output_type": "stream",
     "text": [
      "4\n",
      "5\n"
     ]
    }
   ],
   "source": [
    "'''\n",
    "Q.2 Given two strings word1 and word2, return the minimum number of operations required to convert word1\n",
    "to word2.\n",
    "\n",
    "Example 1:\n",
    "\n",
    "Input: word1 = \"horse\", word2 = \"ros\"\n",
    "\n",
    "Output: 3\n",
    "\n",
    "Explanation:\n",
    "horse -> rorse (replace 'h' with 'r')\n",
    "\n",
    "rorse -> rose (remove 'r')\n",
    "\n",
    "rose -> ros (remove 'e')\n",
    "\n",
    "Example 2:\n",
    "\n",
    "Input: word1 = \"intention\", word2 = \"execution\"\n",
    "\n",
    "Output: 5\n",
    "\n",
    "Explanation:\n",
    "intention -> inention (remove 't')\n",
    "\n",
    "inention -> enention (replace 'i' with 'e')\n",
    "\n",
    "enention -> exention (replace 'n' with 'x')\n",
    "\n",
    "exention -> exection (replace 'n' with 'c')\n",
    "\n",
    "exection -> execution (insert 'u')\n",
    "'''\n",
    "\n",
    "\n",
    "\n",
    "def min_distance(word1, word2):\n",
    "    m, n = len(word1), len(word2)\n",
    "\n",
    "    # Initialize a 2D array to store the minimum operations\n",
    "    dp = [[0] * (n + 1) for _ in range(m + 1)]\n",
    "\n",
    "    # Initialize the first row and column\n",
    "    for i in range(m + 1):\n",
    "        dp[i][0] = i\n",
    "    for j in range(n + 1):\n",
    "        dp[0][j] = j\n",
    "\n",
    "    # Fill the rest of the 2D array\n",
    "    for i in range(1, m + 1):\n",
    "        for j in range(1, n + 1):\n",
    "            if word1[i - 1] == word2[j - 1]:\n",
    "                dp[i][j] = dp[i - 1][j - 1]\n",
    "            else:\n",
    "                dp[i][j] = min(dp[i - 1][j], dp[i][j - 1], dp[i - 1][j - 1]) + 1\n",
    "\n",
    "    # The bottom-right cell contains the minimum number of operations\n",
    "    return dp[m][n]\n",
    "\n",
    "# Example usage\n",
    "word1_1, word2_1 = \"horse\", \"ros\"\n",
    "output_1 = min_distance(word1_1, word2_1)\n",
    "print(output_1)\n",
    "\n",
    "word1_2, word2_2 = \"intention\", \"execution\"\n",
    "output_2 = min_distance(word1_2, word2_2)\n",
    "print(output_2)\n"
   ]
  },
  {
   "cell_type": "code",
   "execution_count": 9,
   "id": "46a425b9-1a5c-4419-b79e-1da61eb472a8",
   "metadata": {},
   "outputs": [
    {
     "name": "stdout",
     "output_type": "stream",
     "text": [
      "The maximum value in the array is: 22\n"
     ]
    }
   ],
   "source": [
    "#Q. 3 Print the max value of the array [ 13, 1, -3, 22, 5].\n",
    "\n",
    "array = [13, 1, -3, 22, 5]\n",
    "\n",
    "# Initialize max_value with the first element of the array\n",
    "max_value = array[0]\n",
    "\n",
    "# Iterate through the array to find the maximum value\n",
    "for num in array:\n",
    "    if num > max_value:\n",
    "        max_value = num\n",
    "\n",
    "print(\"The maximum value in the array is:\", max_value)\n"
   ]
  },
  {
   "cell_type": "code",
   "execution_count": 10,
   "id": "e0682df4-d804-4224-bb08-50e169b95a81",
   "metadata": {},
   "outputs": [
    {
     "name": "stdout",
     "output_type": "stream",
     "text": [
      "The sum of the values in the array is: 120\n"
     ]
    }
   ],
   "source": [
    "#Q.4 Find the sum of the values of the array [92, 23, 15, -20, 10].\n",
    "array = [92, 23, 15, -20, 10]\n",
    "\n",
    "# Initialize sum_value to 0\n",
    "sum_value = 0\n",
    "\n",
    "# Iterate through the array to find the sum\n",
    "for num in array:\n",
    "    sum_value += num\n",
    "\n",
    "print(\"The sum of the values in the array is:\", sum_value)\n"
   ]
  },
  {
   "cell_type": "code",
   "execution_count": 11,
   "id": "d7097624-ef36-4511-bad6-64de24429115",
   "metadata": {},
   "outputs": [
    {
     "name": "stdout",
     "output_type": "stream",
     "text": [
      "Input 153: Yes\n",
      "Input 134: No\n"
     ]
    }
   ],
   "source": [
    "'''\n",
    "Q.5 Given a number n. Print if it is an armstrong number or not.An armstrong number is a number if the sum\n",
    "of every digit in that number raised to the power of total digits in that number is equal to the number.\n",
    "Example : 153 = 1^3 + 5^3 + 3^3 = 1 + 125 + 27 = 153 hence 153 is an armstrong number. (Easy)\n",
    "Input1 : 153\n",
    "Output1 : Yes\n",
    "Input 2 : 134\n",
    "Output2 : No\n",
    "'''\n",
    "def is_armstrong_number(n):\n",
    "    # Convert the number to a string to find the number of digits\n",
    "    str_n = str(n)\n",
    "    num_digits = len(str_n)\n",
    "\n",
    "    # Calculate the sum of each digit raised to the power of the total digits\n",
    "    armstrong_sum = sum(int(digit) ** num_digits for digit in str_n)\n",
    "\n",
    "    # Check if the sum is equal to the original number\n",
    "    return armstrong_sum == n\n",
    "\n",
    "# Example usage\n",
    "input1 = 153\n",
    "output1 = is_armstrong_number(input1)\n",
    "print(f\"Input {input1}: {'Yes' if output1 else 'No'}\")\n",
    "\n",
    "input2 = 134\n",
    "output2 = is_armstrong_number(input2)\n",
    "print(f\"Input {input2}: {'Yes' if output2 else 'No'}\")\n"
   ]
  },
  {
   "cell_type": "code",
   "execution_count": null,
   "id": "d41f7efb-960a-4c09-8fdf-ffe4f72ab941",
   "metadata": {},
   "outputs": [],
   "source": []
  }
 ],
 "metadata": {
  "kernelspec": {
   "display_name": "Python 3 (ipykernel)",
   "language": "python",
   "name": "python3"
  },
  "language_info": {
   "codemirror_mode": {
    "name": "ipython",
    "version": 3
   },
   "file_extension": ".py",
   "mimetype": "text/x-python",
   "name": "python",
   "nbconvert_exporter": "python",
   "pygments_lexer": "ipython3",
   "version": "3.10.8"
  }
 },
 "nbformat": 4,
 "nbformat_minor": 5
}
