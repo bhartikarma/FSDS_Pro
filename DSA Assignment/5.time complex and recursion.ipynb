{
 "cells": [
  {
   "cell_type": "markdown",
   "id": "df8bea2c-714b-4c82-a74c-91e4e585cb09",
   "metadata": {},
   "source": [
    "Find time complexity of below code blocks :"
   ]
  },
  {
   "cell_type": "markdown",
   "id": "896361e7-a2c0-47e2-be35-1a52e5fae30b",
   "metadata": {},
   "source": [
    "'''\n",
    "Problem 1 :\n",
    "def quicksort(arr):\n",
    "    if len(arr) <= 1:\n",
    "        return arr\n",
    "    pivot = arr[len(arr) // 2]\n",
    "    left = [x for x in arr if x < pivot]\n",
    "    middle = [x for x in arr if x == pivot]\n",
    "    right = [x for x in arr if x > pivot]\n",
    "    return quicksort(left) + middle + quicksort(right)\n",
    "'''\n",
    "\n",
    "two loops are beingused, so worst case will be O(n^2)"
   ]
  },
  {
   "cell_type": "markdown",
   "id": "ef8af472-cca8-454c-abfc-59f412238be6",
   "metadata": {},
   "source": [
    "'''\n",
    "Problem 2 :\n",
    "def nested_loop_example(matrix):\n",
    "    rows, cols = len(matrix), len(matrix[0])\n",
    "    total = 0\n",
    "    for i in range(rows):\n",
    "        for j in range(cols):\n",
    "            total += matrix[i][j]\n",
    "    return total\n",
    "'''\n",
    "\n",
    "The total number of iterations is the product of the number of rows and columns, which is rows×cols.\n",
    "Therefore, the time complexity of this code is \n",
    "\n",
    "O(rows×cols) --> O(n*m)--> O(n^2)"
   ]
  },
  {
   "cell_type": "markdown",
   "id": "5287685b-ed24-47de-a584-cc9152e5cfd2",
   "metadata": {},
   "source": [
    "'''\n",
    "Problem 3 :\n",
    "def example_function(arr):\n",
    "    result = 0\n",
    "    for element in arr:\n",
    "        result += element\n",
    "    return result\n",
    "'''\n",
    "\n",
    "The function iterates over each element in the array once.\n",
    "The time complexity is linear with respect to the size of the array.\n",
    "Therefore, the time complexity of this code is O(n)\n",
    "\n"
   ]
  },
  {
   "cell_type": "markdown",
   "id": "92221a81-bcba-4f92-a16f-0b6386b1054a",
   "metadata": {},
   "source": [
    "'''\n",
    "Problem 4 :\n",
    "def longest_increasing_subsequence(nums):\n",
    "    n = len(nums)\n",
    "    lis = [1] * n\n",
    "    \n",
    "    for i in range(1, n):\n",
    "        for j in range(0, i):\n",
    "            if nums[i] > nums[j] and lis[i] < lis[j] + 1:\n",
    "                lis[i] = lis[j] + 1\n",
    "    \n",
    "    return max(lis)\n",
    "'''\n",
    "The function uses a nested loop structure. The outer loop runs in O(n) time, and the inner loop runs in \n",
    "O(n) time in the worst case.\n",
    "herefore, the overall time complexity of this code is O(n^2)"
   ]
  },
  {
   "cell_type": "markdown",
   "id": "c3015cee-131a-4bf6-ba4a-6f83a9ff2570",
   "metadata": {},
   "source": [
    "'''\n",
    "Problem 5 :\n",
    "def mysterious_function(arr):\n",
    "    n = len(arr)\n",
    "    result = 0\n",
    "    for i in range(n):\n",
    "        for j in range(i, n):\n",
    "            result += arr[i] * arr[j]\n",
    "    return result\n",
    "'''The overall time complexity is determined by the two nested loops, resulting in O(n^2)\n",
    "\n"
   ]
  },
  {
   "cell_type": "markdown",
   "id": "cb0d631a-be3e-4492-876f-cfcc0a3f77db",
   "metadata": {},
   "source": [
    "Solve the following problems on recursion"
   ]
  },
  {
   "cell_type": "code",
   "execution_count": 36,
   "id": "d2880f87-4c8e-46e1-aa45-a2e9ad9a0c99",
   "metadata": {},
   "outputs": [
    {
     "name": "stdout",
     "output_type": "stream",
     "text": [
      "6\n"
     ]
    }
   ],
   "source": [
    "'''\n",
    "Problem 6 : Sum of Digits\n",
    "Write a recursive function to calculate the sum of digits of a given positive integer.\n",
    "sum_of_digits(123) -> 6'''\n",
    "\n",
    "def sum_of_digits(n):\n",
    "    # Base case: if the number is a single digit\n",
    "    if n < 10:\n",
    "        return n\n",
    "    # Recursive case: sum the last digit with the sum of the rest of the digits\n",
    "    else:\n",
    "        return n % 10 + sum_of_digits(n // 10)\n",
    "\n",
    "# Example usage for n = 123\n",
    "result = sum_of_digits(123)\n",
    "print(result)\n"
   ]
  },
  {
   "cell_type": "code",
   "execution_count": 34,
   "id": "8cd98cc9-4531-48df-ac6f-e202b8e8cb2a",
   "metadata": {},
   "outputs": [
    {
     "name": "stdout",
     "output_type": "stream",
     "text": [
      "[0, 1, 1, 2, 3, 5]\n"
     ]
    }
   ],
   "source": [
    "'''\n",
    "Problem 7: Fibonacci Series\n",
    "Write a recursive function to generate the first n numbers of the Fibonacci series.\n",
    "fibonacci_series(6) -> [0, 1, 1, 2, 3, 5]'''\n",
    "\n",
    "def fibonacci_series(n):\n",
    "    if n <= 0:\n",
    "        return []\n",
    "    elif n == 1:\n",
    "        return [0]\n",
    "    elif n == 2:\n",
    "        return [0, 1]\n",
    "    else:\n",
    "        # Generate the rest of the series recursively\n",
    "        series = fibonacci_series(n - 1)\n",
    "        series.append(series[-1] + series[-2])\n",
    "        return series\n",
    "\n",
    "# Example usage for n = 6\n",
    "result = fibonacci_series(6)\n",
    "print(result)\n"
   ]
  },
  {
   "cell_type": "code",
   "execution_count": 35,
   "id": "0a7adf64-09aa-4081-95ab-c355f1b56548",
   "metadata": {},
   "outputs": [
    {
     "name": "stdout",
     "output_type": "stream",
     "text": [
      "True\n"
     ]
    }
   ],
   "source": [
    "'''\n",
    "Problem 8 : Subset Sum\n",
    "Given a set of positive integers and a target sum, write a recursive function to determine if there exists a subset\n",
    "of the integers that adds up to the target sum.\n",
    "subset_sum([3, 34, 4, 12, 5, 2], 9) -> True'''\n",
    "\n",
    "def subset_sum(nums, target):\n",
    "    # Helper function to check if there exists a subset with the given sum\n",
    "    def is_subset_sum(nums, n, target):\n",
    "        # Base cases\n",
    "        if target == 0:\n",
    "            return True\n",
    "        if n == 0 and target != 0:\n",
    "            return False\n",
    "\n",
    "        # If the last element is greater than the target, ignore it\n",
    "        if nums[n - 1] > target:\n",
    "            return is_subset_sum(nums, n - 1, target)\n",
    "\n",
    "        # Check if there is a subset with the given sum by either including or excluding the last element\n",
    "        return is_subset_sum(nums, n - 1, target) or is_subset_sum(nums, n - 1, target - nums[n - 1])\n",
    "\n",
    "    # Start the recursive function\n",
    "    return is_subset_sum(nums, len(nums), target)\n",
    "\n",
    "# Example usage for nums = [3, 34, 4, 12, 5, 2] and target = 9\n",
    "result = subset_sum([3, 34, 4, 12, 5, 2], 9)\n",
    "print(result)\n"
   ]
  },
  {
   "cell_type": "code",
   "execution_count": 32,
   "id": "39f0531e-b120-48a2-8ea0-8c19bf5c93dc",
   "metadata": {},
   "outputs": [
    {
     "name": "stdout",
     "output_type": "stream",
     "text": [
      "False\n"
     ]
    }
   ],
   "source": [
    "'''\n",
    "Problem 9: Word Break\n",
    "Given a non-empty string and a dictionary of words, write a recursive function to determine if the string can be\n",
    "segmented into a space-separated sequence of dictionary words.\n",
    "word_break( leetcode , [ leet , code ]) -> True'''\n",
    "\n",
    "def word_break(wordList, word):\n",
    "    if word == \"\":\n",
    "        return True\n",
    "    else:\n",
    "        wordLen = len(word)\n",
    "        for i in range(1, wordLen + 1):\n",
    "            if word[:i] in wordList and word_break(wordList, word[i:]):\n",
    "                return True\n",
    "        return False\n",
    "\n",
    "# Example usage\n",
    "wordList = [\"leet\", \"code\"]\n",
    "input_word = \"leet code\"\n",
    "result = word_break(wordList, input_word)\n",
    "\n",
    "print(result)\n"
   ]
  },
  {
   "cell_type": "code",
   "execution_count": 33,
   "id": "4977c127-6ef1-49a2-9f6e-45477075ee27",
   "metadata": {},
   "outputs": [
    {
     "name": "stdout",
     "output_type": "stream",
     "text": [
      ". . Q . \n",
      "Q . . . \n",
      ". . . Q \n",
      ". Q . . \n"
     ]
    }
   ],
   "source": [
    "'''\n",
    "Problem 10 : N-Queens\n",
    "Implement a recursive function to solve the N Queens problem, where you have to place N queens on an N×N\n",
    "chessboard in such a way that no two queens threaten each other.\n",
    "n_queens(4)\n",
    "[\n",
    "[\".Q..\",\n",
    "\"...Q\",\n",
    "\"Q...\",\n",
    "\"..Q.\"],\n",
    "[\"..Q.\",\n",
    "\"Q...\",\n",
    "\"...Q\",\n",
    "\".Q..\"]\n",
    "]\n",
    "'''\n",
    "'''LOGIC--> Queen can move in any direction(8), and can move any steps.\n",
    "4 queens on 4X4 matrix\n",
    "\n",
    "go column wise, for first column can place Q anywhere, now move to C2, and place Q... keep following.\n",
    "if in any column not able to place Q, back track and go to previous column and try changing Q position, an go back till C1 also.\n",
    "'''\n",
    "\n",
    "# Return True if it's safe to place queen on the board\n",
    "# N Queen Problem\n",
    "# Return True if it's safe to place queen on the board\n",
    "def isSafeToPlaceQueen(board , row , col , n):\n",
    "\n",
    "  # Check in the left side\n",
    "  for i in range(col):\n",
    "    if board[row][i]==1 :\n",
    "      return False\n",
    "\n",
    "  #Check in the upper left diagonal\n",
    "  for i, j in zip(range(row,-1,-1),range(col,-1,-1)):\n",
    "    if board[i][j] ==1:\n",
    "      return False\n",
    "\n",
    "  #Check in the lower left diagonal\n",
    "  for i,j in zip(range(row,n,1 ), range(col, -1,-1)):\n",
    "    if board[i][j]==1:\n",
    "      return False\n",
    "\n",
    "  return True\n",
    "\n",
    "\n",
    "def solveNQ(board,n):\n",
    "\n",
    "  if not solveNQUtil(board,0,n):\n",
    "    print(\"Solution doesn't exist\")\n",
    "    return\n",
    "\n",
    "  printBoard(board,n)\n",
    "\n",
    "# Should return True if we are able to place all the queens\n",
    "def solveNQUtil(board , col , n):\n",
    "  if(col >=n): #Base condition\n",
    "    return True  # Means we have bee able to put queens in all the columns\n",
    "\n",
    "  # Check for all the rows\n",
    "  for row in range(n) :\n",
    "    if isSafeToPlaceQueen(board,row,col, n) :\n",
    "      board[row][col]= 1 #Set the queen\n",
    "\n",
    "      #Recursively try for the next columns\n",
    "      if solveNQUtil(board,col+1,n):\n",
    "        return True\n",
    "      #Back Tracking\n",
    "      board[row][col]= 0 # Queen can't be set here\n",
    "\n",
    "  return False #Won't be able to place the queen\n",
    "\n",
    "\n",
    "def printBoard(board,n):\n",
    "  for i in range(n):\n",
    "    for j in range(n):\n",
    "      if board[i][j]==1 :\n",
    "        print(\"Q\",end=\" \")\n",
    "      else :\n",
    "        print(\".\",end=\" \")\n",
    "    print()\n",
    "\n",
    "\n",
    "    \n",
    "#Execution\n",
    "board = [[0,0,0,0],\n",
    "         [0,0,0,0],\n",
    "         [0,0,0,0],\n",
    "         [0,0,0,0]\n",
    "         ]\n",
    "board8 = [[0,0,0,0,0,0,0,0],\n",
    "          [0,0,0,0,0,0,0,0],\n",
    "          [0,0,0,0,0,0,0,0],\n",
    "          [0,0,0,0,0,0,0,0],\n",
    "          [0,0,0,0,0,0,0,0],\n",
    "          [0,0,0,0,0,0,0,0],\n",
    "          [0,0,0,0,0,0,0,0],\n",
    "          [0,0,0,0,0,0,0,0]\n",
    "          ]\n",
    "solveNQ(board,4)"
   ]
  },
  {
   "cell_type": "code",
   "execution_count": null,
   "id": "e2b390ce-d20e-4911-a9b9-bb377bd2c369",
   "metadata": {},
   "outputs": [],
   "source": []
  }
 ],
 "metadata": {
  "kernelspec": {
   "display_name": "Python 3 (ipykernel)",
   "language": "python",
   "name": "python3"
  },
  "language_info": {
   "codemirror_mode": {
    "name": "ipython",
    "version": 3
   },
   "file_extension": ".py",
   "mimetype": "text/x-python",
   "name": "python",
   "nbconvert_exporter": "python",
   "pygments_lexer": "ipython3",
   "version": "3.10.8"
  }
 },
 "nbformat": 4,
 "nbformat_minor": 5
}
