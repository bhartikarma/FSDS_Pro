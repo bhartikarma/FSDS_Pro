{
 "cells": [
  {
   "cell_type": "code",
   "execution_count": 4,
   "id": "7eb217ce-aa99-4fb3-8d08-121648a40620",
   "metadata": {},
   "outputs": [
    {
     "name": "stdout",
     "output_type": "stream",
     "text": [
      "1\n"
     ]
    }
   ],
   "source": [
    "'''Problem 1.Given an array of n numbers, give an algorithm which gives the element appearing maximum\n",
    "number of times? '''\n",
    "\n",
    "''' LOGIC-->\n",
    "1. Sort the array.\n",
    "2. Iterate through the sorted array and keep track of the current element and its count.\n",
    "3. Whenever you encounter a different element, update the current element and reset its count.\n",
    "4. Keep track of the element with the maximum count.\n",
    "'''\n",
    "\n",
    "def find_most_frequent_element(arr):\n",
    "    arr.sort()  # Step 1: Sort the array\n",
    "\n",
    "    max_count = 1  # Minimum count is 1 since every element appears at least once\n",
    "    current_element = arr[0]\n",
    "    current_count = 1\n",
    "\n",
    "    for i in range(1, len(arr)):\n",
    "        if arr[i] == current_element:\n",
    "            current_count += 1\n",
    "        else:\n",
    "            if current_count > max_count:\n",
    "                max_count = current_count\n",
    "                most_frequent_element = current_element\n",
    "\n",
    "            # Reset count for the new element\n",
    "            current_element = arr[i]\n",
    "            current_count = 1\n",
    "\n",
    "    # Check for the last element\n",
    "    if current_count > max_count:\n",
    "        most_frequent_element = current_element\n",
    "\n",
    "    return most_frequent_element\n",
    "\n",
    "# Example usage:\n",
    "arr = [1, 2, 3, 1, 2, 3, 4, 5, 1, 1, 3]\n",
    "result = find_most_frequent_element(arr)\n",
    "print(result)\n",
    "\n"
   ]
  },
  {
   "cell_type": "code",
   "execution_count": 4,
   "id": "2986c458-d88f-40cc-a433-04f05a3c143d",
   "metadata": {},
   "outputs": [
    {
     "name": "stdout",
     "output_type": "stream",
     "text": [
      "Missing number: 5\n"
     ]
    }
   ],
   "source": [
    "'''Problem 2 : We are given a list of n-1 integers and these integers are in the range of 1 to n . There are no\n",
    "duplicates in the list. One of the integers is missing in the list. Give an algorithm to find that element Ex:\n",
    "[1,2,4,6,3,7,8] 5 is the missing num.'''\n",
    "\n",
    "''' LOGIC-->\n",
    "1. Calculate the expected sum of the first n natural numbers using the formula n * (n + 1) // 2.\n",
    "2. Calculate the actual sum of the given list.\n",
    "3. The difference between the expected sum and the actual sum is the missing number.\n",
    "'''\n",
    "def find_missing_number(nums):\n",
    "    n = len(nums) + 1  # Since there are n-1 elements in the list\n",
    "    expected_sum = n * (n + 1) // 2\n",
    "    actual_sum = sum(nums)\n",
    "    missing_number = expected_sum - actual_sum\n",
    "    return missing_number\n",
    "\n",
    "# Example usage:\n",
    "nums = [1, 2, 4, 6, 3, 7, 8]\n",
    "missing_number = find_missing_number(nums)\n",
    "print(\"Missing number:\", missing_number)\n"
   ]
  },
  {
   "cell_type": "code",
   "execution_count": 5,
   "id": "01d50f23-581d-42fd-aaf7-7577b6b83735",
   "metadata": {},
   "outputs": [
    {
     "name": "stdout",
     "output_type": "stream",
     "text": [
      "Number occurring odd times: 3\n"
     ]
    }
   ],
   "source": [
    "'''\n",
    "Problem 3 : Given an array of n positive numbers. All numbers occurs even number of times except 1 which\n",
    "occurs odd number of times. Find that number in O(n) time and O(1) space. Ex: [1,2,3,2,3,1,3]. 3 is repeats odd\n",
    "times.'''\n",
    "\n",
    "'''LOGIC--> using the XOR (exclusive OR) operation. \n",
    "XOR has the property that when you XOR a number with itself, the result is 0. \n",
    "Additionally, XOR is commutative and associative.\n",
    "\n",
    "1. Initialize a variable result to 0.\n",
    "2. Iterate through the array and XOR each element with the result.\n",
    "3. The final value of result will be the number that occurs an odd number of times.\n",
    "\n",
    "Initialize result to 0.\n",
    "Iterate through the array:\n",
    "a. result ^= 1: result becomes 1.\n",
    "b. result ^= 2: result becomes 3.\n",
    "c. result ^= 3: result becomes 0 (since 3 ^ 3 = 0).\n",
    "d. result ^= 2: result becomes 2 (since 0 ^ 2 = 2).\n",
    "e. result ^= 3: result becomes 1 (since 2 ^ 3 = 1).\n",
    "f. result ^= 1: result becomes 0 (since 1 ^ 1 = 0).\n",
    "g. result ^= 3: result becomes 3 (since 0 ^ 3 = 3).\n",
    "The final value of result is 3.\n",
    "'''\n",
    "def find_odd_occurrence(arr):\n",
    "    result = 0\n",
    "    for num in arr:\n",
    "        result ^= num\n",
    "    return result\n",
    "\n",
    "# Example usage:\n",
    "arr = [1, 2, 3, 2, 3, 1, 3]\n",
    "odd_occurrence_number = find_odd_occurrence(arr)\n",
    "print(\"Number occurring odd times:\", odd_occurrence_number)\n"
   ]
  },
  {
   "cell_type": "code",
   "execution_count": 6,
   "id": "4f284ec4-a402-4b54-ba5d-3cda58dd4f91",
   "metadata": {},
   "outputs": [
    {
     "name": "stdout",
     "output_type": "stream",
     "text": [
      "Pair with sum 10: (2, 8)\n"
     ]
    }
   ],
   "source": [
    "'''\n",
    "Problem 4 : Given an array of n elements. Find two elements in the array such that their \n",
    "sum is equal to given element K.'''\n",
    "\n",
    "''' LOGIC--> using 2 pointer method-\n",
    "Calculate the sum of elements at arr[left] and arr[right].\n",
    "If the sum is equal to K, found the pair.\n",
    "If the sum is less than K, increment left.\n",
    "If the sum is greater than K, decrement right.\n",
    "'''\n",
    "\n",
    "def find_pair_with_sum(arr, K):\n",
    "    arr.sort()  # Sort the array (if it's not already sorted)\n",
    "    left, right = 0, len(arr) - 1\n",
    "\n",
    "    while left < right:\n",
    "        current_sum = arr[left] + arr[right]\n",
    "\n",
    "        if current_sum == K:\n",
    "            return arr[left], arr[right]\n",
    "        elif current_sum < K:\n",
    "            left += 1\n",
    "        else:\n",
    "            right -= 1\n",
    "\n",
    "    return None\n",
    "\n",
    "# Example usage:\n",
    "arr = [1, 2, 4, 6, 3, 7, 8]\n",
    "K = 10\n",
    "pair = find_pair_with_sum(arr, K)\n",
    "\n",
    "if pair:\n",
    "    print(f\"Pair with sum {K}: {pair}\")\n",
    "else:\n",
    "    print(f\"No pair with sum {K} found.\")\n"
   ]
  },
  {
   "cell_type": "code",
   "execution_count": 14,
   "id": "e7c841bc-b902-4b2f-9ad0-792548c54d76",
   "metadata": {},
   "outputs": [
    {
     "name": "stdout",
     "output_type": "stream",
     "text": [
      "Closest sum pair: (-80, 88)\n"
     ]
    }
   ],
   "source": [
    "'''\n",
    "Problem 5 : Given an array of both positive and negative numbers, find two numbers such that their sum is\n",
    "closest to 0. Ex: [ 1 ,60 ,-10, 70, -80,85]. Ans : -80,85.'''\n",
    "\n",
    "'''LOGIC--> two-pointer approach\n",
    "sort the array\n",
    "use two pointers to iterate through the array from both ends. \n",
    "Keep track of the minimum sum encountered and the corresponding pair of numbers\n",
    "'''\n",
    "\n",
    "def closest_sum_pair(arr):\n",
    "    arr.sort()\n",
    "    left, right = 0, len(arr) - 1\n",
    "    closest_sum = float('inf')\n",
    "    result_pair = None\n",
    "\n",
    "    while left < right:\n",
    "        current_sum = arr[left] + arr[right]\n",
    "        current_abs_diff = abs(current_sum)\n",
    "\n",
    "        if current_abs_diff < closest_sum:\n",
    "            closest_sum = current_abs_diff\n",
    "            result_pair = (arr[left], arr[right])\n",
    "\n",
    "        if current_sum < 0:\n",
    "            left += 1\n",
    "        elif current_sum > 0:\n",
    "            right -= 1\n",
    "        else:\n",
    "            # If the sum is 0, this is the closest possible sum, so break early\n",
    "            break\n",
    "\n",
    "    return result_pair\n",
    "\n",
    "# Example usage:\n",
    "arr = [1, 60, -10, 70, -80, 88]\n",
    "pair = closest_sum_pair(arr)\n",
    "\n",
    "print(\"Closest sum pair:\", pair)"
   ]
  },
  {
   "cell_type": "code",
   "execution_count": 1,
   "id": "ef5fd31a-b314-41af-8965-6bd72f060c93",
   "metadata": {},
   "outputs": [
    {
     "name": "stdout",
     "output_type": "stream",
     "text": [
      "Triplet with sum 10: (1, 2, 7)\n"
     ]
    }
   ],
   "source": [
    "'''\n",
    "Problem 6 : Given an array of n elements . Find three elements such that their sum is equal to the \n",
    "given number.'''\n",
    "\n",
    "'''LOGIC--> three-pointer approach\n",
    "sort the array\n",
    "Use a nested loop with the outer loop iterating over each element up to the third-to-last element.\n",
    "Check if the current sum equals the target sum.\n",
    "    If true, return the triplet (arr[i], arr[left], arr[right]).\n",
    "    If the current sum is less than the target, increment the left pointer.\n",
    "    If the current sum is greater than the target, decrement the right pointer.\n",
    "'''\n",
    "def find_triplet_with_sum(arr, target_sum):\n",
    "    arr.sort()  # Sort the array in ascending order\n",
    "\n",
    "    n = len(arr)\n",
    "\n",
    "    for i in range(n - 2):\n",
    "        left = i + 1\n",
    "        right = n - 1\n",
    "\n",
    "        while left < right:\n",
    "            current_sum = arr[i] + arr[left] + arr[right]\n",
    "\n",
    "            if current_sum == target_sum:\n",
    "                return arr[i], arr[left], arr[right]\n",
    "            elif current_sum < target_sum:\n",
    "                left += 1\n",
    "            else:\n",
    "                right -= 1\n",
    "\n",
    "    return None  # If no triplet is found\n",
    "\n",
    "# Example usage:\n",
    "arr = [1, 4, 2, 5, 7, 3]\n",
    "target_sum = 10\n",
    "result = find_triplet_with_sum(arr, target_sum)\n",
    "\n",
    "if result:\n",
    "    print(f\"Triplet with sum {target_sum}: {result}\")\n",
    "else:\n",
    "    print(\"No triplet found with the given sum.\")\n"
   ]
  },
  {
   "cell_type": "code",
   "execution_count": 2,
   "id": "1353d707-456b-4a57-a636-0227969f536e",
   "metadata": {},
   "outputs": [
    {
     "name": "stdout",
     "output_type": "stream",
     "text": [
      "Triplet satisfying the Pythagorean theorem: (3, 4, 5)\n"
     ]
    }
   ],
   "source": [
    "'''\n",
    "Problem 7 : Given an array of n elements . Find three elements i, j, k in the array such that\n",
    "\n",
    "i * i + j * j = k*k.\n",
    "'''\n",
    "'''LOGIC--> Tripple pointer method\n",
    "Sort the Array\n",
    "If the sum of squares is less than the square of the largest element, increment i. If it's greater, decrement j.\n",
    "'''\n",
    "def find_triplet_pythagorean(arr):\n",
    "    arr.sort()  # Sort the array in ascending order\n",
    "\n",
    "    n = len(arr)\n",
    "\n",
    "    for k in range(n - 1, 1, -1):\n",
    "        i = 0\n",
    "        j = k - 1\n",
    "\n",
    "        while i < j:\n",
    "            sum_of_squares = arr[i]**2 + arr[j]**2\n",
    "\n",
    "            if sum_of_squares == arr[k]**2:\n",
    "                return arr[i], arr[j], arr[k]\n",
    "            elif sum_of_squares < arr[k]**2:\n",
    "                i += 1\n",
    "            else:\n",
    "                j -= 1\n",
    "\n",
    "    return None  # If no triplet is found\n",
    "\n",
    "# Example usage:\n",
    "arr = [3, 1, 4, 6, 5]\n",
    "result = find_triplet_pythagorean(arr)\n",
    "\n",
    "if result:\n",
    "    print(f\"Triplet satisfying the Pythagorean theorem: {result}\")\n",
    "else:\n",
    "    print(\"No triplet found satisfying the Pythagorean theorem.\")\n"
   ]
  },
  {
   "cell_type": "code",
   "execution_count": 4,
   "id": "568df159-ed54-430d-a716-933275115fc3",
   "metadata": {},
   "outputs": [
    {
     "name": "stdout",
     "output_type": "stream",
     "text": [
      "No majority element found.\n"
     ]
    }
   ],
   "source": [
    "'''\n",
    "Problem 8 : An element is a majority if it appears more than n/2 times. Give an algorithm takes an array of n\n",
    "element as argument and identifies a majority (if it exists).'''\n",
    "\n",
    "'''Logic--> Boyer-Moore Majority Vote algorithm\n",
    "This algorithm works under the assumption that a majority element (if it exists) will always be the majority \n",
    "after removing any other elements.\n",
    "\n",
    "Steps--\n",
    "Iterate through the array and maintain a candidate for the majority element.\n",
    "If the count becomes zero, update the candidate to the current element; otherwise, increment or decrement the count based on whether the current element is the same as the candidate.\n",
    "\n",
    "After finding a candidate, iterate through the array again to count the occurrences of the candidate.\n",
    "If the count is greater than half of the array's length, then the candidate is the majority element; otherwise, no majority element exists.\n",
    "\n",
    "'''\n",
    "\n",
    "def find_majority_element(arr):\n",
    "    candidate = None\n",
    "    count = 0\n",
    "\n",
    "    # Step 1: Find a candidate for the majority element\n",
    "    for num in arr:\n",
    "        if count == 0:\n",
    "            candidate = num\n",
    "            count = 1\n",
    "        elif num == candidate:\n",
    "            count += 1\n",
    "        else:\n",
    "            count -= 1\n",
    "\n",
    "    # Step 2: Verify if the candidate is the majority element\n",
    "    count = 0\n",
    "    for num in arr:\n",
    "        if num == candidate:\n",
    "            count += 1\n",
    "\n",
    "    if count > len(arr) // 2:\n",
    "        return candidate\n",
    "    else:\n",
    "        return None  # No majority element found\n",
    "\n",
    "# Example usage:\n",
    "arr = [3, 3, 4, 4, 2, 4, 2, 4, 4]\n",
    "result = find_majority_element(arr)\n",
    "\n",
    "if result is not None:\n",
    "    print(f\"The majority element is: {result}\")\n",
    "else:\n",
    "    print(\"No majority element found.\")\n"
   ]
  },
  {
   "cell_type": "code",
   "execution_count": 5,
   "id": "a1cbd4b4-00a6-469d-8702-d741735f5506",
   "metadata": {},
   "outputs": [
    {
     "name": "stdout",
     "output_type": "stream",
     "text": [
      "The row with the maximum number of 0's is: 3\n"
     ]
    }
   ],
   "source": [
    "'''\n",
    "Problem 9 : Given n × n matrix, and in each row all 1’s are followed by 0’s. Find the row with the maximum\n",
    "number of 0’s.\n",
    "'''\n",
    "\n",
    "def find_row_with_max_zeros(matrix):\n",
    "    max_zeros_row = 0  # Initialize the row with maximum zeros\n",
    "    max_zeros_count = 0  # Initialize the count of maximum zeros\n",
    "\n",
    "    n = len(matrix)\n",
    "\n",
    "    # Traverse each row in the matrix\n",
    "    for i in range(n):\n",
    "        zeros_count = matrix[i].count(0)\n",
    "\n",
    "        # Update max_zeros_row if the current row has more zeros\n",
    "        if zeros_count > max_zeros_count:\n",
    "            max_zeros_count = zeros_count\n",
    "            max_zeros_row = i\n",
    "\n",
    "    return max_zeros_row\n",
    "\n",
    "# Example usage:\n",
    "matrix = [\n",
    "    [1, 1, 1, 0, 0],\n",
    "    [1, 1, 0, 0, 0],\n",
    "    [1, 1, 1, 1, 0],\n",
    "    [1, 0, 0, 0, 0],\n",
    "    [1, 1, 1, 0, 0]\n",
    "]\n",
    "\n",
    "result = find_row_with_max_zeros(matrix)\n",
    "print(f\"The row with the maximum number of 0's is: {result}\")\n"
   ]
  },
  {
   "cell_type": "code",
   "execution_count": 6,
   "id": "a0f938d0-f415-4629-a9bb-22f455a2b44b",
   "metadata": {},
   "outputs": [
    {
     "name": "stdout",
     "output_type": "stream",
     "text": [
      "Sorted array: [0, 0, 0, 0, 0, 1, 1, 1, 1, 1, 2, 2]\n"
     ]
    }
   ],
   "source": [
    "'''\n",
    "Problem 10 : Sort an array of 0’s, 1’s and 2’s [or R’s, G’s and B’s]: Given an array A[] consisting of 0’s, 1’s and\n",
    "2’s, give an algorithm for sorting A[].The algorithm should put all 0’s first, then all 1’s and finally all 2’s at the\n",
    "end. Example Input = {0,1,1,0,1,2,1,2,0,0,0,1}, Output = {0,0,0,0,0,1,1,1,1,1,2,2}'''\n",
    "\n",
    "'''Logic--> quicksort algorithm\n",
    "\n",
    "'''\n",
    "def sort_colors(arr):\n",
    "    low, mid, high = 0, 0, len(arr) - 1\n",
    "\n",
    "    while mid <= high:\n",
    "        if arr[mid] == 0:\n",
    "            arr[low], arr[mid] = arr[mid], arr[low]\n",
    "            low += 1\n",
    "            mid += 1\n",
    "        elif arr[mid] == 1:\n",
    "            mid += 1\n",
    "        else:\n",
    "            arr[mid], arr[high] = arr[high], arr[mid]\n",
    "            high -= 1\n",
    "\n",
    "# Example usage:\n",
    "arr = [0, 1, 1, 0, 1, 2, 1, 2, 0, 0, 0, 1]\n",
    "sort_colors(arr)\n",
    "\n",
    "print(\"Sorted array:\", arr)\n"
   ]
  },
  {
   "cell_type": "code",
   "execution_count": null,
   "id": "8d50e8fa-888a-4b79-bf47-7f55969d2a93",
   "metadata": {},
   "outputs": [],
   "source": []
  }
 ],
 "metadata": {
  "kernelspec": {
   "display_name": "Python 3 (ipykernel)",
   "language": "python",
   "name": "python3"
  },
  "language_info": {
   "codemirror_mode": {
    "name": "ipython",
    "version": 3
   },
   "file_extension": ".py",
   "mimetype": "text/x-python",
   "name": "python",
   "nbconvert_exporter": "python",
   "pygments_lexer": "ipython3",
   "version": "3.10.8"
  }
 },
 "nbformat": 4,
 "nbformat_minor": 5
}
